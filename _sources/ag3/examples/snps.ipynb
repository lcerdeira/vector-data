{
 "cells": [
  {
   "cell_type": "markdown",
   "metadata": {
    "id": "OTETZXLSOywB"
   },
   "source": [
    "# Single nucleotide polymorphisms (SNPs)\n",
    "\n",
    "This notebook looks in more detail at how single nucleotide polymorphisms (SNPs) are represented in the Ag1000G phase 3 (Ag3) data release. We'll also look at the different site filters that we've created to help select high quality SNPs for robust population genetic analyses. As always, this notebook is executable, click the launch icon (<i class=\"fas fa-rocket\"></i>) at the top of the page and select a cloud computing service if you'd like to try running it for yourself.\n"
   ]
  },
  {
   "cell_type": "markdown",
   "metadata": {
    "id": "QGOY0Vup3lPq"
   },
   "source": [
    "## Setup\n",
    "\n",
    "Install some packages. You can skip this step if running on MyBinder, these will be already installed."
   ]
  },
  {
   "cell_type": "code",
   "execution_count": null,
   "metadata": {
    "colab": {
     "base_uri": "https://localhost:8080/"
    },
    "id": "eO3U6Mm4OywC",
    "outputId": "14f5b29e-54ff-44ff-e730-b3f23da9b26a",
    "tags": [
     "hide-output"
    ]
   },
   "outputs": [],
   "source": [
    "!pip install -q \\\n",
    "    zarr==2.6.1 \\\n",
    "    fsspec==0.8.7 \\\n",
    "    gcsfs==0.7.2 \\\n",
    "    dask==2021.03.0 \\\n",
    "    xarray==0.18.0 \\\n",
    "    scikit-allel==1.3.5 \\\n",
    "    malariagen_data==0.8.0 \\\n",
    "    seaborn matplotlib"
   ]
  },
  {
   "cell_type": "markdown",
   "metadata": {
    "id": "1T7jTjqupWzi"
   },
   "source": [
    "Import the packages we'll need."
   ]
  },
  {
   "cell_type": "code",
   "execution_count": 2,
   "metadata": {
    "id": "gH1eBkWVOywD"
   },
   "outputs": [],
   "source": [
    "from collections import Counter\n",
    "from functools import lru_cache\n",
    "import numpy as np\n",
    "import pandas as pd\n",
    "import dask\n",
    "import dask.array as da\n",
    "# silence some dask warnings\n",
    "dask.config.set(**{'array.slicing.split_large_chunks': True})\n",
    "import matplotlib as mpl\n",
    "import matplotlib.pyplot as plt\n",
    "%matplotlib inline\n",
    "%config InlineBackend.figure_format = 'retina'\n",
    "import seaborn as sns\n",
    "import allel\n",
    "from dask.diagnostics.progress import ProgressBar\n",
    "import malariagen_data"
   ]
  },
  {
   "cell_type": "markdown",
   "metadata": {
    "id": "GRPJdxXHpWzi"
   },
   "source": [
    "Set up access to the Ag3 data."
   ]
  },
  {
   "cell_type": "code",
   "execution_count": 3,
   "metadata": {
    "id": "xC14hQNgOywD"
   },
   "outputs": [],
   "source": [
    "ag3 = malariagen_data.Ag3(\"gs://vo_agam_release/\")"
   ]
  },
  {
   "cell_type": "markdown",
   "metadata": {
    "id": "Bg5MWrXkOywD"
   },
   "source": [
    "## Preface: navigating the reference genome\n",
    "\n",
    "In case you're not already familiar with the *Anopheles gambiae* genome, here's a quick primer on how it's structured and how we refer to specific sites (positions) within the genome.\n",
    "\n",
    "For Ag1000G analyses we use the AgamP4 reference genome. This genome is comprised of five main sequences:"
   ]
  },
  {
   "cell_type": "code",
   "execution_count": 4,
   "metadata": {
    "colab": {
     "base_uri": "https://localhost:8080/"
    },
    "id": "paQJQ2l2OywD",
    "outputId": "30454bf2-dae6-4fc4-d8a6-e3b0a918e60d"
   },
   "outputs": [
    {
     "data": {
      "text/plain": [
       "('2R', '2L', '3R', '3L', 'X')"
      ]
     },
     "execution_count": 4,
     "metadata": {
      "tags": []
     },
     "output_type": "execute_result"
    }
   ],
   "source": [
    "ag3.contigs"
   ]
  },
  {
   "cell_type": "markdown",
   "metadata": {
    "id": "_11AJe9iOywE"
   },
   "source": [
    "Each of these identifiers (e.g., \"2R\") refers to a sequence of nucleotides, i.e., a sequence of the letters \"A\", \"C\", \"T\" and \"G\". Let's see how long these sequences are."
   ]
  },
  {
   "cell_type": "code",
   "execution_count": 5,
   "metadata": {
    "colab": {
     "base_uri": "https://localhost:8080/"
    },
    "id": "vaqIFc2aOywE",
    "outputId": "868c6a55-a940-44a9-e203-93f98db82670"
   },
   "outputs": [
    {
     "name": "stdout",
     "output_type": "stream",
     "text": [
      "2R: 61,545,105 bp\n",
      "2L: 49,364,325 bp\n",
      "3R: 53,200,684 bp\n",
      "3L: 41,963,435 bp\n",
      "X: 24,393,108 bp\n"
     ]
    }
   ],
   "source": [
    "for contig in ag3.contigs:\n",
    "    seq = ag3.genome_sequence(contig)\n",
    "    print(f\"{contig}: {len(seq):,} bp\")"
   ]
  },
  {
   "cell_type": "markdown",
   "metadata": {
    "id": "q13F1kFMOywE"
   },
   "source": [
    "Let's take a peek at the first 100 letters in one of the sequences (2R)."
   ]
  },
  {
   "cell_type": "code",
   "execution_count": 6,
   "metadata": {
    "colab": {
     "base_uri": "https://localhost:8080/",
     "height": 35
    },
    "id": "MlekovLyOywF",
    "outputId": "db387b03-20be-4267-db5d-82668d80f284"
   },
   "outputs": [
    {
     "data": {
      "application/vnd.google.colaboratory.intrinsic+json": {
       "type": "string"
      },
      "text/plain": [
       "'CTCTAAACATTAATAAAACCAAATACATGATCATATCAAACAAAAATAATCAAGAACAGCTGTGTATTTCAATAAATCAAGAACATATAGACAATACTTC'"
      ]
     },
     "execution_count": 6,
     "metadata": {
      "tags": []
     },
     "output_type": "execute_result"
    }
   ],
   "source": [
    "seq = ag3.genome_sequence(\"2R\")\n",
    "seq[:100].compute().tobytes().decode().upper()"
   ]
  },
  {
   "cell_type": "markdown",
   "metadata": {
    "id": "Zj27bnz7OywF"
   },
   "source": [
    "Here \"bp\" is short for base pair, which is the unit of length of nucleotide sequences. I.e., if a sequence is 10 bp then it is 10 nucleotides (letters) long.\n",
    "\n",
    "In the case of *Anopheles gambiae*, these sequences correspond to chromosome arms. \"2R\" and \"2L\" are the two parts (arms) of Chromosome 2. \"3R\" and \"3L\" are the arms of Chromosome 3. \"X\" is the X chromosome. The X chromosome is a sex chromosome, present in two copies in females and one copy in males. Chromosomes 2 and 3 are autosomes, meaning that both males and females carry two copies. \n",
    "\n",
    "To refer to a specific site (position) within a sequence, we typically use 1-based coordinates. E.g., \"2R:10\" refers to the tenth nucleotide (letter) in the 2R sequence. We can access this nucleotide via Python, but when indexing in Python we need to remember to use zero-based indices. E.g., access the nucleotide at position 10 on chromosome arm 2R:"
   ]
  },
  {
   "cell_type": "code",
   "execution_count": 7,
   "metadata": {
    "colab": {
     "base_uri": "https://localhost:8080/",
     "height": 35
    },
    "id": "gAQIp9qGOywF",
    "outputId": "08c30160-b286-48f7-d68e-ff6e4108b30a"
   },
   "outputs": [
    {
     "data": {
      "application/vnd.google.colaboratory.intrinsic+json": {
       "type": "string"
      },
      "text/plain": [
       "'T'"
      ]
     },
     "execution_count": 7,
     "metadata": {
      "tags": []
     },
     "output_type": "execute_result"
    }
   ],
   "source": [
    "seq[9].compute().tobytes().decode().upper()"
   ]
  },
  {
   "cell_type": "markdown",
   "metadata": {
    "id": "2E-C9_LuOywG"
   },
   "source": [
    "This nucleotide is a \"T\" (thymine).\n",
    "\n",
    "Note that there are also some \"gaps\" in the reference genome, where we don't know what the nucleotide is. These are represented in the sequence with the letter \"N\". Let's take a look at how common these are, for chromosome arm 2R: "
   ]
  },
  {
   "cell_type": "code",
   "execution_count": 8,
   "metadata": {
    "id": "hx5kQOHeOywG"
   },
   "outputs": [],
   "source": [
    "def count_nucleotides(contig):\n",
    "    seq = ag3.genome_sequence(contig).compute()\n",
    "    return Counter(seq).most_common()"
   ]
  },
  {
   "cell_type": "code",
   "execution_count": 9,
   "metadata": {
    "colab": {
     "base_uri": "https://localhost:8080/"
    },
    "id": "FMV_RNmjrdyk",
    "outputId": "5fc45783-e603-447d-947f-36421b27b2b5"
   },
   "outputs": [
    {
     "data": {
      "text/plain": [
       "[(b'T', 14379951),\n",
       " (b'A', 14377315),\n",
       " (b'C', 12197820),\n",
       " (b'G', 12183243),\n",
       " (b't', 2077134),\n",
       " (b'a', 2060370),\n",
       " (b'g', 1430905),\n",
       " (b'c', 1425715),\n",
       " (b'n', 1412612),\n",
       " (b'N', 40)]"
      ]
     },
     "execution_count": 9,
     "metadata": {
      "tags": []
     },
     "output_type": "execute_result"
    }
   ],
   "source": [
    "count_nucleotides(\"2R\")"
   ]
  },
  {
   "cell_type": "markdown",
   "metadata": {
    "id": "_K__QvurOywG"
   },
   "source": [
    "There are two things to notice here. First, there are both upper case and lower case letters. For most purposes you can ignore this, e.g., both \"T\" and \"t\" mean the same thing. Second, there are 1,412,652 nucleotides which are unknown (either \"N\" or \"n\").\n",
    "\n",
    "To gain a bit more intuition for how the genome is structured and the relative sizes of the different sequences, let's make a plot of the five chromosome arms, summarising the relative abundance of the different nucleotides."
   ]
  },
  {
   "cell_type": "code",
   "execution_count": 10,
   "metadata": {
    "id": "jXYvROVMOywG"
   },
   "outputs": [],
   "source": [
    "def plot_sequence_composition(seq_id, window_size=100_000, ax=None):\n",
    "    \n",
    "    # load reference sequence\n",
    "    seq = ag3.genome_sequence(seq_id).compute()\n",
    "    \n",
    "    if ax is None:\n",
    "        # make the figure size relative to largest contig\n",
    "        figw = 11 * len(seq) / len(ag3.genome_sequence(\"2R\"))\n",
    "        fig, ax = plt.subplots(figsize=(figw, 1))\n",
    " \n",
    "    # convert to upper-case\n",
    "    seq = np.char.upper(seq)\n",
    "\n",
    "    # locate nucleotides\n",
    "    is_a = seq == b'A'\n",
    "    is_c = seq == b'C'\n",
    "    is_g = seq == b'G'\n",
    "    is_t = seq == b'T'\n",
    "    is_n = seq == b'N'\n",
    "    # check there's nothing unexpected\n",
    "    is_other = ~is_a & ~is_c & ~is_g & ~is_t & ~is_n\n",
    "    assert np.sum(is_other) == 0\n",
    "\n",
    "    # construct windows\n",
    "    bins = np.arange(0, len(seq), window_size)\n",
    "\n",
    "    # count nucleotides in each window\n",
    "    h_a, _ = np.histogram(np.nonzero(is_a)[0] + 1, bins=bins)\n",
    "    h_c, _ = np.histogram(np.nonzero(is_c)[0] + 1, bins=bins)\n",
    "    h_g, _ = np.histogram(np.nonzero(is_g)[0] + 1, bins=bins)\n",
    "    h_t, _ = np.histogram(np.nonzero(is_t)[0] + 1, bins=bins)\n",
    "    h_n, _ = np.histogram(np.nonzero(is_n)[0] + 1, bins=bins)\n",
    "\n",
    "    # plot frequence of nucleotides within each bin\n",
    "    left = bins[:-1]\n",
    "    bottom = 0\n",
    "    width = np.diff(bins)\n",
    "    palette = sns.color_palette('colorblind')\n",
    "    colors = [palette[i] for i in [2, 0, 3, 8]] + ['k']\n",
    "    for h, c, l in zip([h_a, h_t, h_g, h_c, h_n], colors, 'ATGCN'):\n",
    "        ax.bar(left, h, width=width, bottom=bottom, color=c, align='edge', label=l)\n",
    "        bottom += h\n",
    "        \n",
    "    # tidy up plot\n",
    "    ax.set_xlim(0, len(seq))\n",
    "    ax.set_yticks(ax.get_ylim())\n",
    "    ax.set_yticklabels(['0%', '100%'])\n",
    "    ax.set_title(seq_id)\n",
    "    # convert X axis to Mbp\n",
    "    ax.xaxis.set_major_formatter(mpl.ticker.FuncFormatter(lambda x, p: x//1e6))\n",
    "    ax.set_xlabel(\"Position (Mbp)\")\n",
    "    \n",
    "    # add centromere/telomere annotation\n",
    "    if seq_id in {'2L', '3L'}:\n",
    "        ltxt = \"centromere\"\n",
    "        rtxt = \"telomere\"\n",
    "    else:\n",
    "        ltxt = \"telomere\"\n",
    "        rtxt = \"centromere\"\n",
    "    ax.annotate(ltxt, xy=(0, 1), xycoords=\"axes fraction\", \n",
    "                xytext=(0, 2), textcoords='offset points', va='bottom', ha='left')\n",
    "    ax.annotate(rtxt, xy=(1, 1), xycoords=\"axes fraction\", \n",
    "                xytext=(0, 2), textcoords='offset points', va='bottom', ha='right')\n",
    "    \n",
    "    # add legend\n",
    "    ax.legend(loc='center left', bbox_to_anchor=(1, .5), \n",
    "              prop=dict(family='monospace'), ncol=2,\n",
    "              frameon=False)\n",
    "        "
   ]
  },
  {
   "cell_type": "code",
   "execution_count": 11,
   "metadata": {
    "colab": {
     "base_uri": "https://localhost:8080/",
     "height": 131
    },
    "id": "lxhjGGeKOywH",
    "outputId": "20a4d392-5223-40fb-b33e-bc3e11d66634"
   },
   "outputs": [
    {
     "data": {
      "image/png": "[encoded data removed]",
      "text/plain": [
       "<Figure size 792x72 with 1 Axes>"
      ]
     },
     "metadata": {
      "image/png": {
       "height": 114,
       "width": 765
      },
      "needs_background": "light",
      "tags": []
     },
     "output_type": "display_data"
    }
   ],
   "source": [
    "plot_sequence_composition('2R')"
   ]
  },
  {
   "cell_type": "code",
   "execution_count": 12,
   "metadata": {
    "colab": {
     "base_uri": "https://localhost:8080/",
     "height": 131
    },
    "id": "PsUbt-zVOywH",
    "outputId": "000b1b3d-6860-488d-882f-bd3bc3fc06d8"
   },
   "outputs": [
    {
     "data": {
      "image/png": "[encoded data removed]",
      "text/plain": [
       "<Figure size 635.25x72 with 1 Axes>"
      ]
     },
     "metadata": {
      "image/png": {
       "height": 114,
       "width": 643
      },
      "needs_background": "light",
      "tags": []
     },
     "output_type": "display_data"
    }
   ],
   "source": [
    "plot_sequence_composition('2L')"
   ]
  },
  {
   "cell_type": "code",
   "execution_count": 13,
   "metadata": {
    "colab": {
     "base_uri": "https://localhost:8080/",
     "height": 131
    },
    "id": "lBmIrKrFOywH",
    "outputId": "34146958-2a80-4d21-9297-199943362d59"
   },
   "outputs": [
    {
     "data": {
      "image/png": "[encoded data removed]",
      "text/plain": [
       "<Figure size 684.619x72 with 1 Axes>"
      ]
     },
     "metadata": {
      "image/png": {
       "height": 114,
       "width": 681
      },
      "needs_background": "light",
      "tags": []
     },
     "output_type": "display_data"
    }
   ],
   "source": [
    "plot_sequence_composition('3R')"
   ]
  },
  {
   "cell_type": "code",
   "execution_count": 14,
   "metadata": {
    "colab": {
     "base_uri": "https://localhost:8080/",
     "height": 131
    },
    "id": "uiadzlCsOywH",
    "outputId": "cfdcf11b-0468-4e17-e7ee-16a5d43bff11"
   },
   "outputs": [
    {
     "data": {
      "image/png": "[encoded data removed]",
      "text/plain": [
       "<Figure size 540.011x72 with 1 Axes>"
      ]
     },
     "metadata": {
      "image/png": {
       "height": 114,
       "width": 569
      },
      "needs_background": "light",
      "tags": []
     },
     "output_type": "display_data"
    }
   ],
   "source": [
    "plot_sequence_composition('3L')"
   ]
  },
  {
   "cell_type": "code",
   "execution_count": 15,
   "metadata": {
    "colab": {
     "base_uri": "https://localhost:8080/",
     "height": 131
    },
    "id": "KxQoX5a8OywI",
    "outputId": "bec4aa33-a575-4e2f-e153-cebd4c6f4c08"
   },
   "outputs": [
    {
     "data": {
      "image/png": "[encoded data removed]",
      "text/plain": [
       "<Figure size 313.905x72 with 1 Axes>"
      ]
     },
     "metadata": {
      "image/png": {
       "height": 114,
       "width": 394
      },
      "needs_background": "light",
      "tags": []
     },
     "output_type": "display_data"
    }
   ],
   "source": [
    "plot_sequence_composition('X')"
   ]
  },
  {
   "cell_type": "markdown",
   "metadata": {
    "id": "fa3Uy9mUOywI"
   },
   "source": [
    "A few points to note about the plots above:\n",
    "\n",
    "1. All of the chromosome arms are made up of A, C, T and G in roughly equal proportion, although A and T are a little more common than C and G.\n",
    "\n",
    "1. We annotated each chromosome arm with \"[centromere](https://www.genome.gov/genetics-glossary/Centromere)\" and \"[telomere](https://www.genome.gov/genetics-glossary/Telomere)\". You probably don't need to know what these mean, but it is worth knowing that the sequences at these two different ends of the chromosome tend to be quite different, especially towards the centromere. \n",
    "\n",
    "1. Gaps (N) are relatively uncommon, except towards the centromere of all chromosome arms where they are more common. This is typically because sequences are more repetitive towards the centromeres and so assembling the genome is more difficult. \n",
    "\n",
    "1. We made the size of each figure proportional to the length of the sequence. This was to help give a feeling for the relative size of the different chromosome arms. \n",
    "\n",
    "1. We converted the X-axis coordinates to \"Mbp\" which means mega-base pairs, i.e., millions of letters.\n",
    "\n",
    "Now we're acquainted with the reference genome, let's look at nucleotide variation."
   ]
  },
  {
   "cell_type": "markdown",
   "metadata": {
    "id": "MAK3QEU5OywI"
   },
   "source": [
    "## SNP positions and alleles\n",
    "\n",
    "When studying genetic variation in natural populations, there are two fundamental questions:\n",
    "\n",
    "1. Where in the genome do we observe **differences (i.e., nucleotide variation)** between individual mosquitoes. \n",
    "\n",
    "2. Where in the genome do we observe **no differences (i.e., nucleotide conservation)** between individuals. \n",
    "\n",
    "Sometimes this second question is overlooked, but both questions are important.\n",
    "\n",
    "In Ag1000G phase 3 we have taken a slightly different approach to calling single nucleotide polymorphisms (SNPs - single letter differences) than in previous project phases. Because we are interested in both of the above questions, **we have genotyped all individual mosquitoes at all genomic sites where the reference genotype nucleotide is known (i.e., not an \"N\"), regardless of whether any variation is present**. This is sometimes known as an \"all sites\" analysis. \n",
    "\n",
    "In order to simplify SNP calling across a large number of individuals, **we also declared the set of all possible alternate (variant) SNP alleles ahead of time**. Because we are analysing SNPs and we are not considering any other types of variation at this stage, then at each site in the genome there is one reference allele (i.e., the nucleotide in the reference genome) and three possible alternate alleles. E.g., at position 10 on chromosome arm 2R, the reference allele is \"T\", and so there are three possible alternate alleles: \"A\", \"C\" and \"G\".\n",
    "\n",
    "Let's look at how these data are represented for chromosome arm 2R:"
   ]
  },
  {
   "cell_type": "code",
   "execution_count": 16,
   "metadata": {
    "id": "AK5cs_GWOywI"
   },
   "outputs": [],
   "source": [
    "pos, ref, alt = ag3.snp_sites(contig=\"2R\")"
   ]
  },
  {
   "cell_type": "markdown",
   "metadata": {
    "id": "LuSiSbmaOywJ"
   },
   "source": [
    "The `pos` array here holds the 1-based positions (coordinates) where the SNPs were called. E.g., here's the first 10 SNP positions:"
   ]
  },
  {
   "cell_type": "code",
   "execution_count": 17,
   "metadata": {
    "colab": {
     "base_uri": "https://localhost:8080/"
    },
    "id": "tnwCcDL7OywJ",
    "outputId": "cc3002da-6fa6-430c-ba80-d75039c8d4e5"
   },
   "outputs": [
    {
     "data": {
      "text/plain": [
       "array([ 1,  2,  3,  4,  5,  6,  7,  8,  9, 10], dtype=int32)"
      ]
     },
     "execution_count": 17,
     "metadata": {
      "tags": []
     },
     "output_type": "execute_result"
    }
   ],
   "source": [
    "pos[:10].compute()"
   ]
  },
  {
   "cell_type": "markdown",
   "metadata": {
    "id": "OHjmShYFOywJ"
   },
   "source": [
    "Note that this is simply the positions 1-10. However, these positions **do not** continue increasing by 1 all the way through the array, i.e., there are gaps, because of gaps in the reference genome. We can quickly visualise that, by plotting the distance between adjacent sites:"
   ]
  },
  {
   "cell_type": "code",
   "execution_count": 18,
   "metadata": {
    "id": "78PBXc-aOywJ"
   },
   "outputs": [],
   "source": [
    "def plot_gaps(contig):\n",
    "    pos, _, _ = ag3.snp_sites(contig=contig)\n",
    "    p = pos.compute()\n",
    "    d = np.diff(p)\n",
    "    loc_gap = d > 1\n",
    "    x = p[1:][loc_gap]\n",
    "    y = d[loc_gap]\n",
    "    fig, ax = plt.subplots(figsize=(11, 2))\n",
    "    ax.plot(x, y, color='black', linewidth=.5, marker='o', linestyle=' ', markersize=2, mfc='none')\n",
    "    ax.set_title(\"2R\")\n",
    "    # convert X axis to Mbp\n",
    "    ax.xaxis.set_major_formatter(mpl.ticker.FuncFormatter(lambda x, p: x//1e6))\n",
    "    ax.set_xlabel(\"Position (Mbp)\")\n",
    "    ax.set_ylabel('Gap size (bp)')\n",
    "    "
   ]
  },
  {
   "cell_type": "code",
   "execution_count": 19,
   "metadata": {
    "colab": {
     "base_uri": "https://localhost:8080/",
     "height": 185
    },
    "id": "OgSbGqxQstbW",
    "outputId": "5c4a1afc-2994-44ae-b7cc-297dce3966bd"
   },
   "outputs": [
    {
     "data": {
      "image/png": "[encoded data removed]",
      "text/plain": [
       "<Figure size 792x144 with 1 Axes>"
      ]
     },
     "metadata": {
      "image/png": {
       "height": 168,
       "width": 680
      },
      "needs_background": "light",
      "tags": []
     },
     "output_type": "display_data"
    }
   ],
   "source": [
    "plot_gaps(contig=\"2R\")"
   ]
  },
  {
   "cell_type": "markdown",
   "metadata": {
    "id": "Yzi9PJirOywJ"
   },
   "source": [
    "Note also that the length of the `pos` array is less than the length of the reference genome sequence:"
   ]
  },
  {
   "cell_type": "code",
   "execution_count": 20,
   "metadata": {
    "colab": {
     "base_uri": "https://localhost:8080/"
    },
    "id": "M7K8hmtzOywJ",
    "outputId": "814c8322-cf9b-4030-e09a-87fb4d2167df"
   },
   "outputs": [
    {
     "data": {
      "text/plain": [
       "1412652"
      ]
     },
     "execution_count": 20,
     "metadata": {
      "tags": []
     },
     "output_type": "execute_result"
    }
   ],
   "source": [
    "len(seq) - len(pos)"
   ]
  },
  {
   "cell_type": "markdown",
   "metadata": {
    "id": "Q807xOjNOywJ"
   },
   "source": [
    "This difference is the number of unknown nucleotides (\"N\"s) in the reference genome that we computed earlier. This is another way of confirming that we have called SNP genotypes at all genomic sites where the reference genome nucleotide is known."
   ]
  },
  {
   "cell_type": "markdown",
   "metadata": {
    "id": "2oWsAZdVOywK"
   },
   "source": [
    "The `ref` array holds the reference alleles, i.e., the reference genome nucleotide for each SNP site. E.g., here's the reference alleles at the first 10 SNP sites:"
   ]
  },
  {
   "cell_type": "code",
   "execution_count": 21,
   "metadata": {
    "colab": {
     "base_uri": "https://localhost:8080/"
    },
    "id": "hzC47IG1OywK",
    "outputId": "2ae17f07-9ca4-436d-eb54-5efc58c81dba"
   },
   "outputs": [
    {
     "data": {
      "text/plain": [
       "array([b'C', b'T', b'C', b'T', b'A', b'A', b'A', b'C', b'A', b'T'],\n",
       "      dtype='|S1')"
      ]
     },
     "execution_count": 21,
     "metadata": {
      "tags": []
     },
     "output_type": "execute_result"
    }
   ],
   "source": [
    "ref[:10].compute()"
   ]
  },
  {
   "cell_type": "markdown",
   "metadata": {
    "id": "oMCA3ASoOywK"
   },
   "source": [
    "We can confirm that this corresponds to the nucleotides in the reference sequence by using the SNP positions to index the sequence (remembering to convert to zero-based coordinates):"
   ]
  },
  {
   "cell_type": "code",
   "execution_count": 22,
   "metadata": {
    "colab": {
     "base_uri": "https://localhost:8080/"
    },
    "id": "iwZ4o_DoOywK",
    "outputId": "279b3ea5-de92-4b3e-8e37-bd1fe3bd3363"
   },
   "outputs": [
    {
     "data": {
      "text/plain": [
       "array([b'C', b'T', b'c', b't', b'a', b'a', b'a', b'c', b'a', b't'],\n",
       "      dtype='|S1')"
      ]
     },
     "execution_count": 22,
     "metadata": {
      "tags": []
     },
     "output_type": "execute_result"
    }
   ],
   "source": [
    "seq[pos[:10] - 1].compute()"
   ]
  },
  {
   "cell_type": "markdown",
   "metadata": {
    "id": "LnWdgvM4OywK"
   },
   "source": [
    "The `alt` array holds the predefined alternate alleles at each site. E.g., here are the alternate alleles for the first 10 SNP sites:"
   ]
  },
  {
   "cell_type": "code",
   "execution_count": 23,
   "metadata": {
    "colab": {
     "base_uri": "https://localhost:8080/"
    },
    "id": "Um0TxInJOywK",
    "outputId": "41a54a14-6f84-40b1-a1cc-c5aba77a0ce9"
   },
   "outputs": [
    {
     "data": {
      "text/plain": [
       "array([[b'A', b'T', b'G'],\n",
       "       [b'A', b'C', b'G'],\n",
       "       [b'A', b'T', b'G'],\n",
       "       [b'A', b'C', b'G'],\n",
       "       [b'C', b'T', b'G'],\n",
       "       [b'C', b'T', b'G'],\n",
       "       [b'C', b'T', b'G'],\n",
       "       [b'A', b'T', b'G'],\n",
       "       [b'C', b'T', b'G'],\n",
       "       [b'A', b'C', b'G']], dtype='|S1')"
      ]
     },
     "execution_count": 23,
     "metadata": {
      "tags": []
     },
     "output_type": "execute_result"
    }
   ],
   "source": [
    "alt[:10].compute()"
   ]
  },
  {
   "cell_type": "markdown",
   "metadata": {
    "id": "_rL_Vq9jOywK"
   },
   "source": [
    "Each row represents a site, and the columns show the three possible alternate alleles.\n",
    "\n",
    "The same applies if you are working with the data in VCF format. E.g., here's the first 10 rows of the VCF file with SNP genotypes for sample AR0001-C (see the [download guide](../download) for how to get this file), note the three alternate (ALT) alleles at every site:\n",
    "\n",
    "```\n",
    "#CHROM\tPOS\tID\tREF\tALT\tQUAL\tFILTER\tINFO\tFORMAT\tAR0001-C\n",
    "2R\t1\t.\tC\tA,T,G\t0.08\t.\tExcessHet=3.0103;MLEAC=0,0,0;MLEAF=0.00,0.00,0.00;MQ=14.72\tGT:AD:DP:GQ:PL\t0/0:5,0,0,0:5:6:0,6,52,6,52,52,6,52,52,52\n",
    "2R\t2\t.\tT\tA,C,G\t0.08\t.\tExcessHet=3.0103;MLEAC=0,0,0;MLEAF=0.00,0.00,0.00;MQ=13.44\tGT:AD:DP:GQ:PL\t0/0:6,0,0,0:6:6:0,6,53,6,53,53,6,53,53,53\n",
    "2R\t3\t.\tC\tA,T,G\t0.08\t.\tExcessHet=3.0103;MLEAC=0,0,0;MLEAF=0.00,0.00,0.00;MQ=12.44\tGT:AD:DP:GQ:PL\t0/0:7,0,0,0:7:6:0,6,53,6,53,53,6,53,53,53\n",
    "2R\t4\t.\tT\tA,C,G\t0.08\t.\tExcessHet=3.0103;MLEAC=0,0,0;MLEAF=0.00,0.00,0.00;MQ=12.44\tGT:AD:DP:GQ:PL\t0/0:7,0,0,0:7:6:0,6,53,6,53,53,6,53,53,53\n",
    "2R\t5\t.\tA\tC,T,G\t0.08\t.\tExcessHet=3.0103;MLEAC=0,0,0;MLEAF=0.00,0.00,0.00;MQ=22.81\tGT:AD:DP:GQ:PL\t0/0:9,0,0,0:9:6:0,6,53,6,53,53,6,53,53,53\n",
    "2R\t6\t.\tA\tC,T,G\t0.02\t.\tExcessHet=3.0103;MLEAC=0,0,0;MLEAF=0.00,0.00,0.00;MQ=28.78\tGT:AD:DP:GQ:PL\t0/0:10,0,0,0:10:12:0,12,113,12,113,113,12,113,113,113\n",
    "2R\t7\t.\tA\tC,T,G\t0.02\t.\tExcessHet=3.0103;MLEAC=0,0,0;MLEAF=0.00,0.00,0.00;MQ=27.68\tGT:AD:DP:GQ:PL\t0/0:11,0,0,0:11:12:0,12,118,12,118,118,12,118,118,118\n",
    "2R\t8\t.\tC\tA,T,G\t0.02\t.\tExcessHet=3.0103;MLEAC=0,0,0;MLEAF=0.00,0.00,0.00;MQ=27.68\tGT:AD:DP:GQ:PL\t0/0:11,0,0,0:11:12:0,12,130,12,130,130,12,130,130,130\n",
    "2R\t9\t.\tA\tC,T,G\t0.01\t.\tExcessHet=3.0103;MLEAC=0,0,0;MLEAF=0.00,0.00,0.00;MQ=31.66\tGT:AD:DP:GQ:PL\t0/0:12,0,0,0:12:15:0,15,156,15,156,156,15,156,156,156\n",
    "2R\t10\t.\tT\tA,C,G\t0.01\t.\tExcessHet=3.0103;MLEAC=0,0,0;MLEAF=0.00,0.00,0.00;MQ=34.67\tGT:AD:DP:GQ:PL\t0/0:13,0,0,0:13:18:0,18,181,18,181,181,18,181,181,181\n",
    "```\n"
   ]
  },
  {
   "cell_type": "markdown",
   "metadata": {
    "id": "viK0Wuu13z-x"
   },
   "source": [
    "The most important thing to note about the SNP data in Ag3 is that **not all of these alternate alleles will have been observed in the mosquitoes we sequenced.**\n",
    "\n",
    "To determine which alternate alleles are observed in Ag3, we need to look at the SNP genotypes. Let's take a look at how SNP genotypes are represented, then return to the question of which alternate alleles have been observed."
   ]
  },
  {
   "cell_type": "markdown",
   "metadata": {
    "id": "ukDJ50dkOywL"
   },
   "source": [
    "## Genotypes\n",
    "\n",
    "Here a SNP \"genotype\" means the pair of nucleotides (alleles) carried by an individual mosquito at a specific site in the genome. Note that this is a pair of alleles because mosquitoes are diploid like us, meaning that they carry two copies of their genome, one inherited from each parent (except for males on the X chromosome, which inherit one copy from their mother only).\n",
    "\n",
    "Rather than storing the actual nucleotides for each genotype, it is conventional to use a numerical encoding of genotypes, where 0 stands for the reference allele, 1 stands for the first alternate allele, 2 stands for the second alternate allele, 3 stands for the third alternate allele, etc.\n",
    "\n",
    "E.g., at site 2R:10 the reference allele is \"T\". If an individual mosquito carries a homozygous reference genotype (both genome copies have a \"T\"), we represent this in Python as the pair of integers `(0, 0)`. In a VCF file this is represented as the string \"0/0\".\n",
    "\n",
    "At 2R:10 we have arbitrarily declared that \"A\" is the first alternate allele. If an individual carries a heterozygous genotype, where one genome copy has \"T\" and the other has \"A\", this is represented as the pair `(0, 1)`. The ordering of this pair has no meaning.\n",
    "\n",
    "Similarly, at 2R:10 we have arbitrarily declared that \"C\" is the second alternate allele and \"G\" is the third alternate allele. So, a genotype homozygous for the \"C\" allele would be represented as `(2, 2)`, a genotype homozygous for \"G\" would be `(3, 3)` and a genotype heterozygous for the \"C\" and \"G\" alleles would be `(2, 3)`.\n",
    "\n",
    "There's one more thing to know. Sometimes a genotype is called as missing, meaning that there were no sequence reads for the given individual at a given site. In Python we represent this as a pair of negative numbers `(-1, -1)`. In VCF this is represented as the string \"./.\".\n",
    "\n",
    "Here are those example genotypes again, shown as a table with the different representations:\n",
    "\n",
    "<div class=\"cell_output\">\n",
    "<table border=\"1\" class=\"dataframe\">\n",
    "<thead>\n",
    "<tr>\n",
    "<th>Reference allele</th>\n",
    "<th>Alternate alleles</th>\n",
    "<th>Genotype</th>\n",
    "<th>Genotype (Python)</th>\n",
    "<th>Genotype (VCF)</th>\n",
    "<th>Description</th>\n",
    "</tr>\n",
    "</thead>\n",
    "<tbody>\n",
    "<tr>\n",
    "<th rowspan=\"7\">T</td>\n",
    "<th rowspan=\"7\">A,C,G</td>\n",
    "<td>T/T</td>\n",
    "<td><code>(0, 0)</code></td>\n",
    "<td>0/0</td>\n",
    "<td>homozygous reference</td>\n",
    "</tr>\n",
    "<tr>\n",
    "<td>T/A</td>\n",
    "<td><code>(0, 1)</code></td>\n",
    "<td>0/1</td>\n",
    "<td>heterozygous</td>\n",
    "</tr>\n",
    "<tr>\n",
    "<td>A/A</td>\n",
    "<td><code>(1, 1)</code></td>\n",
    "<td>1/1</td>\n",
    "<td>homozygous alternate</td>\n",
    "</tr>\n",
    "<tr>\n",
    "<td>C/C</td>\n",
    "<td><code>(2, 2)</code></td>\n",
    "<td>2/2</td>\n",
    "<td>homozygous alternate</td>\n",
    "</tr>\n",
    "<tr>\n",
    "<td>G/G</td>\n",
    "<td><code>(3, 3)</code></td>\n",
    "<td>3/3</td>\n",
    "<td>homozygous alternate</td>\n",
    "</tr>\n",
    "<tr>\n",
    "<td>C/G</td>\n",
    "<td><code>(2, 3)</code></td>\n",
    "<td>2/3</td>\n",
    "<td>heterozygous</td>\n",
    "</tr>\n",
    "<tr>\n",
    "<td>missing</td>\n",
    "<td><code>(-1, -1)</code></td>\n",
    "<td>./.</td>\n",
    "<td>missing</td>\n",
    "</tr>\n",
    "</tbody>\n",
    "</table>\n",
    "</div>\n",
    "<br/>\n",
    "\n",
    "To see this in action, let's access the SNP genotypes for chromosome arm 2R for all wild samples in Ag3."
   ]
  },
  {
   "cell_type": "code",
   "execution_count": 24,
   "metadata": {
    "colab": {
     "base_uri": "https://localhost:8080/"
    },
    "id": "jK2z_yzoOywL",
    "outputId": "f043822f-0466-4267-b478-7bbd3e4936c5"
   },
   "outputs": [
    {
     "data": {
      "text/plain": [
       "(60132453, 3081, 2)"
      ]
     },
     "execution_count": 24,
     "metadata": {
      "tags": []
     },
     "output_type": "execute_result"
    }
   ],
   "source": [
    "gt = ag3.snp_genotypes(contig=\"2R\", sample_sets=\"v3\")\n",
    "gt.shape"
   ]
  },
  {
   "cell_type": "markdown",
   "metadata": {
    "id": "QQhOhtqhOywL"
   },
   "source": [
    "The `gt` array has three dimensions. The first dimension corresponds to the genomic sites we've analysed (in this case, there are 60,132,453 sites on chromosome arm 2R). The second dimension (3,081) is the number of individual mosquitoes (a.k.a. samples) sequenced. The third dimension (2) represents the two alleles in each individual genotype.\n",
    "\n",
    "So, e.g., let's look up the genotype call at the 10th site in the 1st sample:"
   ]
  },
  {
   "cell_type": "code",
   "execution_count": 25,
   "metadata": {
    "colab": {
     "base_uri": "https://localhost:8080/"
    },
    "id": "ywvR0hrQOywL",
    "outputId": "02eb6735-3056-4544-9d36-3e2442b9d973"
   },
   "outputs": [
    {
     "data": {
      "text/plain": [
       "array([0, 0], dtype=int8)"
      ]
     },
     "execution_count": 25,
     "metadata": {
      "tags": []
     },
     "output_type": "execute_result"
    }
   ],
   "source": [
    "gt[9, 0].compute()"
   ]
  },
  {
   "cell_type": "markdown",
   "metadata": {
    "id": "kns26KRXOywL"
   },
   "source": [
    "This is a homozygous reference genotype.\n",
    "\n",
    "Let's try another, the 10th site and the 2,393rd sample."
   ]
  },
  {
   "cell_type": "code",
   "execution_count": 26,
   "metadata": {
    "colab": {
     "base_uri": "https://localhost:8080/"
    },
    "id": "os_0ByYYOywM",
    "outputId": "8f87e761-3ff3-4457-a082-5bab98da65d2"
   },
   "outputs": [
    {
     "data": {
      "text/plain": [
       "array([0, 2], dtype=int8)"
      ]
     },
     "execution_count": 26,
     "metadata": {
      "tags": []
     },
     "output_type": "execute_result"
    }
   ],
   "source": [
    "gt[9, 2392].compute()"
   ]
  },
  {
   "cell_type": "markdown",
   "metadata": {
    "id": "QUrqGNI0OywM"
   },
   "source": [
    "This is a heterozygous genotype, where the reference allele and the second alternate allele are both present.\n",
    "\n",
    "Let's look at one more genotype, the 10th site and the 249th sample."
   ]
  },
  {
   "cell_type": "code",
   "execution_count": 27,
   "metadata": {
    "colab": {
     "base_uri": "https://localhost:8080/"
    },
    "id": "Zh4neNW1OywM",
    "outputId": "f73fe904-153a-4117-be01-ce9157fdfaf5"
   },
   "outputs": [
    {
     "data": {
      "text/plain": [
       "array([-1, -1], dtype=int8)"
      ]
     },
     "execution_count": 27,
     "metadata": {
      "tags": []
     },
     "output_type": "execute_result"
    }
   ],
   "source": [
    "gt[9, 248].compute()"
   ]
  },
  {
   "cell_type": "markdown",
   "metadata": {
    "id": "YYlTfF-JOywM"
   },
   "source": [
    "This is a missing genotype call.\n",
    "\n",
    "When working with genotype arrays it can be useful to use the [scikit-allel](http://scikit-allel.readthedocs.org/) package. Let's wrap the `gt` variable, which is a general purpose [dask array](https://docs.dask.org/en/latest/array.html), with the scikit-allel `GenotypeDaskArray` class, which provides some useful functionality for analysing genotype data."
   ]
  },
  {
   "cell_type": "code",
   "execution_count": 28,
   "metadata": {
    "colab": {
     "base_uri": "https://localhost:8080/",
     "height": 196
    },
    "id": "w7GCLdpsOywM",
    "outputId": "056f9719-568b-4bb1-e576-85d39e7f47d3"
   },
   "outputs": [
    {
     "data": {
      "text/html": [
       "<div class=\"allel allel-DisplayAs2D\"><span>&lt;GenotypeDaskArray shape=(60132453, 3081, 2) dtype=int8&gt;</span><table><thead><tr><th></th><th style=\"text-align: center\">0</th><th style=\"text-align: center\">1</th><th style=\"text-align: center\">2</th><th style=\"text-align: center\">3</th><th style=\"text-align: center\">4</th><th style=\"text-align: center\">...</th><th style=\"text-align: center\">3076</th><th style=\"text-align: center\">3077</th><th style=\"text-align: center\">3078</th><th style=\"text-align: center\">3079</th><th style=\"text-align: center\">3080</th></tr></thead><tbody><tr><th style=\"text-align: center; background-color: white; border-right: 1px solid black; \">0</th><td style=\"text-align: center\">0/0</td><td style=\"text-align: center\">./.</td><td style=\"text-align: center\">0/0</td><td style=\"text-align: center\">0/0</td><td style=\"text-align: center\">0/0</td><td style=\"text-align: center\">...</td><td style=\"text-align: center\">0/0</td><td style=\"text-align: center\">0/0</td><td style=\"text-align: center\">0/0</td><td style=\"text-align: center\">0/0</td><td style=\"text-align: center\">0/0</td></tr><tr><th style=\"text-align: center; background-color: white; border-right: 1px solid black; \">1</th><td style=\"text-align: center\">0/0</td><td style=\"text-align: center\">./.</td><td style=\"text-align: center\">0/0</td><td style=\"text-align: center\">0/0</td><td style=\"text-align: center\">0/0</td><td style=\"text-align: center\">...</td><td style=\"text-align: center\">0/0</td><td style=\"text-align: center\">0/0</td><td style=\"text-align: center\">0/0</td><td style=\"text-align: center\">0/0</td><td style=\"text-align: center\">0/0</td></tr><tr><th style=\"text-align: center; background-color: white; border-right: 1px solid black; \">2</th><td style=\"text-align: center\">0/0</td><td style=\"text-align: center\">./.</td><td style=\"text-align: center\">0/0</td><td style=\"text-align: center\">0/0</td><td style=\"text-align: center\">0/0</td><td style=\"text-align: center\">...</td><td style=\"text-align: center\">0/0</td><td style=\"text-align: center\">0/0</td><td style=\"text-align: center\">0/0</td><td style=\"text-align: center\">0/0</td><td style=\"text-align: center\">0/0</td></tr><tr><th style=\"text-align: center; background-color: white; border-right: 1px solid black; \">...</th><td style=\"text-align: center\" colspan=\"12\">...</td></tr><tr><th style=\"text-align: center; background-color: white; border-right: 1px solid black; \">60132450</th><td style=\"text-align: center\">./.</td><td style=\"text-align: center\">./.</td><td style=\"text-align: center\">./.</td><td style=\"text-align: center\">./.</td><td style=\"text-align: center\">./.</td><td style=\"text-align: center\">...</td><td style=\"text-align: center\">./.</td><td style=\"text-align: center\">./.</td><td style=\"text-align: center\">./.</td><td style=\"text-align: center\">./.</td><td style=\"text-align: center\">./.</td></tr><tr><th style=\"text-align: center; background-color: white; border-right: 1px solid black; \">60132451</th><td style=\"text-align: center\">./.</td><td style=\"text-align: center\">./.</td><td style=\"text-align: center\">./.</td><td style=\"text-align: center\">./.</td><td style=\"text-align: center\">./.</td><td style=\"text-align: center\">...</td><td style=\"text-align: center\">./.</td><td style=\"text-align: center\">./.</td><td style=\"text-align: center\">./.</td><td style=\"text-align: center\">./.</td><td style=\"text-align: center\">./.</td></tr><tr><th style=\"text-align: center; background-color: white; border-right: 1px solid black; \">60132452</th><td style=\"text-align: center\">./.</td><td style=\"text-align: center\">./.</td><td style=\"text-align: center\">./.</td><td style=\"text-align: center\">./.</td><td style=\"text-align: center\">./.</td><td style=\"text-align: center\">...</td><td style=\"text-align: center\">./.</td><td style=\"text-align: center\">./.</td><td style=\"text-align: center\">./.</td><td style=\"text-align: center\">./.</td><td style=\"text-align: center\">./.</td></tr></tbody></table></div>"
      ],
      "text/plain": [
       "<GenotypeDaskArray shape=(60132453, 3081, 2) dtype=int8>"
      ]
     },
     "execution_count": 28,
     "metadata": {
      "tags": []
     },
     "output_type": "execute_result"
    }
   ],
   "source": [
    "gt = allel.GenotypeDaskArray(gt)\n",
    "gt"
   ]
  },
  {
   "cell_type": "markdown",
   "metadata": {
    "id": "TcbKQKwD37GH"
   },
   "source": [
    "This wrapper class provided a display showing a preview of genotype calls for the first and last sites and samples, using the VCF-style representation of genotype calls (e.g., \"0/0\" is homozygous reference, etc.).\n",
    "\n",
    "Once we have access to the genotype calls, we can run a variety of different computations. A common computation needed for many analyses is an allele count, which we'll look at next."
   ]
  },
  {
   "cell_type": "markdown",
   "metadata": {
    "id": "fZqU_izjOywM"
   },
   "source": [
    "## Allele counts\n",
    "\n",
    "An allele count involves scanning across all the genotypes at a given site and counting the number of times each allele is observed. I.e., how many 0s, 1s, 2s and 3s are observed. Let's do an allele count for the first 10 sites on chromosome arm 2R."
   ]
  },
  {
   "cell_type": "code",
   "execution_count": 29,
   "metadata": {
    "colab": {
     "base_uri": "https://localhost:8080/",
     "height": 256
    },
    "id": "ByO6jME5OywM",
    "outputId": "ad05ac47-5cc2-4670-8b42-0a86a6b5288c"
   },
   "outputs": [
    {
     "data": {
      "text/html": [
       "<div class=\"allel allel-DisplayAs2D\"><span>&lt;AlleleCountsArray shape=(10, 4) dtype=int32&gt;</span><table><thead><tr><th></th><th style=\"text-align: center\">0</th><th style=\"text-align: center\">1</th><th style=\"text-align: center\">2</th><th style=\"text-align: center\">3</th></tr></thead><tbody><tr><th style=\"text-align: center; background-color: white; border-right: 1px solid black; \">0</th><td style=\"text-align: center\">5871</td><td style=\"text-align: center\">   2</td><td style=\"text-align: center\">   1</td><td style=\"text-align: center\">   0</td></tr><tr><th style=\"text-align: center; background-color: white; border-right: 1px solid black; \">1</th><td style=\"text-align: center\">5930</td><td style=\"text-align: center\">   0</td><td style=\"text-align: center\">   5</td><td style=\"text-align: center\">   1</td></tr><tr><th style=\"text-align: center; background-color: white; border-right: 1px solid black; \">2</th><td style=\"text-align: center\">5981</td><td style=\"text-align: center\">   7</td><td style=\"text-align: center\">   2</td><td style=\"text-align: center\">   0</td></tr><tr><th style=\"text-align: center; background-color: white; border-right: 1px solid black; \">3</th><td style=\"text-align: center\">6033</td><td style=\"text-align: center\">   1</td><td style=\"text-align: center\">   2</td><td style=\"text-align: center\">   0</td></tr><tr><th style=\"text-align: center; background-color: white; border-right: 1px solid black; \">4</th><td style=\"text-align: center\">6050</td><td style=\"text-align: center\">   0</td><td style=\"text-align: center\">   0</td><td style=\"text-align: center\">   0</td></tr><tr><th style=\"text-align: center; background-color: white; border-right: 1px solid black; \">5</th><td style=\"text-align: center\">6070</td><td style=\"text-align: center\">   1</td><td style=\"text-align: center\">   0</td><td style=\"text-align: center\">   3</td></tr><tr><th style=\"text-align: center; background-color: white; border-right: 1px solid black; \">6</th><td style=\"text-align: center\">6080</td><td style=\"text-align: center\">   4</td><td style=\"text-align: center\">   0</td><td style=\"text-align: center\">   0</td></tr><tr><th style=\"text-align: center; background-color: white; border-right: 1px solid black; \">7</th><td style=\"text-align: center\">6073</td><td style=\"text-align: center\">   2</td><td style=\"text-align: center\">   6</td><td style=\"text-align: center\">  15</td></tr><tr><th style=\"text-align: center; background-color: white; border-right: 1px solid black; \">8</th><td style=\"text-align: center\">6118</td><td style=\"text-align: center\">   0</td><td style=\"text-align: center\">   1</td><td style=\"text-align: center\">   1</td></tr><tr><th style=\"text-align: center; background-color: white; border-right: 1px solid black; \">9</th><td style=\"text-align: center\">6120</td><td style=\"text-align: center\">   1</td><td style=\"text-align: center\">   4</td><td style=\"text-align: center\">   1</td></tr></tbody></table></div>"
      ]
     },
     "metadata": {
      "tags": []
     },
     "output_type": "display_data"
    }
   ],
   "source": [
    "ac = gt[:10].count_alleles(max_allele=3).compute()\n",
    "ac.displayall()"
   ]
  },
  {
   "cell_type": "markdown",
   "metadata": {
    "id": "vOS1QcNAonk_"
   },
   "source": [
    "In the `ac` array above, each row represents a site, and the four columns represent the four alleles. The values are the number of times each allele was observed at each site. So, now we can see which alleles have been observed in the Ag3 data.\n",
    "\n",
    "E.g., for the 10th site, the reference allele (`0`) was observed 6120 times, the first alternate allele (`1`) was observed once, the second alternate allele (`2`) was observed four times, and the third alternate allele (`3`) was observed once. So, this is a site where in fact all four possible alleles (nucleotides) were observed in Ag3 samples. This is an example of a multiallelic site.\n",
    "\n",
    "Let's look at some other sites. \n",
    "\n",
    "At the fifth site, only the reference allele was observed. This is an example of an invariant site. I.e., there is no variation there, all samples were homozygous for the reference allele or had a missing genotype call.\n",
    "\n",
    "At the seventh site, two alleles were observed, the reference allele and the first alternate allele. This is an example of a biallelic site. Note that biallelic sites might involve any pair of alleles, not always `0` and `1`.\n",
    "\n",
    "Let's use this allele counts array to compute some properties of these 10 sites."
   ]
  },
  {
   "cell_type": "code",
   "execution_count": 30,
   "metadata": {
    "colab": {
     "base_uri": "https://localhost:8080/"
    },
    "id": "2y-IQO71qVrN",
    "outputId": "cc80d87f-3790-442e-d910-b3885c9a155d"
   },
   "outputs": [
    {
     "data": {
      "text/plain": [
       "array([3, 3, 3, 3, 1, 3, 2, 4, 3, 4])"
      ]
     },
     "execution_count": 30,
     "metadata": {
      "tags": []
     },
     "output_type": "execute_result"
    }
   ],
   "source": [
    "# how many alleles were observed\n",
    "ac.allelism()"
   ]
  },
  {
   "cell_type": "code",
   "execution_count": 31,
   "metadata": {
    "colab": {
     "base_uri": "https://localhost:8080/"
    },
    "id": "SoKLa3GgOywN",
    "outputId": "9598e294-5241-4c0c-c8ad-61bb5ded8ab1"
   },
   "outputs": [
    {
     "data": {
      "text/plain": [
       "array([ True,  True,  True,  True, False,  True,  True,  True,  True,\n",
       "        True])"
      ]
     },
     "execution_count": 31,
     "metadata": {
      "tags": []
     },
     "output_type": "execute_result"
    }
   ],
   "source": [
    "# whether any alternate alleles were observed\n",
    "ac.is_variant()"
   ]
  },
  {
   "cell_type": "code",
   "execution_count": 32,
   "metadata": {
    "colab": {
     "base_uri": "https://localhost:8080/"
    },
    "id": "avehXgcjqOFo",
    "outputId": "7b634770-ba1e-4751-8656-970ef7f8eddf"
   },
   "outputs": [
    {
     "data": {
      "text/plain": [
       "array([ True,  True,  True,  True, False,  True,  True,  True,  True,\n",
       "        True])"
      ]
     },
     "execution_count": 32,
     "metadata": {
      "tags": []
     },
     "output_type": "execute_result"
    }
   ],
   "source": [
    "# whether more than one allele was observed\n",
    "ac.is_segregating()"
   ]
  },
  {
   "cell_type": "code",
   "execution_count": 33,
   "metadata": {
    "colab": {
     "base_uri": "https://localhost:8080/"
    },
    "id": "i_pJV8hIqSwo",
    "outputId": "11fcd8d3-82d2-4133-f0a0-0f41676fad58"
   },
   "outputs": [
    {
     "data": {
      "text/plain": [
       "array([False, False, False, False, False, False,  True, False, False,\n",
       "       False])"
      ]
     },
     "execution_count": 33,
     "metadata": {
      "tags": []
     },
     "output_type": "execute_result"
    }
   ],
   "source": [
    "# whether exactly two alleles were observed\n",
    "ac.is_biallelic()"
   ]
  },
  {
   "cell_type": "code",
   "execution_count": 34,
   "metadata": {
    "colab": {
     "base_uri": "https://localhost:8080/"
    },
    "id": "6PW6fboeOywM",
    "outputId": "8b5dab55-a61c-41b1-8f72-fc62a586576e"
   },
   "outputs": [
    {
     "data": {
      "text/plain": [
       "array([5874, 5936, 5990, 6036, 6050, 6074, 6084, 6096, 6120, 6126])"
      ]
     },
     "execution_count": 34,
     "metadata": {
      "tags": []
     },
     "output_type": "execute_result"
    }
   ],
   "source": [
    "# total number of alleles called\n",
    "an_called = ac.sum(axis=1)\n",
    "an_called"
   ]
  },
  {
   "cell_type": "code",
   "execution_count": 35,
   "metadata": {
    "colab": {
     "base_uri": "https://localhost:8080/"
    },
    "id": "6R7-XzDoq0qi",
    "outputId": "fb1e3a90-d03a-4bd8-deab-2831afbbba87"
   },
   "outputs": [
    {
     "data": {
      "text/plain": [
       "array([288, 226, 172, 126, 112,  88,  78,  66,  42,  36])"
      ]
     },
     "execution_count": 35,
     "metadata": {
      "tags": []
     },
     "output_type": "execute_result"
    }
   ],
   "source": [
    "# total number of missing allele calls\n",
    "an_missing = (gt.shape[1] * 2) - an_called\n",
    "an_missing"
   ]
  },
  {
   "cell_type": "markdown",
   "metadata": {
    "id": "ALqIlh9a3-M3"
   },
   "source": [
    "These arrays can be useful when selecting which sites to use for a given analysis. For example, you might want to select only segregating sites, with at most a certain number of missing allele calls.\n",
    "\n",
    "Now we've seen how SNP positions, alleles and genotypes are represented, let's look at the site filters we've created for Ag3 to help select sites for robust population genetic analyses."
   ]
  },
  {
   "cell_type": "markdown",
   "metadata": {
    "id": "qmU1YOu4OywN"
   },
   "source": [
    "## Site filters\n",
    "\n",
    "When analysing genome variation, there are some sites in the genome where it is difficult to reliably ascertain nucleotide variation and call genotypes. This can be for a variety of reasons. For example, some genome regions are very repetitive, and short sequence reads cannot be aligned unambiguously. Another issue can be that some samples have structural variation in some regions of the genome, where different samples have different numbers of copies of a given sequence. \n",
    "\n",
    "To identify and avoid sites like these, we have created site filters. These are Boolean masks which identify sites where SNP genotyping is reliable, based on the fact that most sequence reads are unambiguously aligned, and there is minimal evidence for structural variation. \n",
    "\n",
    "Because we have multiple mosquito species included in the Ag3 cohort (*An. gambiae*, *An. coluzzii* and *An. arabiensis*) we have created three different site filters which are appropriate in different circumstances, depending on which samples you're analysing. Here is a summary of the three site filters:\n",
    "\n",
    "* \"gamb_colu_arab\" - These site filters are appropriate when performing a joint analysis of samples from any of the three species. They are, however, more stringent the other filters, which we'll explore further below.\n",
    "* \"gamb_colu\" - These site filters are appropriate when analysing only samples that are not *An. arabiensis*.\n",
    "* \"arab\" - These sige filters are appropriate when analysing only samples that are *An. arabiensis*.\n",
    "\n",
    "For each of these filters, there is one Boolean mask per chromosome arm. The Boolean masks are True where a site passes the filter and False otherwise. E.g., here's the `gamb_colu_arab` site filter for chromosome arm 2R:"
   ]
  },
  {
   "cell_type": "code",
   "execution_count": 36,
   "metadata": {
    "colab": {
     "base_uri": "https://localhost:8080/",
     "height": 123
    },
    "id": "NLZBVldIpWzt",
    "outputId": "d751e345-f2aa-49a6-b51b-20efeb9b783c"
   },
   "outputs": [
    {
     "data": {
      "text/html": [
       "<table>\n",
       "<tr>\n",
       "<td>\n",
       "<table>\n",
       "  <thead>\n",
       "    <tr><td> </td><th> Array </th><th> Chunk </th></tr>\n",
       "  </thead>\n",
       "  <tbody>\n",
       "    <tr><th> Bytes </th><td> 60.13 MB </td> <td> 60.13 MB </td></tr>\n",
       "    <tr><th> Shape </th><td> (60132453,) </td> <td> (60132453,) </td></tr>\n",
       "    <tr><th> Count </th><td> 1 Tasks </td><td> 1 Chunks </td></tr>\n",
       "    <tr><th> Type </th><td> bool </td><td> numpy.ndarray </td></tr>\n",
       "  </tbody>\n",
       "</table>\n",
       "</td>\n",
       "<td>\n",
       "<svg width=\"170\" height=\"75\" style=\"stroke:rgb(0,0,0);stroke-width:1\" >\n",
       "\n",
       "  <!-- Horizontal lines -->\n",
       "  <line x1=\"0\" y1=\"0\" x2=\"120\" y2=\"0\" style=\"stroke-width:2\" />\n",
       "  <line x1=\"0\" y1=\"25\" x2=\"120\" y2=\"25\" style=\"stroke-width:2\" />\n",
       "\n",
       "  <!-- Vertical lines -->\n",
       "  <line x1=\"0\" y1=\"0\" x2=\"0\" y2=\"25\" style=\"stroke-width:2\" />\n",
       "  <line x1=\"120\" y1=\"0\" x2=\"120\" y2=\"25\" style=\"stroke-width:2\" />\n",
       "\n",
       "  <!-- Colored Rectangle -->\n",
       "  <polygon points=\"0.0,0.0 120.0,0.0 120.0,25.412616514582485 0.0,25.412616514582485\" style=\"fill:#ECB172A0;stroke-width:0\"/>\n",
       "\n",
       "  <!-- Text -->\n",
       "  <text x=\"60.000000\" y=\"45.412617\" font-size=\"1.0rem\" font-weight=\"100\" text-anchor=\"middle\" >60132453</text>\n",
       "  <text x=\"140.000000\" y=\"12.706308\" font-size=\"1.0rem\" font-weight=\"100\" text-anchor=\"middle\" transform=\"rotate(0,140.000000,12.706308)\">1</text>\n",
       "</svg>\n",
       "</td>\n",
       "</tr>\n",
       "</table>"
      ],
      "text/plain": [
       "dask.array<array, shape=(60132453,), dtype=bool, chunksize=(60132453,), chunktype=numpy.ndarray>"
      ]
     },
     "execution_count": 36,
     "metadata": {
      "tags": []
     },
     "output_type": "execute_result"
    }
   ],
   "source": [
    "loc_pass = ag3.site_filters(contig=\"2R\", mask=\"gamb_colu_arab\")\n",
    "loc_pass"
   ]
  },
  {
   "cell_type": "code",
   "execution_count": 37,
   "metadata": {
    "colab": {
     "base_uri": "https://localhost:8080/"
    },
    "id": "JdOhdJ4apWzu",
    "outputId": "38c52de9-a4a5-41c8-9541-0a55dc244fbc"
   },
   "outputs": [
    {
     "data": {
      "text/plain": [
       "array([False, False, False, False, False, False, False, False, False,\n",
       "       False])"
      ]
     },
     "execution_count": 37,
     "metadata": {
      "tags": []
     },
     "output_type": "execute_result"
    }
   ],
   "source": [
    "# examine the first ten values\n",
    "loc_pass[:10].compute()"
   ]
  },
  {
   "cell_type": "code",
   "execution_count": 38,
   "metadata": {
    "colab": {
     "base_uri": "https://localhost:8080/"
    },
    "id": "2dI8DNmvpWzu",
    "outputId": "637d6ef2-44e1-4a89-bbb0-1e8120e39b5a"
   },
   "outputs": [
    {
     "data": {
      "text/plain": [
       "40561667"
      ]
     },
     "execution_count": 38,
     "metadata": {
      "tags": []
     },
     "output_type": "execute_result"
    }
   ],
   "source": [
    "# how many sites in total pass the filter?\n",
    "loc_pass.sum().compute()"
   ]
  },
  {
   "cell_type": "markdown",
   "metadata": {
    "id": "mYbaA2GDpWzu"
   },
   "source": [
    "To get some intuition for what these site filters look like and how they differ from each other, let's build a summary table showing how many sites pass in each chromosome arm. This may take a minute or two to run."
   ]
  },
  {
   "cell_type": "code",
   "execution_count": 39,
   "metadata": {
    "id": "ueEjGIy4P1V5"
   },
   "outputs": [],
   "source": [
    "def count_filter_pass(contig, mask):\n",
    "    loc_pass = ag3.site_filters(contig=contig, mask=mask)\n",
    "    n_pass = loc_pass.sum().compute()\n",
    "    return n_pass"
   ]
  },
  {
   "cell_type": "code",
   "execution_count": 40,
   "metadata": {
    "colab": {
     "base_uri": "https://localhost:8080/",
     "height": 201
    },
    "id": "0uEGz4eWO1ky",
    "outputId": "9a55f158-93d1-48a8-e171-875f06c72686"
   },
   "outputs": [
    {
     "data": {
      "text/html": [
       "<div>\n",
       "<style scoped>\n",
       "    .dataframe tbody tr th:only-of-type {\n",
       "        vertical-align: middle;\n",
       "    }\n",
       "\n",
       "    .dataframe tbody tr th {\n",
       "        vertical-align: top;\n",
       "    }\n",
       "\n",
       "    .dataframe thead th {\n",
       "        text-align: right;\n",
       "    }\n",
       "</style>\n",
       "<table border=\"1\" class=\"dataframe\">\n",
       "  <thead>\n",
       "    <tr style=\"text-align: right;\">\n",
       "      <th></th>\n",
       "      <th>contig</th>\n",
       "      <th>contig length</th>\n",
       "      <th>no. sites</th>\n",
       "      <th>pass gamb_colu_arab</th>\n",
       "      <th>pass gamb_colu</th>\n",
       "      <th>pass arab</th>\n",
       "    </tr>\n",
       "  </thead>\n",
       "  <tbody>\n",
       "    <tr>\n",
       "      <th>0</th>\n",
       "      <td>2R</td>\n",
       "      <td>61545105</td>\n",
       "      <td>60132453</td>\n",
       "      <td>67.5%</td>\n",
       "      <td>73.9%</td>\n",
       "      <td>73.6%</td>\n",
       "    </tr>\n",
       "    <tr>\n",
       "      <th>1</th>\n",
       "      <td>2L</td>\n",
       "      <td>49364325</td>\n",
       "      <td>48525747</td>\n",
       "      <td>67.0%</td>\n",
       "      <td>74.2%</td>\n",
       "      <td>72.6%</td>\n",
       "    </tr>\n",
       "    <tr>\n",
       "      <th>2</th>\n",
       "      <td>3R</td>\n",
       "      <td>53200684</td>\n",
       "      <td>52226568</td>\n",
       "      <td>63.9%</td>\n",
       "      <td>71.2%</td>\n",
       "      <td>69.8%</td>\n",
       "    </tr>\n",
       "    <tr>\n",
       "      <th>3</th>\n",
       "      <td>3L</td>\n",
       "      <td>41963435</td>\n",
       "      <td>40758473</td>\n",
       "      <td>63.5%</td>\n",
       "      <td>70.4%</td>\n",
       "      <td>69.7%</td>\n",
       "    </tr>\n",
       "    <tr>\n",
       "      <th>4</th>\n",
       "      <td>X</td>\n",
       "      <td>24393108</td>\n",
       "      <td>23385349</td>\n",
       "      <td>48.0%</td>\n",
       "      <td>70.0%</td>\n",
       "      <td>53.3%</td>\n",
       "    </tr>\n",
       "  </tbody>\n",
       "</table>\n",
       "</div>"
      ],
      "text/plain": [
       "  contig  contig length  no. sites pass gamb_colu_arab pass gamb_colu pass arab\n",
       "0     2R       61545105   60132453               67.5%          73.9%     73.6%\n",
       "1     2L       49364325   48525747               67.0%          74.2%     72.6%\n",
       "2     3R       53200684   52226568               63.9%          71.2%     69.8%\n",
       "3     3L       41963435   40758473               63.5%          70.4%     69.7%\n",
       "4      X       24393108   23385349               48.0%          70.0%     53.3%"
      ]
     },
     "execution_count": 40,
     "metadata": {
      "tags": []
     },
     "output_type": "execute_result"
    }
   ],
   "source": [
    "def tabulate_filter_counts():\n",
    "\n",
    "    rows = []\n",
    "    for contig in ag3.contigs:\n",
    "        contig_length = len(ag3.genome_sequence(contig))\n",
    "        n_sites = len(ag3.snp_sites(contig=contig, field=\"POS\"))\n",
    "        row = [contig, contig_length, n_sites]\n",
    "        for mask in \"gamb_colu_arab\", \"gamb_colu\", \"arab\":\n",
    "            n_pass = count_filter_pass(contig=contig, mask=mask)\n",
    "            pc_pass = \"{:.1%}\".format(n_pass / n_sites)\n",
    "            row.append(pc_pass)\n",
    "        rows.append(row)\n",
    "    df = pd.DataFrame.from_records(\n",
    "        rows, \n",
    "        columns=[\"contig\", \"contig length\", \"no. sites\", \"pass gamb_colu_arab\", \"pass gamb_colu\", \"pass arab\"]\n",
    "    )\n",
    "    return df\n",
    "\n",
    "df_filter_counts = tabulate_filter_counts()\n",
    "df_filter_counts"
   ]
  },
  {
   "cell_type": "markdown",
   "metadata": {
    "id": "6-SmtfZP5YxS"
   },
   "source": [
    "There's a couple of things to note about these numbers:\n",
    "\n",
    "1. The percentage of sites passing the `gamb_colu_arab` filter is always lower than either the `gamb_colu` or `arab` filters. This is because the `gamb_colu_arab` filter is the intersection of the two other filters. I.e., a site passes the `gamb_colu_arab` filter if it passes **both** the `gamb_colu` and the `arab` filters.\n",
    "\n",
    "1. The percentage of sites passing the `gamb_colu` and `arab` filters is similar on all chromosome arms, except for the X chromosome. This is because of a large inversion on the X chromosome known as Xag which is a fixed difference between *An. arabiensis* and the other two species, and where there is a higher level of divergence in *An. arabiensis* relative to the reference genome we've used. \n",
    "\n",
    "To gain a bit more intuition for these filters, let's plot the fraction of genome sites that pass the site filters in moving windows over each of the chromosome arms."
   ]
  },
  {
   "cell_type": "code",
   "execution_count": 41,
   "metadata": {
    "id": "wyv-6738OywN"
   },
   "outputs": [],
   "source": [
    "def plot_site_filters(contig, window_size=200_000, ax=None):\n",
    "\n",
    "    # setup figure and axes\n",
    "    if ax is None:\n",
    "        contig_length = len(ag3.genome_sequence(contig))\n",
    "        figw = 11 * contig_length / len(ag3.genome_sequence(\"2R\"))\n",
    "        fig, ax = plt.subplots(figsize=(figw, 2))\n",
    "        sns.despine(ax=ax, offset=5)\n",
    "\n",
    "    # setup X variable\n",
    "    pos = ag3.snp_sites(contig=contig, field=\"POS\").compute()\n",
    "    x = allel.moving_statistic(pos, statistic=np.mean, size=window_size)\n",
    "\n",
    "    # setup Y variables and plot\n",
    "    for mask in \"gamb_colu\", \"arab\", \"gamb_colu_arab\":\n",
    "        loc_pass = ag3.site_filters(contig=contig, mask=mask).compute()\n",
    "        y = allel.moving_statistic(loc_pass, statistic=np.mean, size=window_size)\n",
    "        ax.plot(x, y * 100, label=mask)\n",
    "\n",
    "    # tidy plot\n",
    "    ax.set_xlim(0, contig_length)\n",
    "    ax.set_ylim(0, 100)\n",
    "    ax.set_title(contig)\n",
    "    # convert X axis to Mbp\n",
    "    ax.xaxis.set_major_formatter(mpl.ticker.FuncFormatter(lambda x, p: x//1e6))\n",
    "    ax.set_xlabel(\"Position (Mbp)\")\n",
    "    ax.set_ylabel('% pass')\n",
    "    ax.legend(loc='upper left', bbox_to_anchor=(1, 1), title=\"Filter\",\n",
    "              frameon=False)\n",
    "\n"
   ]
  },
  {
   "cell_type": "code",
   "execution_count": 42,
   "metadata": {
    "colab": {
     "base_uri": "https://localhost:8080/",
     "height": 190
    },
    "id": "0B6ttxYs8k5W",
    "outputId": "d39679dc-dcba-4b0a-b830-627b80406063"
   },
   "outputs": [
    {
     "data": {
      "image/png": "[encoded data removed]",
      "text/plain": [
       "<Figure size 792x144 with 1 Axes>"
      ]
     },
     "metadata": {
      "image/png": {
       "height": 173,
       "width": 796
      },
      "needs_background": "light",
      "tags": []
     },
     "output_type": "display_data"
    }
   ],
   "source": [
    "plot_site_filters(contig=\"2R\")"
   ]
  },
  {
   "cell_type": "code",
   "execution_count": 43,
   "metadata": {
    "colab": {
     "base_uri": "https://localhost:8080/",
     "height": 190
    },
    "id": "XpibqAeD8mOd",
    "outputId": "567c76ac-8481-4bea-8ff9-cd8076dc77e1"
   },
   "outputs": [
    {
     "data": {
      "image/png": "[encoded data removed]",
      "text/plain": [
       "<Figure size 635.25x144 with 1 Axes>"
      ]
     },
     "metadata": {
      "image/png": {
       "height": 173,
       "width": 675
      },
      "needs_background": "light",
      "tags": []
     },
     "output_type": "display_data"
    }
   ],
   "source": [
    "plot_site_filters(contig=\"2L\")"
   ]
  },
  {
   "cell_type": "code",
   "execution_count": 44,
   "metadata": {
    "colab": {
     "base_uri": "https://localhost:8080/",
     "height": 190
    },
    "id": "J_ZTe8Q_8o3D",
    "outputId": "1e2604da-a6eb-45c2-c2f4-cb0c4bc6d683"
   },
   "outputs": [
    {
     "data": {
      "image/png": "[encoded data removed]",
      "text/plain": [
       "<Figure size 684.619x144 with 1 Axes>"
      ]
     },
     "metadata": {
      "image/png": {
       "height": 173,
       "width": 713
      },
      "needs_background": "light",
      "tags": []
     },
     "output_type": "display_data"
    }
   ],
   "source": [
    "plot_site_filters(contig=\"3R\")"
   ]
  },
  {
   "cell_type": "code",
   "execution_count": 45,
   "metadata": {
    "colab": {
     "base_uri": "https://localhost:8080/",
     "height": 190
    },
    "id": "dK_Zc4eh8shQ",
    "outputId": "ced762f5-4e1c-4490-e7e3-b3e01ebbf9ff"
   },
   "outputs": [
    {
     "data": {
      "image/png": "[encoded data removed]",
      "text/plain": [
       "<Figure size 540.011x144 with 1 Axes>"
      ]
     },
     "metadata": {
      "image/png": {
       "height": 173,
       "width": 601
      },
      "needs_background": "light",
      "tags": []
     },
     "output_type": "display_data"
    }
   ],
   "source": [
    "plot_site_filters(contig=\"3L\")"
   ]
  },
  {
   "cell_type": "code",
   "execution_count": 46,
   "metadata": {
    "colab": {
     "base_uri": "https://localhost:8080/",
     "height": 190
    },
    "id": "7eb1f4c362O-",
    "outputId": "4ed2d51e-5b53-45b7-c6b9-1c715bcca841"
   },
   "outputs": [
    {
     "data": {
      "image/png": "[encoded data removed]",
      "text/plain": [
       "<Figure size 313.905x144 with 1 Axes>"
      ]
     },
     "metadata": {
      "image/png": {
       "height": 173,
       "width": 425
      },
      "needs_background": "light",
      "tags": []
     },
     "output_type": "display_data"
    }
   ],
   "source": [
    "plot_site_filters(contig=\"X\")"
   ]
  },
  {
   "cell_type": "markdown",
   "metadata": {
    "id": "7Qas0SDn-Sg7"
   },
   "source": [
    "The methods in the `malariagen_data.Ag3` class allow you to access data on sites or genotypes with one of these filters already applied. E.g., let's access the SNP positions with the `gamb_colu_arab` filter applied."
   ]
  },
  {
   "cell_type": "code",
   "execution_count": 47,
   "metadata": {
    "colab": {
     "base_uri": "https://localhost:8080/",
     "height": 123
    },
    "id": "Pq8DTkX8pWzv",
    "outputId": "3999efd2-5efb-493e-a79f-32b26a4fb5b1"
   },
   "outputs": [
    {
     "data": {
      "text/html": [
       "<table>\n",
       "<tr>\n",
       "<td>\n",
       "<table>\n",
       "  <thead>\n",
       "    <tr><td> </td><th> Array </th><th> Chunk </th></tr>\n",
       "  </thead>\n",
       "  <tbody>\n",
       "    <tr><th> Bytes </th><td> 162.25 MB </td> <td> 98.99 MB </td></tr>\n",
       "    <tr><th> Shape </th><td> (40561667,) </td> <td> (24746331,) </td></tr>\n",
       "    <tr><th> Count </th><td> 11 Tasks </td><td> 2 Chunks </td></tr>\n",
       "    <tr><th> Type </th><td> int32 </td><td> numpy.ndarray </td></tr>\n",
       "  </tbody>\n",
       "</table>\n",
       "</td>\n",
       "<td>\n",
       "<svg width=\"170\" height=\"75\" style=\"stroke:rgb(0,0,0);stroke-width:1\" >\n",
       "\n",
       "  <!-- Horizontal lines -->\n",
       "  <line x1=\"0\" y1=\"0\" x2=\"120\" y2=\"0\" style=\"stroke-width:2\" />\n",
       "  <line x1=\"0\" y1=\"25\" x2=\"120\" y2=\"25\" style=\"stroke-width:2\" />\n",
       "\n",
       "  <!-- Vertical lines -->\n",
       "  <line x1=\"0\" y1=\"0\" x2=\"0\" y2=\"25\" style=\"stroke-width:2\" />\n",
       "  <line x1=\"73\" y1=\"0\" x2=\"73\" y2=\"25\" />\n",
       "  <line x1=\"120\" y1=\"0\" x2=\"120\" y2=\"25\" style=\"stroke-width:2\" />\n",
       "\n",
       "  <!-- Colored Rectangle -->\n",
       "  <polygon points=\"0.0,0.0 120.0,0.0 120.0,25.412616514582485 0.0,25.412616514582485\" style=\"fill:#ECB172A0;stroke-width:0\"/>\n",
       "\n",
       "  <!-- Text -->\n",
       "  <text x=\"60.000000\" y=\"45.412617\" font-size=\"1.0rem\" font-weight=\"100\" text-anchor=\"middle\" >40561667</text>\n",
       "  <text x=\"140.000000\" y=\"12.706308\" font-size=\"1.0rem\" font-weight=\"100\" text-anchor=\"middle\" transform=\"rotate(0,140.000000,12.706308)\">1</text>\n",
       "</svg>\n",
       "</td>\n",
       "</tr>\n",
       "</table>"
      ],
      "text/plain": [
       "dask.array<getitem, shape=(40561667,), dtype=int32, chunksize=(24746331,), chunktype=numpy.ndarray>"
      ]
     },
     "execution_count": 47,
     "metadata": {
      "tags": []
     },
     "output_type": "execute_result"
    }
   ],
   "source": [
    "pos = ag3.snp_sites(contig=\"2R\", site_mask=\"gamb_colu_arab\", field=\"POS\")\n",
    "pos"
   ]
  },
  {
   "cell_type": "markdown",
   "metadata": {
    "id": "FrHtsquSpWzw"
   },
   "source": [
    "Notice the length of this array is 40,561,667 which we calculated earlier as the number of sites passing the `gamb_colu_arab` filter on chromosome arm 2R.\n",
    "\n",
    "Similarly, here are the genotypes with the `gamb_colu_arab` site filter applied."
   ]
  },
  {
   "cell_type": "code",
   "execution_count": 48,
   "metadata": {
    "colab": {
     "base_uri": "https://localhost:8080/",
     "height": 172
    },
    "id": "5qyUHa4JpWzw",
    "outputId": "c2b709bd-f150-4d8f-9be2-6bb2cd68d0f2"
   },
   "outputs": [
    {
     "data": {
      "text/html": [
       "<table>\n",
       "<tr>\n",
       "<td>\n",
       "<table>\n",
       "  <thead>\n",
       "    <tr><td> </td><th> Array </th><th> Chunk </th></tr>\n",
       "  </thead>\n",
       "  <tbody>\n",
       "    <tr><th> Bytes </th><td> 249.94 GB </td> <td> 103.66 MB </td></tr>\n",
       "    <tr><th> Shape </th><td> (40561667, 3081, 2) </td> <td> (508154, 102, 2) </td></tr>\n",
       "    <tr><th> Count </th><td> 27364 Tasks </td><td> 6240 Chunks </td></tr>\n",
       "    <tr><th> Type </th><td> int8 </td><td> numpy.ndarray </td></tr>\n",
       "  </tbody>\n",
       "</table>\n",
       "</td>\n",
       "<td>\n",
       "<svg width=\"156\" height=\"146\" style=\"stroke:rgb(0,0,0);stroke-width:1\" >\n",
       "\n",
       "  <!-- Horizontal lines -->\n",
       "  <line x1=\"10\" y1=\"0\" x2=\"80\" y2=\"70\" style=\"stroke-width:2\" />\n",
       "  <line x1=\"10\" y1=\"1\" x2=\"80\" y2=\"72\" />\n",
       "  <line x1=\"10\" y1=\"3\" x2=\"80\" y2=\"73\" />\n",
       "  <line x1=\"10\" y1=\"3\" x2=\"80\" y2=\"74\" />\n",
       "  <line x1=\"10\" y1=\"4\" x2=\"80\" y2=\"75\" />\n",
       "  <line x1=\"10\" y1=\"6\" x2=\"80\" y2=\"77\" />\n",
       "  <line x1=\"10\" y1=\"7\" x2=\"80\" y2=\"78\" />\n",
       "  <line x1=\"10\" y1=\"8\" x2=\"80\" y2=\"79\" />\n",
       "  <line x1=\"10\" y1=\"9\" x2=\"80\" y2=\"80\" />\n",
       "  <line x1=\"10\" y1=\"10\" x2=\"80\" y2=\"81\" />\n",
       "  <line x1=\"10\" y1=\"12\" x2=\"80\" y2=\"83\" />\n",
       "  <line x1=\"10\" y1=\"13\" x2=\"80\" y2=\"84\" />\n",
       "  <line x1=\"10\" y1=\"14\" x2=\"80\" y2=\"85\" />\n",
       "  <line x1=\"10\" y1=\"16\" x2=\"80\" y2=\"86\" />\n",
       "  <line x1=\"10\" y1=\"17\" x2=\"80\" y2=\"87\" />\n",
       "  <line x1=\"10\" y1=\"18\" x2=\"80\" y2=\"88\" />\n",
       "  <line x1=\"10\" y1=\"19\" x2=\"80\" y2=\"90\" />\n",
       "  <line x1=\"10\" y1=\"21\" x2=\"80\" y2=\"91\" />\n",
       "  <line x1=\"10\" y1=\"22\" x2=\"80\" y2=\"93\" />\n",
       "  <line x1=\"10\" y1=\"25\" x2=\"80\" y2=\"96\" style=\"stroke-width:2\" />\n",
       "\n",
       "  <!-- Vertical lines -->\n",
       "  <line x1=\"10\" y1=\"0\" x2=\"10\" y2=\"25\" style=\"stroke-width:2\" />\n",
       "  <line x1=\"13\" y1=\"3\" x2=\"13\" y2=\"29\" />\n",
       "  <line x1=\"18\" y1=\"8\" x2=\"18\" y2=\"33\" />\n",
       "  <line x1=\"22\" y1=\"12\" x2=\"22\" y2=\"38\" />\n",
       "  <line x1=\"25\" y1=\"15\" x2=\"25\" y2=\"41\" />\n",
       "  <line x1=\"30\" y1=\"20\" x2=\"30\" y2=\"45\" />\n",
       "  <line x1=\"34\" y1=\"24\" x2=\"34\" y2=\"50\" />\n",
       "  <line x1=\"38\" y1=\"28\" x2=\"38\" y2=\"54\" />\n",
       "  <line x1=\"43\" y1=\"33\" x2=\"43\" y2=\"58\" />\n",
       "  <line x1=\"46\" y1=\"36\" x2=\"46\" y2=\"61\" />\n",
       "  <line x1=\"51\" y1=\"41\" x2=\"51\" y2=\"66\" />\n",
       "  <line x1=\"54\" y1=\"44\" x2=\"54\" y2=\"69\" />\n",
       "  <line x1=\"57\" y1=\"47\" x2=\"57\" y2=\"72\" />\n",
       "  <line x1=\"60\" y1=\"50\" x2=\"60\" y2=\"76\" />\n",
       "  <line x1=\"64\" y1=\"54\" x2=\"64\" y2=\"79\" />\n",
       "  <line x1=\"68\" y1=\"58\" x2=\"68\" y2=\"83\" />\n",
       "  <line x1=\"71\" y1=\"61\" x2=\"71\" y2=\"86\" />\n",
       "  <line x1=\"74\" y1=\"64\" x2=\"74\" y2=\"89\" />\n",
       "  <line x1=\"77\" y1=\"67\" x2=\"77\" y2=\"93\" />\n",
       "  <line x1=\"80\" y1=\"70\" x2=\"80\" y2=\"96\" style=\"stroke-width:2\" />\n",
       "\n",
       "  <!-- Colored Rectangle -->\n",
       "  <polygon points=\"10.0,0.0 80.58823529411765,70.58823529411765 80.58823529411765,96.00085180870013 10.0,25.41261651458248\" style=\"fill:#8B4903A0;stroke-width:0\"/>\n",
       "\n",
       "  <!-- Horizontal lines -->\n",
       "  <line x1=\"10\" y1=\"0\" x2=\"35\" y2=\"0\" style=\"stroke-width:2\" />\n",
       "  <line x1=\"13\" y1=\"3\" x2=\"39\" y2=\"3\" />\n",
       "  <line x1=\"18\" y1=\"8\" x2=\"43\" y2=\"8\" />\n",
       "  <line x1=\"22\" y1=\"12\" x2=\"48\" y2=\"12\" />\n",
       "  <line x1=\"25\" y1=\"15\" x2=\"51\" y2=\"15\" />\n",
       "  <line x1=\"30\" y1=\"20\" x2=\"55\" y2=\"20\" />\n",
       "  <line x1=\"34\" y1=\"24\" x2=\"60\" y2=\"24\" />\n",
       "  <line x1=\"38\" y1=\"28\" x2=\"64\" y2=\"28\" />\n",
       "  <line x1=\"43\" y1=\"33\" x2=\"68\" y2=\"33\" />\n",
       "  <line x1=\"46\" y1=\"36\" x2=\"71\" y2=\"36\" />\n",
       "  <line x1=\"51\" y1=\"41\" x2=\"76\" y2=\"41\" />\n",
       "  <line x1=\"54\" y1=\"44\" x2=\"79\" y2=\"44\" />\n",
       "  <line x1=\"57\" y1=\"47\" x2=\"82\" y2=\"47\" />\n",
       "  <line x1=\"60\" y1=\"50\" x2=\"86\" y2=\"50\" />\n",
       "  <line x1=\"64\" y1=\"54\" x2=\"89\" y2=\"54\" />\n",
       "  <line x1=\"68\" y1=\"58\" x2=\"93\" y2=\"58\" />\n",
       "  <line x1=\"71\" y1=\"61\" x2=\"96\" y2=\"61\" />\n",
       "  <line x1=\"74\" y1=\"64\" x2=\"99\" y2=\"64\" />\n",
       "  <line x1=\"77\" y1=\"67\" x2=\"103\" y2=\"67\" />\n",
       "  <line x1=\"80\" y1=\"70\" x2=\"106\" y2=\"70\" style=\"stroke-width:2\" />\n",
       "\n",
       "  <!-- Vertical lines -->\n",
       "  <line x1=\"10\" y1=\"0\" x2=\"80\" y2=\"70\" style=\"stroke-width:2\" />\n",
       "  <line x1=\"35\" y1=\"0\" x2=\"106\" y2=\"70\" style=\"stroke-width:2\" />\n",
       "\n",
       "  <!-- Colored Rectangle -->\n",
       "  <polygon points=\"10.0,0.0 35.41261651458248,0.0 106.00085180870013,70.58823529411765 80.58823529411765,70.58823529411765\" style=\"fill:#8B4903A0;stroke-width:0\"/>\n",
       "\n",
       "  <!-- Horizontal lines -->\n",
       "  <line x1=\"80\" y1=\"70\" x2=\"106\" y2=\"70\" style=\"stroke-width:2\" />\n",
       "  <line x1=\"80\" y1=\"72\" x2=\"106\" y2=\"72\" />\n",
       "  <line x1=\"80\" y1=\"73\" x2=\"106\" y2=\"73\" />\n",
       "  <line x1=\"80\" y1=\"74\" x2=\"106\" y2=\"74\" />\n",
       "  <line x1=\"80\" y1=\"75\" x2=\"106\" y2=\"75\" />\n",
       "  <line x1=\"80\" y1=\"77\" x2=\"106\" y2=\"77\" />\n",
       "  <line x1=\"80\" y1=\"78\" x2=\"106\" y2=\"78\" />\n",
       "  <line x1=\"80\" y1=\"79\" x2=\"106\" y2=\"79\" />\n",
       "  <line x1=\"80\" y1=\"80\" x2=\"106\" y2=\"80\" />\n",
       "  <line x1=\"80\" y1=\"81\" x2=\"106\" y2=\"81\" />\n",
       "  <line x1=\"80\" y1=\"83\" x2=\"106\" y2=\"83\" />\n",
       "  <line x1=\"80\" y1=\"84\" x2=\"106\" y2=\"84\" />\n",
       "  <line x1=\"80\" y1=\"85\" x2=\"106\" y2=\"85\" />\n",
       "  <line x1=\"80\" y1=\"86\" x2=\"106\" y2=\"86\" />\n",
       "  <line x1=\"80\" y1=\"87\" x2=\"106\" y2=\"87\" />\n",
       "  <line x1=\"80\" y1=\"88\" x2=\"106\" y2=\"88\" />\n",
       "  <line x1=\"80\" y1=\"90\" x2=\"106\" y2=\"90\" />\n",
       "  <line x1=\"80\" y1=\"91\" x2=\"106\" y2=\"91\" />\n",
       "  <line x1=\"80\" y1=\"93\" x2=\"106\" y2=\"93\" />\n",
       "  <line x1=\"80\" y1=\"96\" x2=\"106\" y2=\"96\" style=\"stroke-width:2\" />\n",
       "\n",
       "  <!-- Vertical lines -->\n",
       "  <line x1=\"80\" y1=\"70\" x2=\"80\" y2=\"96\" style=\"stroke-width:2\" />\n",
       "  <line x1=\"106\" y1=\"70\" x2=\"106\" y2=\"96\" style=\"stroke-width:2\" />\n",
       "\n",
       "  <!-- Colored Rectangle -->\n",
       "  <polygon points=\"80.58823529411765,70.58823529411765 106.00085180870013,70.58823529411765 106.00085180870013,96.00085180870013 80.58823529411765,96.00085180870013\" style=\"fill:#8B4903A0;stroke-width:0\"/>\n",
       "\n",
       "  <!-- Text -->\n",
       "  <text x=\"93.294544\" y=\"116.000852\" font-size=\"1.0rem\" font-weight=\"100\" text-anchor=\"middle\" >2</text>\n",
       "  <text x=\"126.000852\" y=\"83.294544\" font-size=\"1.0rem\" font-weight=\"100\" text-anchor=\"middle\" transform=\"rotate(-90,126.000852,83.294544)\">3081</text>\n",
       "  <text x=\"35.294118\" y=\"80.706734\" font-size=\"1.0rem\" font-weight=\"100\" text-anchor=\"middle\" transform=\"rotate(45,35.294118,80.706734)\">40561667</text>\n",
       "</svg>\n",
       "</td>\n",
       "</tr>\n",
       "</table>"
      ],
      "text/plain": [
       "dask.array<getitem_variadic, shape=(40561667, 3081, 2), dtype=int8, chunksize=(508154, 102, 2), chunktype=numpy.ndarray>"
      ]
     },
     "execution_count": 48,
     "metadata": {
      "tags": []
     },
     "output_type": "execute_result"
    }
   ],
   "source": [
    "gt = ag3.snp_genotypes(contig=\"2R\", sample_sets=\"v3\", site_mask=\"gamb_colu_arab\")\n",
    "gt"
   ]
  },
  {
   "cell_type": "markdown",
   "metadata": {
    "id": "1alMo1ckPTee"
   },
   "source": [
    "## Locating SNPs"
   ]
  },
  {
   "cell_type": "markdown",
   "metadata": {
    "id": "iNMk1F7WpWzw"
   },
   "source": [
    "### Locating a single SNP\n",
    "\n",
    "For some analyses you may have a particular genomic site you are investigating, and want to know what variation occurs at that site in the Ag3 data resource. To locate that site, a convenient approach is to use an index such as the scikit-allel `SortedIndex` class.\n",
    "\n",
    "For example, let's locate data for the site 2L:2422652."
   ]
  },
  {
   "cell_type": "code",
   "execution_count": 49,
   "metadata": {
    "colab": {
     "base_uri": "https://localhost:8080/",
     "height": 76
    },
    "id": "cPGsoQNOpWzw",
    "outputId": "8c71ef51-ccb0-4085-9044-978fe0f3fd4e"
   },
   "outputs": [
    {
     "data": {
      "text/html": [
       "<div class=\"allel allel-DisplayAs1D\"><span>&lt;SortedIndex shape=(48525747,) dtype=int32&gt;</span><table><thead><tr><th style=\"text-align: center\">0</th><th style=\"text-align: center\">1</th><th style=\"text-align: center\">2</th><th style=\"text-align: center\">3</th><th style=\"text-align: center\">4</th><th style=\"text-align: center\">...</th><th style=\"text-align: center\">48525742</th><th style=\"text-align: center\">48525743</th><th style=\"text-align: center\">48525744</th><th style=\"text-align: center\">48525745</th><th style=\"text-align: center\">48525746</th></tr></thead><tbody><tr><td style=\"text-align: center\">1</td><td style=\"text-align: center\">2</td><td style=\"text-align: center\">3</td><td style=\"text-align: center\">4</td><td style=\"text-align: center\">5</td><td style=\"text-align: center\">...</td><td style=\"text-align: center\">49364321</td><td style=\"text-align: center\">49364322</td><td style=\"text-align: center\">49364323</td><td style=\"text-align: center\">49364324</td><td style=\"text-align: center\">49364325</td></tr></tbody></table></div>"
      ],
      "text/plain": [
       "<SortedIndex shape=(48525747,) dtype=int32>\n",
       "[1, 2, 3, 4, 5, ..., 49364321, 49364322, 49364323, 49364324, 49364325]"
      ]
     },
     "execution_count": 49,
     "metadata": {
      "tags": []
     },
     "output_type": "execute_result"
    }
   ],
   "source": [
    "pos, ref, alt = ag3.snp_sites(contig=\"2L\")\n",
    "pos = allel.SortedIndex(pos)\n",
    "pos"
   ]
  },
  {
   "cell_type": "code",
   "execution_count": 50,
   "metadata": {
    "colab": {
     "base_uri": "https://localhost:8080/"
    },
    "id": "xE7TbWhnpWzw",
    "outputId": "fe2456d2-6bc7-4e72-c8da-01b9acfa687d"
   },
   "outputs": [
    {
     "data": {
      "text/plain": [
       "2143836"
      ]
     },
     "execution_count": 50,
     "metadata": {
      "tags": []
     },
     "output_type": "execute_result"
    }
   ],
   "source": [
    "# locate the position of interest\n",
    "loc_site = pos.locate_key(2422652)\n",
    "loc_site"
   ]
  },
  {
   "cell_type": "code",
   "execution_count": 51,
   "metadata": {
    "colab": {
     "base_uri": "https://localhost:8080/"
    },
    "id": "9ONptPORpWzw",
    "outputId": "40f2c164-e3a8-4672-ced0-b9ce60aab19b"
   },
   "outputs": [
    {
     "data": {
      "text/plain": [
       "2422652"
      ]
     },
     "execution_count": 51,
     "metadata": {
      "tags": []
     },
     "output_type": "execute_result"
    }
   ],
   "source": [
    "# check the position is correct\n",
    "pos[loc_site]"
   ]
  },
  {
   "cell_type": "code",
   "execution_count": 52,
   "metadata": {
    "colab": {
     "base_uri": "https://localhost:8080/"
    },
    "id": "RO0QqiGUpWzx",
    "outputId": "aa936390-61ba-426f-8884-d03feee5a32d"
   },
   "outputs": [
    {
     "data": {
      "text/plain": [
       "array(b'A', dtype='|S1')"
      ]
     },
     "execution_count": 52,
     "metadata": {
      "tags": []
     },
     "output_type": "execute_result"
    }
   ],
   "source": [
    "# access the reference alleles\n",
    "ref[loc_site].compute()"
   ]
  },
  {
   "cell_type": "code",
   "execution_count": 53,
   "metadata": {
    "colab": {
     "base_uri": "https://localhost:8080/"
    },
    "id": "WogDVXAOpWzx",
    "outputId": "40fe0583-5801-4074-9157-fe2497fe63ea"
   },
   "outputs": [
    {
     "data": {
      "text/plain": [
       "array([b'C', b'T', b'G'], dtype='|S1')"
      ]
     },
     "execution_count": 53,
     "metadata": {
      "tags": []
     },
     "output_type": "execute_result"
    }
   ],
   "source": [
    "# access the alternate alleles\n",
    "alt[loc_site].compute()"
   ]
  },
  {
   "cell_type": "code",
   "execution_count": 54,
   "metadata": {
    "colab": {
     "base_uri": "https://localhost:8080/"
    },
    "id": "gt3zbZScpWzx",
    "outputId": "b157134b-54c8-44bb-b5ba-41b811d10aed"
   },
   "outputs": [
    {
     "data": {
      "text/plain": [
       "array([[2, 2],\n",
       "       [2, 2],\n",
       "       [2, 2],\n",
       "       ...,\n",
       "       [0, 0],\n",
       "       [0, 2],\n",
       "       [0, 2]], dtype=int8)"
      ]
     },
     "execution_count": 54,
     "metadata": {
      "tags": []
     },
     "output_type": "execute_result"
    }
   ],
   "source": [
    "# access the genotypes\n",
    "gt = ag3.snp_genotypes(contig=\"2L\", sample_sets=\"v3\")\n",
    "gt_site = gt[loc_site].compute()\n",
    "gt_site"
   ]
  },
  {
   "cell_type": "markdown",
   "metadata": {
    "id": "d0bcDj8YpWzx"
   },
   "source": [
    "From the output above we can see there are some samples with a `(2, 2)` genotype, which correspond to the T/T genotype, and some samples with a `(0, 2)` which corresponds to the A/T genotype."
   ]
  },
  {
   "cell_type": "markdown",
   "metadata": {
    "id": "xV0r4j4lpWzx"
   },
   "source": [
    "### Locating SNPs in a genome region\n",
    "\n",
    "For other analyses you may want to extract data for a specific genome region, such as a gene. Again a good approach is to use an index. E.g., let's locate data for the *Vgsc* gene, which spans the region 2L:2358158-2431617. "
   ]
  },
  {
   "cell_type": "code",
   "execution_count": 55,
   "metadata": {
    "colab": {
     "base_uri": "https://localhost:8080/"
    },
    "id": "ZVTsdU2kpWzx",
    "outputId": "42d74536-2949-4cb5-8c2a-b00a17c746b4"
   },
   "outputs": [
    {
     "data": {
      "text/plain": [
       "slice(2083135, 2152802, None)"
      ]
     },
     "execution_count": 55,
     "metadata": {
      "tags": []
     },
     "output_type": "execute_result"
    }
   ],
   "source": [
    "loc_region = pos.locate_range(2358158, 2431617)\n",
    "loc_region"
   ]
  },
  {
   "cell_type": "code",
   "execution_count": 56,
   "metadata": {
    "colab": {
     "base_uri": "https://localhost:8080/",
     "height": 76
    },
    "id": "d9NgHTsupWzx",
    "outputId": "149a0b85-1466-4635-bfdf-df70a15ec12d"
   },
   "outputs": [
    {
     "data": {
      "text/html": [
       "<div class=\"allel allel-DisplayAs1D\"><span>&lt;SortedIndex shape=(69667,) dtype=int32&gt;</span><table><thead><tr><th style=\"text-align: center\">0</th><th style=\"text-align: center\">1</th><th style=\"text-align: center\">2</th><th style=\"text-align: center\">3</th><th style=\"text-align: center\">4</th><th style=\"text-align: center\">...</th><th style=\"text-align: center\">69662</th><th style=\"text-align: center\">69663</th><th style=\"text-align: center\">69664</th><th style=\"text-align: center\">69665</th><th style=\"text-align: center\">69666</th></tr></thead><tbody><tr><td style=\"text-align: center\">2358158</td><td style=\"text-align: center\">2358159</td><td style=\"text-align: center\">2358160</td><td style=\"text-align: center\">2358161</td><td style=\"text-align: center\">2358162</td><td style=\"text-align: center\">...</td><td style=\"text-align: center\">2431613</td><td style=\"text-align: center\">2431614</td><td style=\"text-align: center\">2431615</td><td style=\"text-align: center\">2431616</td><td style=\"text-align: center\">2431617</td></tr></tbody></table></div>"
      ],
      "text/plain": [
       "<SortedIndex shape=(69667,) dtype=int32>\n",
       "[2358158, 2358159, 2358160, 2358161, 2358162, ..., 2431613, 2431614, 2431615, 2431616, 2431617]"
      ]
     },
     "execution_count": 56,
     "metadata": {
      "tags": []
     },
     "output_type": "execute_result"
    }
   ],
   "source": [
    "# obtain SNP positions within selected region\n",
    "pos_region = pos[loc_region]\n",
    "pos_region"
   ]
  },
  {
   "cell_type": "code",
   "execution_count": 57,
   "metadata": {
    "colab": {
     "base_uri": "https://localhost:8080/"
    },
    "id": "PAqDDYhmpWzy",
    "outputId": "9c2471bc-7c43-4f30-be7c-0767ad198e9d"
   },
   "outputs": [
    {
     "data": {
      "text/plain": [
       "array([b'A', b'T', b'G', ..., b'T', b'G', b'A'], dtype='|S1')"
      ]
     },
     "execution_count": 57,
     "metadata": {
      "tags": []
     },
     "output_type": "execute_result"
    }
   ],
   "source": [
    "# reference alleles within selected region\n",
    "ref_region = ref[loc_region].compute()\n",
    "ref_region"
   ]
  },
  {
   "cell_type": "code",
   "execution_count": 58,
   "metadata": {
    "colab": {
     "base_uri": "https://localhost:8080/"
    },
    "id": "oxeLSluvpWzy",
    "outputId": "80a121a1-6e4e-4e81-c069-c3c1b4c4c7e9"
   },
   "outputs": [
    {
     "data": {
      "text/plain": [
       "array([[b'C', b'T', b'G'],\n",
       "       [b'A', b'C', b'G'],\n",
       "       [b'A', b'C', b'T'],\n",
       "       ...,\n",
       "       [b'A', b'C', b'G'],\n",
       "       [b'A', b'C', b'T'],\n",
       "       [b'C', b'T', b'G']], dtype='|S1')"
      ]
     },
     "execution_count": 58,
     "metadata": {
      "tags": []
     },
     "output_type": "execute_result"
    }
   ],
   "source": [
    "# alternate alleles within selected region\n",
    "alt_region = alt[loc_region].compute()\n",
    "alt_region"
   ]
  },
  {
   "cell_type": "code",
   "execution_count": 59,
   "metadata": {
    "colab": {
     "base_uri": "https://localhost:8080/",
     "height": 196
    },
    "id": "xg7xgQOHpWzy",
    "outputId": "a0b8567e-2aa6-46f9-f60a-ecc7ce259575"
   },
   "outputs": [
    {
     "data": {
      "text/html": [
       "<div class=\"allel allel-DisplayAs2D\"><span>&lt;GenotypeDaskArray shape=(69667, 3081, 2) dtype=int8&gt;</span><table><thead><tr><th></th><th style=\"text-align: center\">0</th><th style=\"text-align: center\">1</th><th style=\"text-align: center\">2</th><th style=\"text-align: center\">3</th><th style=\"text-align: center\">4</th><th style=\"text-align: center\">...</th><th style=\"text-align: center\">3076</th><th style=\"text-align: center\">3077</th><th style=\"text-align: center\">3078</th><th style=\"text-align: center\">3079</th><th style=\"text-align: center\">3080</th></tr></thead><tbody><tr><th style=\"text-align: center; background-color: white; border-right: 1px solid black; \">0</th><td style=\"text-align: center\">0/0</td><td style=\"text-align: center\">0/0</td><td style=\"text-align: center\">0/0</td><td style=\"text-align: center\">0/0</td><td style=\"text-align: center\">0/0</td><td style=\"text-align: center\">...</td><td style=\"text-align: center\">0/0</td><td style=\"text-align: center\">0/0</td><td style=\"text-align: center\">0/0</td><td style=\"text-align: center\">0/0</td><td style=\"text-align: center\">0/0</td></tr><tr><th style=\"text-align: center; background-color: white; border-right: 1px solid black; \">1</th><td style=\"text-align: center\">0/0</td><td style=\"text-align: center\">0/0</td><td style=\"text-align: center\">0/0</td><td style=\"text-align: center\">0/0</td><td style=\"text-align: center\">0/0</td><td style=\"text-align: center\">...</td><td style=\"text-align: center\">0/0</td><td style=\"text-align: center\">0/0</td><td style=\"text-align: center\">0/0</td><td style=\"text-align: center\">0/0</td><td style=\"text-align: center\">0/0</td></tr><tr><th style=\"text-align: center; background-color: white; border-right: 1px solid black; \">2</th><td style=\"text-align: center\">0/0</td><td style=\"text-align: center\">0/0</td><td style=\"text-align: center\">0/0</td><td style=\"text-align: center\">0/0</td><td style=\"text-align: center\">0/0</td><td style=\"text-align: center\">...</td><td style=\"text-align: center\">0/0</td><td style=\"text-align: center\">0/0</td><td style=\"text-align: center\">0/0</td><td style=\"text-align: center\">0/0</td><td style=\"text-align: center\">0/0</td></tr><tr><th style=\"text-align: center; background-color: white; border-right: 1px solid black; \">...</th><td style=\"text-align: center\" colspan=\"12\">...</td></tr><tr><th style=\"text-align: center; background-color: white; border-right: 1px solid black; \">69664</th><td style=\"text-align: center\">0/0</td><td style=\"text-align: center\">0/0</td><td style=\"text-align: center\">0/0</td><td style=\"text-align: center\">0/0</td><td style=\"text-align: center\">0/0</td><td style=\"text-align: center\">...</td><td style=\"text-align: center\">0/0</td><td style=\"text-align: center\">0/0</td><td style=\"text-align: center\">0/0</td><td style=\"text-align: center\">0/0</td><td style=\"text-align: center\">0/0</td></tr><tr><th style=\"text-align: center; background-color: white; border-right: 1px solid black; \">69665</th><td style=\"text-align: center\">0/0</td><td style=\"text-align: center\">0/0</td><td style=\"text-align: center\">0/0</td><td style=\"text-align: center\">0/0</td><td style=\"text-align: center\">0/0</td><td style=\"text-align: center\">...</td><td style=\"text-align: center\">0/0</td><td style=\"text-align: center\">0/0</td><td style=\"text-align: center\">0/0</td><td style=\"text-align: center\">0/0</td><td style=\"text-align: center\">0/0</td></tr><tr><th style=\"text-align: center; background-color: white; border-right: 1px solid black; \">69666</th><td style=\"text-align: center\">0/0</td><td style=\"text-align: center\">0/0</td><td style=\"text-align: center\">0/0</td><td style=\"text-align: center\">0/0</td><td style=\"text-align: center\">0/0</td><td style=\"text-align: center\">...</td><td style=\"text-align: center\">0/0</td><td style=\"text-align: center\">0/0</td><td style=\"text-align: center\">0/0</td><td style=\"text-align: center\">0/0</td><td style=\"text-align: center\">0/0</td></tr></tbody></table></div>"
      ],
      "text/plain": [
       "<GenotypeDaskArray shape=(69667, 3081, 2) dtype=int8>"
      ]
     },
     "execution_count": 59,
     "metadata": {
      "tags": []
     },
     "output_type": "execute_result"
    }
   ],
   "source": [
    "# genotypes within selected region\n",
    "gt_region = gt[loc_region]\n",
    "# wrap for convenience\n",
    "gt_region = allel.GenotypeDaskArray(gt_region)\n",
    "gt_region"
   ]
  },
  {
   "cell_type": "code",
   "execution_count": 60,
   "metadata": {
    "colab": {
     "base_uri": "https://localhost:8080/",
     "height": 196
    },
    "id": "pd9NDwdxpWzy",
    "outputId": "f9795ab6-670f-4808-cab9-6ef3f5ff0bd4"
   },
   "outputs": [
    {
     "data": {
      "text/html": [
       "<div class=\"allel allel-DisplayAs2D\"><span>&lt;AlleleCountsArray shape=(69667, 4) dtype=int32&gt;</span><table><thead><tr><th></th><th style=\"text-align: center\">0</th><th style=\"text-align: center\">1</th><th style=\"text-align: center\">2</th><th style=\"text-align: center\">3</th></tr></thead><tbody><tr><th style=\"text-align: center; background-color: white; border-right: 1px solid black; \">0</th><td style=\"text-align: center\">6162</td><td style=\"text-align: center\">   0</td><td style=\"text-align: center\">   0</td><td style=\"text-align: center\">   0</td></tr><tr><th style=\"text-align: center; background-color: white; border-right: 1px solid black; \">1</th><td style=\"text-align: center\">6162</td><td style=\"text-align: center\">   0</td><td style=\"text-align: center\">   0</td><td style=\"text-align: center\">   0</td></tr><tr><th style=\"text-align: center; background-color: white; border-right: 1px solid black; \">2</th><td style=\"text-align: center\">6161</td><td style=\"text-align: center\">   0</td><td style=\"text-align: center\">   1</td><td style=\"text-align: center\">   0</td></tr><tr><th style=\"text-align: center; background-color: white; border-right: 1px solid black; \">...</th><td style=\"text-align: center\" colspan=\"5\">...</td></tr><tr><th style=\"text-align: center; background-color: white; border-right: 1px solid black; \">69664</th><td style=\"text-align: center\">6162</td><td style=\"text-align: center\">   0</td><td style=\"text-align: center\">   0</td><td style=\"text-align: center\">   0</td></tr><tr><th style=\"text-align: center; background-color: white; border-right: 1px solid black; \">69665</th><td style=\"text-align: center\">6162</td><td style=\"text-align: center\">   0</td><td style=\"text-align: center\">   0</td><td style=\"text-align: center\">   0</td></tr><tr><th style=\"text-align: center; background-color: white; border-right: 1px solid black; \">69666</th><td style=\"text-align: center\">6162</td><td style=\"text-align: center\">   0</td><td style=\"text-align: center\">   0</td><td style=\"text-align: center\">   0</td></tr></tbody></table></div>"
      ],
      "text/plain": [
       "<AlleleCountsArray shape=(69667, 4) dtype=int32>\n",
       "6162    0    0    0\n",
       "6162    0    0    0\n",
       "6161    0    1    0\n",
       "...\n",
       "6162    0    0    0\n",
       "6162    0    0    0\n",
       "6162    0    0    0"
      ]
     },
     "execution_count": 60,
     "metadata": {
      "tags": []
     },
     "output_type": "execute_result"
    }
   ],
   "source": [
    "# allele counts\n",
    "ac_region = gt_region.count_alleles(max_allele=3).compute()\n",
    "ac_region"
   ]
  },
  {
   "cell_type": "code",
   "execution_count": 61,
   "metadata": {
    "colab": {
     "base_uri": "https://localhost:8080/"
    },
    "id": "12Qxc0wCpWzy",
    "outputId": "a8366d49-b7c0-4015-d392-b1c295fad76b"
   },
   "outputs": [
    {
     "data": {
      "text/plain": [
       "35754"
      ]
     },
     "execution_count": 61,
     "metadata": {
      "tags": []
     },
     "output_type": "execute_result"
    }
   ],
   "source": [
    "# how many segregating SNPs within our region of interest?\n",
    "ac_region.is_segregating().sum()"
   ]
  },
  {
   "cell_type": "markdown",
   "metadata": {
    "id": "J5qTRX3HpWzy"
   },
   "source": [
    "## Locating samples\n",
    "\n",
    "In many cases you may want to access genotypes for an individual mosquito sample, or a group of samples. This usually requires linking the sample metadata to the genotypes. Let's look at how to do that. First, load sample metadata."
   ]
  },
  {
   "cell_type": "code",
   "execution_count": 62,
   "metadata": {
    "colab": {
     "base_uri": "https://localhost:8080/",
     "height": 605
    },
    "id": "7GMrIx52pWzy",
    "outputId": "b54cb987-68f0-4249-f97c-25a780061c56"
   },
   "outputs": [
    {
     "data": {
      "text/html": [
       "<div>\n",
       "<style scoped>\n",
       "    .dataframe tbody tr th:only-of-type {\n",
       "        vertical-align: middle;\n",
       "    }\n",
       "\n",
       "    .dataframe tbody tr th {\n",
       "        vertical-align: top;\n",
       "    }\n",
       "\n",
       "    .dataframe thead th {\n",
       "        text-align: right;\n",
       "    }\n",
       "</style>\n",
       "<table border=\"1\" class=\"dataframe\">\n",
       "  <thead>\n",
       "    <tr style=\"text-align: right;\">\n",
       "      <th></th>\n",
       "      <th>sample_id</th>\n",
       "      <th>partner_sample_id</th>\n",
       "      <th>contributor</th>\n",
       "      <th>country</th>\n",
       "      <th>location</th>\n",
       "      <th>year</th>\n",
       "      <th>month</th>\n",
       "      <th>latitude</th>\n",
       "      <th>longitude</th>\n",
       "      <th>sex_call</th>\n",
       "      <th>sample_set</th>\n",
       "      <th>release</th>\n",
       "      <th>aim_fraction_colu</th>\n",
       "      <th>aim_fraction_arab</th>\n",
       "      <th>species_gambcolu_arabiensis</th>\n",
       "      <th>species_gambiae_coluzzii</th>\n",
       "      <th>species</th>\n",
       "    </tr>\n",
       "  </thead>\n",
       "  <tbody>\n",
       "    <tr>\n",
       "      <th>0</th>\n",
       "      <td>AR0047-C</td>\n",
       "      <td>LUA047</td>\n",
       "      <td>Joao Pinto</td>\n",
       "      <td>Angola</td>\n",
       "      <td>Luanda</td>\n",
       "      <td>2009</td>\n",
       "      <td>4</td>\n",
       "      <td>-8.884</td>\n",
       "      <td>13.302</td>\n",
       "      <td>F</td>\n",
       "      <td>AG1000G-AO</td>\n",
       "      <td>v3</td>\n",
       "      <td>0.945</td>\n",
       "      <td>0.001</td>\n",
       "      <td>gamb_colu</td>\n",
       "      <td>coluzzii</td>\n",
       "      <td>coluzzii</td>\n",
       "    </tr>\n",
       "    <tr>\n",
       "      <th>1</th>\n",
       "      <td>AR0049-C</td>\n",
       "      <td>LUA049</td>\n",
       "      <td>Joao Pinto</td>\n",
       "      <td>Angola</td>\n",
       "      <td>Luanda</td>\n",
       "      <td>2009</td>\n",
       "      <td>4</td>\n",
       "      <td>-8.884</td>\n",
       "      <td>13.302</td>\n",
       "      <td>F</td>\n",
       "      <td>AG1000G-AO</td>\n",
       "      <td>v3</td>\n",
       "      <td>0.933</td>\n",
       "      <td>0.001</td>\n",
       "      <td>gamb_colu</td>\n",
       "      <td>coluzzii</td>\n",
       "      <td>coluzzii</td>\n",
       "    </tr>\n",
       "    <tr>\n",
       "      <th>2</th>\n",
       "      <td>AR0051-C</td>\n",
       "      <td>LUA051</td>\n",
       "      <td>Joao Pinto</td>\n",
       "      <td>Angola</td>\n",
       "      <td>Luanda</td>\n",
       "      <td>2009</td>\n",
       "      <td>4</td>\n",
       "      <td>-8.884</td>\n",
       "      <td>13.302</td>\n",
       "      <td>F</td>\n",
       "      <td>AG1000G-AO</td>\n",
       "      <td>v3</td>\n",
       "      <td>0.937</td>\n",
       "      <td>0.002</td>\n",
       "      <td>gamb_colu</td>\n",
       "      <td>coluzzii</td>\n",
       "      <td>coluzzii</td>\n",
       "    </tr>\n",
       "    <tr>\n",
       "      <th>3</th>\n",
       "      <td>AR0061-C</td>\n",
       "      <td>LUA061</td>\n",
       "      <td>Joao Pinto</td>\n",
       "      <td>Angola</td>\n",
       "      <td>Luanda</td>\n",
       "      <td>2009</td>\n",
       "      <td>4</td>\n",
       "      <td>-8.884</td>\n",
       "      <td>13.302</td>\n",
       "      <td>F</td>\n",
       "      <td>AG1000G-AO</td>\n",
       "      <td>v3</td>\n",
       "      <td>0.938</td>\n",
       "      <td>0.002</td>\n",
       "      <td>gamb_colu</td>\n",
       "      <td>coluzzii</td>\n",
       "      <td>coluzzii</td>\n",
       "    </tr>\n",
       "    <tr>\n",
       "      <th>4</th>\n",
       "      <td>AR0078-C</td>\n",
       "      <td>LUA078</td>\n",
       "      <td>Joao Pinto</td>\n",
       "      <td>Angola</td>\n",
       "      <td>Luanda</td>\n",
       "      <td>2009</td>\n",
       "      <td>4</td>\n",
       "      <td>-8.884</td>\n",
       "      <td>13.302</td>\n",
       "      <td>F</td>\n",
       "      <td>AG1000G-AO</td>\n",
       "      <td>v3</td>\n",
       "      <td>0.926</td>\n",
       "      <td>0.001</td>\n",
       "      <td>gamb_colu</td>\n",
       "      <td>coluzzii</td>\n",
       "      <td>coluzzii</td>\n",
       "    </tr>\n",
       "    <tr>\n",
       "      <th>...</th>\n",
       "      <td>...</td>\n",
       "      <td>...</td>\n",
       "      <td>...</td>\n",
       "      <td>...</td>\n",
       "      <td>...</td>\n",
       "      <td>...</td>\n",
       "      <td>...</td>\n",
       "      <td>...</td>\n",
       "      <td>...</td>\n",
       "      <td>...</td>\n",
       "      <td>...</td>\n",
       "      <td>...</td>\n",
       "      <td>...</td>\n",
       "      <td>...</td>\n",
       "      <td>...</td>\n",
       "      <td>...</td>\n",
       "      <td>...</td>\n",
       "    </tr>\n",
       "    <tr>\n",
       "      <th>3076</th>\n",
       "      <td>AD0494-C</td>\n",
       "      <td>80-2-o-16</td>\n",
       "      <td>Martin Donnelly</td>\n",
       "      <td>Lab Cross</td>\n",
       "      <td>LSTM</td>\n",
       "      <td>-1</td>\n",
       "      <td>-1</td>\n",
       "      <td>53.409</td>\n",
       "      <td>-2.969</td>\n",
       "      <td>F</td>\n",
       "      <td>AG1000G-X</td>\n",
       "      <td>v3</td>\n",
       "      <td>NaN</td>\n",
       "      <td>NaN</td>\n",
       "      <td>NaN</td>\n",
       "      <td>NaN</td>\n",
       "      <td>NaN</td>\n",
       "    </tr>\n",
       "    <tr>\n",
       "      <th>3077</th>\n",
       "      <td>AD0495-C</td>\n",
       "      <td>80-2-o-17</td>\n",
       "      <td>Martin Donnelly</td>\n",
       "      <td>Lab Cross</td>\n",
       "      <td>LSTM</td>\n",
       "      <td>-1</td>\n",
       "      <td>-1</td>\n",
       "      <td>53.409</td>\n",
       "      <td>-2.969</td>\n",
       "      <td>M</td>\n",
       "      <td>AG1000G-X</td>\n",
       "      <td>v3</td>\n",
       "      <td>NaN</td>\n",
       "      <td>NaN</td>\n",
       "      <td>NaN</td>\n",
       "      <td>NaN</td>\n",
       "      <td>NaN</td>\n",
       "    </tr>\n",
       "    <tr>\n",
       "      <th>3078</th>\n",
       "      <td>AD0496-C</td>\n",
       "      <td>80-2-o-18</td>\n",
       "      <td>Martin Donnelly</td>\n",
       "      <td>Lab Cross</td>\n",
       "      <td>LSTM</td>\n",
       "      <td>-1</td>\n",
       "      <td>-1</td>\n",
       "      <td>53.409</td>\n",
       "      <td>-2.969</td>\n",
       "      <td>M</td>\n",
       "      <td>AG1000G-X</td>\n",
       "      <td>v3</td>\n",
       "      <td>NaN</td>\n",
       "      <td>NaN</td>\n",
       "      <td>NaN</td>\n",
       "      <td>NaN</td>\n",
       "      <td>NaN</td>\n",
       "    </tr>\n",
       "    <tr>\n",
       "      <th>3079</th>\n",
       "      <td>AD0497-C</td>\n",
       "      <td>80-2-o-19</td>\n",
       "      <td>Martin Donnelly</td>\n",
       "      <td>Lab Cross</td>\n",
       "      <td>LSTM</td>\n",
       "      <td>-1</td>\n",
       "      <td>-1</td>\n",
       "      <td>53.409</td>\n",
       "      <td>-2.969</td>\n",
       "      <td>F</td>\n",
       "      <td>AG1000G-X</td>\n",
       "      <td>v3</td>\n",
       "      <td>NaN</td>\n",
       "      <td>NaN</td>\n",
       "      <td>NaN</td>\n",
       "      <td>NaN</td>\n",
       "      <td>NaN</td>\n",
       "    </tr>\n",
       "    <tr>\n",
       "      <th>3080</th>\n",
       "      <td>AD0498-C</td>\n",
       "      <td>80-2-o-20</td>\n",
       "      <td>Martin Donnelly</td>\n",
       "      <td>Lab Cross</td>\n",
       "      <td>LSTM</td>\n",
       "      <td>-1</td>\n",
       "      <td>-1</td>\n",
       "      <td>53.409</td>\n",
       "      <td>-2.969</td>\n",
       "      <td>M</td>\n",
       "      <td>AG1000G-X</td>\n",
       "      <td>v3</td>\n",
       "      <td>NaN</td>\n",
       "      <td>NaN</td>\n",
       "      <td>NaN</td>\n",
       "      <td>NaN</td>\n",
       "      <td>NaN</td>\n",
       "    </tr>\n",
       "  </tbody>\n",
       "</table>\n",
       "<p>3081 rows × 17 columns</p>\n",
       "</div>"
      ],
      "text/plain": [
       "     sample_id partner_sample_id  ... species_gambiae_coluzzii   species\n",
       "0     AR0047-C            LUA047  ...                 coluzzii  coluzzii\n",
       "1     AR0049-C            LUA049  ...                 coluzzii  coluzzii\n",
       "2     AR0051-C            LUA051  ...                 coluzzii  coluzzii\n",
       "3     AR0061-C            LUA061  ...                 coluzzii  coluzzii\n",
       "4     AR0078-C            LUA078  ...                 coluzzii  coluzzii\n",
       "...        ...               ...  ...                      ...       ...\n",
       "3076  AD0494-C         80-2-o-16  ...                      NaN       NaN\n",
       "3077  AD0495-C         80-2-o-17  ...                      NaN       NaN\n",
       "3078  AD0496-C         80-2-o-18  ...                      NaN       NaN\n",
       "3079  AD0497-C         80-2-o-19  ...                      NaN       NaN\n",
       "3080  AD0498-C         80-2-o-20  ...                      NaN       NaN\n",
       "\n",
       "[3081 rows x 17 columns]"
      ]
     },
     "execution_count": 62,
     "metadata": {
      "tags": []
     },
     "output_type": "execute_result"
    }
   ],
   "source": [
    "df_samples = ag3.sample_metadata(sample_sets=\"v3\")\n",
    "df_samples"
   ]
  },
  {
   "cell_type": "markdown",
   "metadata": {
    "id": "Pdh6Cq-vpWzz"
   },
   "source": [
    "Now access genotypes for whatever chromosome arm you are analysing, e.g., 2L."
   ]
  },
  {
   "cell_type": "code",
   "execution_count": 63,
   "metadata": {
    "colab": {
     "base_uri": "https://localhost:8080/",
     "height": 172
    },
    "id": "fYO1kEEXpWzz",
    "outputId": "2379826d-daa6-48f0-d589-439bbc95e508"
   },
   "outputs": [
    {
     "data": {
      "text/html": [
       "<table>\n",
       "<tr>\n",
       "<td>\n",
       "<table>\n",
       "  <thead>\n",
       "    <tr><td> </td><th> Array </th><th> Chunk </th></tr>\n",
       "  </thead>\n",
       "  <tbody>\n",
       "    <tr><th> Bytes </th><td> 299.02 GB </td> <td> 122.40 MB </td></tr>\n",
       "    <tr><th> Shape </th><td> (48525747, 3081, 2) </td> <td> (600000, 102, 2) </td></tr>\n",
       "    <tr><th> Count </th><td> 16972 Tasks </td><td> 5080 Chunks </td></tr>\n",
       "    <tr><th> Type </th><td> int8 </td><td> numpy.ndarray </td></tr>\n",
       "  </tbody>\n",
       "</table>\n",
       "</td>\n",
       "<td>\n",
       "<svg width=\"156\" height=\"146\" style=\"stroke:rgb(0,0,0);stroke-width:1\" >\n",
       "\n",
       "  <!-- Horizontal lines -->\n",
       "  <line x1=\"10\" y1=\"0\" x2=\"80\" y2=\"70\" style=\"stroke-width:2\" />\n",
       "  <line x1=\"10\" y1=\"1\" x2=\"80\" y2=\"72\" />\n",
       "  <line x1=\"10\" y1=\"3\" x2=\"80\" y2=\"73\" />\n",
       "  <line x1=\"10\" y1=\"3\" x2=\"80\" y2=\"74\" />\n",
       "  <line x1=\"10\" y1=\"4\" x2=\"80\" y2=\"75\" />\n",
       "  <line x1=\"10\" y1=\"6\" x2=\"80\" y2=\"77\" />\n",
       "  <line x1=\"10\" y1=\"7\" x2=\"80\" y2=\"78\" />\n",
       "  <line x1=\"10\" y1=\"8\" x2=\"80\" y2=\"79\" />\n",
       "  <line x1=\"10\" y1=\"9\" x2=\"80\" y2=\"80\" />\n",
       "  <line x1=\"10\" y1=\"10\" x2=\"80\" y2=\"81\" />\n",
       "  <line x1=\"10\" y1=\"12\" x2=\"80\" y2=\"83\" />\n",
       "  <line x1=\"10\" y1=\"13\" x2=\"80\" y2=\"84\" />\n",
       "  <line x1=\"10\" y1=\"14\" x2=\"80\" y2=\"85\" />\n",
       "  <line x1=\"10\" y1=\"16\" x2=\"80\" y2=\"86\" />\n",
       "  <line x1=\"10\" y1=\"17\" x2=\"80\" y2=\"87\" />\n",
       "  <line x1=\"10\" y1=\"18\" x2=\"80\" y2=\"88\" />\n",
       "  <line x1=\"10\" y1=\"19\" x2=\"80\" y2=\"90\" />\n",
       "  <line x1=\"10\" y1=\"21\" x2=\"80\" y2=\"91\" />\n",
       "  <line x1=\"10\" y1=\"22\" x2=\"80\" y2=\"93\" />\n",
       "  <line x1=\"10\" y1=\"25\" x2=\"80\" y2=\"96\" style=\"stroke-width:2\" />\n",
       "\n",
       "  <!-- Vertical lines -->\n",
       "  <line x1=\"10\" y1=\"0\" x2=\"10\" y2=\"25\" style=\"stroke-width:2\" />\n",
       "  <line x1=\"13\" y1=\"3\" x2=\"13\" y2=\"28\" />\n",
       "  <line x1=\"16\" y1=\"6\" x2=\"16\" y2=\"32\" />\n",
       "  <line x1=\"20\" y1=\"10\" x2=\"20\" y2=\"36\" />\n",
       "  <line x1=\"24\" y1=\"14\" x2=\"24\" y2=\"39\" />\n",
       "  <line x1=\"28\" y1=\"18\" x2=\"28\" y2=\"43\" />\n",
       "  <line x1=\"32\" y1=\"22\" x2=\"32\" y2=\"47\" />\n",
       "  <line x1=\"35\" y1=\"25\" x2=\"35\" y2=\"50\" />\n",
       "  <line x1=\"39\" y1=\"29\" x2=\"39\" y2=\"55\" />\n",
       "  <line x1=\"43\" y1=\"33\" x2=\"43\" y2=\"59\" />\n",
       "  <line x1=\"47\" y1=\"37\" x2=\"47\" y2=\"62\" />\n",
       "  <line x1=\"50\" y1=\"40\" x2=\"50\" y2=\"65\" />\n",
       "  <line x1=\"54\" y1=\"44\" x2=\"54\" y2=\"69\" />\n",
       "  <line x1=\"58\" y1=\"48\" x2=\"58\" y2=\"73\" />\n",
       "  <line x1=\"61\" y1=\"51\" x2=\"61\" y2=\"77\" />\n",
       "  <line x1=\"65\" y1=\"55\" x2=\"65\" y2=\"81\" />\n",
       "  <line x1=\"68\" y1=\"58\" x2=\"68\" y2=\"84\" />\n",
       "  <line x1=\"73\" y1=\"63\" x2=\"73\" y2=\"88\" />\n",
       "  <line x1=\"77\" y1=\"67\" x2=\"77\" y2=\"92\" />\n",
       "  <line x1=\"80\" y1=\"70\" x2=\"80\" y2=\"96\" style=\"stroke-width:2\" />\n",
       "\n",
       "  <!-- Colored Rectangle -->\n",
       "  <polygon points=\"10.0,0.0 80.58823529411765,70.58823529411765 80.58823529411765,96.00085180870013 10.0,25.41261651458248\" style=\"fill:#8B4903A0;stroke-width:0\"/>\n",
       "\n",
       "  <!-- Horizontal lines -->\n",
       "  <line x1=\"10\" y1=\"0\" x2=\"35\" y2=\"0\" style=\"stroke-width:2\" />\n",
       "  <line x1=\"13\" y1=\"3\" x2=\"38\" y2=\"3\" />\n",
       "  <line x1=\"16\" y1=\"6\" x2=\"42\" y2=\"6\" />\n",
       "  <line x1=\"20\" y1=\"10\" x2=\"46\" y2=\"10\" />\n",
       "  <line x1=\"24\" y1=\"14\" x2=\"49\" y2=\"14\" />\n",
       "  <line x1=\"28\" y1=\"18\" x2=\"53\" y2=\"18\" />\n",
       "  <line x1=\"32\" y1=\"22\" x2=\"57\" y2=\"22\" />\n",
       "  <line x1=\"35\" y1=\"25\" x2=\"60\" y2=\"25\" />\n",
       "  <line x1=\"39\" y1=\"29\" x2=\"65\" y2=\"29\" />\n",
       "  <line x1=\"43\" y1=\"33\" x2=\"69\" y2=\"33\" />\n",
       "  <line x1=\"47\" y1=\"37\" x2=\"72\" y2=\"37\" />\n",
       "  <line x1=\"50\" y1=\"40\" x2=\"75\" y2=\"40\" />\n",
       "  <line x1=\"54\" y1=\"44\" x2=\"79\" y2=\"44\" />\n",
       "  <line x1=\"58\" y1=\"48\" x2=\"83\" y2=\"48\" />\n",
       "  <line x1=\"61\" y1=\"51\" x2=\"87\" y2=\"51\" />\n",
       "  <line x1=\"65\" y1=\"55\" x2=\"91\" y2=\"55\" />\n",
       "  <line x1=\"68\" y1=\"58\" x2=\"94\" y2=\"58\" />\n",
       "  <line x1=\"73\" y1=\"63\" x2=\"98\" y2=\"63\" />\n",
       "  <line x1=\"77\" y1=\"67\" x2=\"102\" y2=\"67\" />\n",
       "  <line x1=\"80\" y1=\"70\" x2=\"106\" y2=\"70\" style=\"stroke-width:2\" />\n",
       "\n",
       "  <!-- Vertical lines -->\n",
       "  <line x1=\"10\" y1=\"0\" x2=\"80\" y2=\"70\" style=\"stroke-width:2\" />\n",
       "  <line x1=\"35\" y1=\"0\" x2=\"106\" y2=\"70\" style=\"stroke-width:2\" />\n",
       "\n",
       "  <!-- Colored Rectangle -->\n",
       "  <polygon points=\"10.0,0.0 35.41261651458248,0.0 106.00085180870013,70.58823529411765 80.58823529411765,70.58823529411765\" style=\"fill:#8B4903A0;stroke-width:0\"/>\n",
       "\n",
       "  <!-- Horizontal lines -->\n",
       "  <line x1=\"80\" y1=\"70\" x2=\"106\" y2=\"70\" style=\"stroke-width:2\" />\n",
       "  <line x1=\"80\" y1=\"72\" x2=\"106\" y2=\"72\" />\n",
       "  <line x1=\"80\" y1=\"73\" x2=\"106\" y2=\"73\" />\n",
       "  <line x1=\"80\" y1=\"74\" x2=\"106\" y2=\"74\" />\n",
       "  <line x1=\"80\" y1=\"75\" x2=\"106\" y2=\"75\" />\n",
       "  <line x1=\"80\" y1=\"77\" x2=\"106\" y2=\"77\" />\n",
       "  <line x1=\"80\" y1=\"78\" x2=\"106\" y2=\"78\" />\n",
       "  <line x1=\"80\" y1=\"79\" x2=\"106\" y2=\"79\" />\n",
       "  <line x1=\"80\" y1=\"80\" x2=\"106\" y2=\"80\" />\n",
       "  <line x1=\"80\" y1=\"81\" x2=\"106\" y2=\"81\" />\n",
       "  <line x1=\"80\" y1=\"83\" x2=\"106\" y2=\"83\" />\n",
       "  <line x1=\"80\" y1=\"84\" x2=\"106\" y2=\"84\" />\n",
       "  <line x1=\"80\" y1=\"85\" x2=\"106\" y2=\"85\" />\n",
       "  <line x1=\"80\" y1=\"86\" x2=\"106\" y2=\"86\" />\n",
       "  <line x1=\"80\" y1=\"87\" x2=\"106\" y2=\"87\" />\n",
       "  <line x1=\"80\" y1=\"88\" x2=\"106\" y2=\"88\" />\n",
       "  <line x1=\"80\" y1=\"90\" x2=\"106\" y2=\"90\" />\n",
       "  <line x1=\"80\" y1=\"91\" x2=\"106\" y2=\"91\" />\n",
       "  <line x1=\"80\" y1=\"93\" x2=\"106\" y2=\"93\" />\n",
       "  <line x1=\"80\" y1=\"96\" x2=\"106\" y2=\"96\" style=\"stroke-width:2\" />\n",
       "\n",
       "  <!-- Vertical lines -->\n",
       "  <line x1=\"80\" y1=\"70\" x2=\"80\" y2=\"96\" style=\"stroke-width:2\" />\n",
       "  <line x1=\"106\" y1=\"70\" x2=\"106\" y2=\"96\" style=\"stroke-width:2\" />\n",
       "\n",
       "  <!-- Colored Rectangle -->\n",
       "  <polygon points=\"80.58823529411765,70.58823529411765 106.00085180870013,70.58823529411765 106.00085180870013,96.00085180870013 80.58823529411765,96.00085180870013\" style=\"fill:#8B4903A0;stroke-width:0\"/>\n",
       "\n",
       "  <!-- Text -->\n",
       "  <text x=\"93.294544\" y=\"116.000852\" font-size=\"1.0rem\" font-weight=\"100\" text-anchor=\"middle\" >2</text>\n",
       "  <text x=\"126.000852\" y=\"83.294544\" font-size=\"1.0rem\" font-weight=\"100\" text-anchor=\"middle\" transform=\"rotate(-90,126.000852,83.294544)\">3081</text>\n",
       "  <text x=\"35.294118\" y=\"80.706734\" font-size=\"1.0rem\" font-weight=\"100\" text-anchor=\"middle\" transform=\"rotate(45,35.294118,80.706734)\">48525747</text>\n",
       "</svg>\n",
       "</td>\n",
       "</tr>\n",
       "</table>"
      ],
      "text/plain": [
       "dask.array<concatenate, shape=(48525747, 3081, 2), dtype=int8, chunksize=(600000, 102, 2), chunktype=numpy.ndarray>"
      ]
     },
     "execution_count": 63,
     "metadata": {
      "tags": []
     },
     "output_type": "execute_result"
    }
   ],
   "source": [
    "gt = ag3.snp_genotypes(contig=\"2L\", sample_sets=\"v3\")\n",
    "gt"
   ]
  },
  {
   "cell_type": "markdown",
   "metadata": {
    "id": "FzKBYqD0pWzz"
   },
   "source": [
    "The key point to know here is that the number of rows in the sample metadata dataframe and the number of columns in the genotype array are the same."
   ]
  },
  {
   "cell_type": "code",
   "execution_count": 64,
   "metadata": {
    "colab": {
     "base_uri": "https://localhost:8080/"
    },
    "id": "JzMeARlOpWzz",
    "outputId": "b3451537-1000-4969-b31c-928bd1c4020f"
   },
   "outputs": [
    {
     "data": {
      "text/plain": [
       "True"
      ]
     },
     "execution_count": 64,
     "metadata": {
      "tags": []
     },
     "output_type": "execute_result"
    }
   ],
   "source": [
    "len(df_samples) == gt.shape[1]"
   ]
  },
  {
   "cell_type": "markdown",
   "metadata": {
    "id": "ZKYsqKUQpWzz"
   },
   "source": [
    "Also, the order of samples in the sample metadata is the same as the order of the columns in the genotype array. We can use this correspondance to look up samples and access their genotypes."
   ]
  },
  {
   "cell_type": "markdown",
   "metadata": {
    "id": "cxzE62azpWzz"
   },
   "source": [
    "### Locating a single sample\n",
    "\n",
    "Let's extract both sample metadata and genotypes for a single sample, e.g., sample AB0110-C."
   ]
  },
  {
   "cell_type": "code",
   "execution_count": 65,
   "metadata": {
    "colab": {
     "base_uri": "https://localhost:8080/"
    },
    "id": "RVpyw6ibpWzz",
    "outputId": "7404984e-3de8-4d27-86ff-304d9b97b5ba"
   },
   "outputs": [
    {
     "data": {
      "text/plain": [
       "100"
      ]
     },
     "execution_count": 65,
     "metadata": {
      "tags": []
     },
     "output_type": "execute_result"
    }
   ],
   "source": [
    "loc_sample = df_samples.query(\"sample_id == 'AB0110-C'\").index[0]\n",
    "loc_sample"
   ]
  },
  {
   "cell_type": "code",
   "execution_count": 66,
   "metadata": {
    "colab": {
     "base_uri": "https://localhost:8080/"
    },
    "id": "w_cKS-AupWz0",
    "outputId": "73e10332-5dd9-4cfc-d2a7-2c8bf0b61575"
   },
   "outputs": [
    {
     "data": {
      "text/plain": [
       "sample_id                          AB0110-C\n",
       "partner_sample_id                     BF9-2\n",
       "contributor                     Austin Burt\n",
       "country                        Burkina Faso\n",
       "location                               Bana\n",
       "year                                   2012\n",
       "month                                     7\n",
       "latitude                             11.233\n",
       "longitude                            -4.472\n",
       "sex_call                                  F\n",
       "sample_set                     AG1000G-BF-A\n",
       "release                                  v3\n",
       "aim_fraction_colu                     0.974\n",
       "aim_fraction_arab                     0.002\n",
       "species_gambcolu_arabiensis       gamb_colu\n",
       "species_gambiae_coluzzii           coluzzii\n",
       "species                            coluzzii\n",
       "Name: 100, dtype: object"
      ]
     },
     "execution_count": 66,
     "metadata": {
      "tags": []
     },
     "output_type": "execute_result"
    }
   ],
   "source": [
    "df_samples.iloc[loc_sample]"
   ]
  },
  {
   "cell_type": "code",
   "execution_count": 67,
   "metadata": {
    "colab": {
     "base_uri": "https://localhost:8080/",
     "height": 196
    },
    "id": "dnpzwgUApWz0",
    "outputId": "77c693f0-6466-48f7-f08e-73591c10e804"
   },
   "outputs": [
    {
     "data": {
      "text/html": [
       "<table>\n",
       "<tr>\n",
       "<td>\n",
       "<table>\n",
       "  <thead>\n",
       "    <tr><td> </td><th> Array </th><th> Chunk </th></tr>\n",
       "  </thead>\n",
       "  <tbody>\n",
       "    <tr><th> Bytes </th><td> 97.05 MB </td> <td> 1.20 MB </td></tr>\n",
       "    <tr><th> Shape </th><td> (48525747, 2) </td> <td> (600000, 2) </td></tr>\n",
       "    <tr><th> Count </th><td> 17099 Tasks </td><td> 127 Chunks </td></tr>\n",
       "    <tr><th> Type </th><td> int8 </td><td> numpy.ndarray </td></tr>\n",
       "  </tbody>\n",
       "</table>\n",
       "</td>\n",
       "<td>\n",
       "<svg width=\"75\" height=\"170\" style=\"stroke:rgb(0,0,0);stroke-width:1\" >\n",
       "\n",
       "  <!-- Horizontal lines -->\n",
       "  <line x1=\"0\" y1=\"0\" x2=\"25\" y2=\"0\" style=\"stroke-width:2\" />\n",
       "  <line x1=\"0\" y1=\"5\" x2=\"25\" y2=\"5\" />\n",
       "  <line x1=\"0\" y1=\"11\" x2=\"25\" y2=\"11\" />\n",
       "  <line x1=\"0\" y1=\"18\" x2=\"25\" y2=\"18\" />\n",
       "  <line x1=\"0\" y1=\"24\" x2=\"25\" y2=\"24\" />\n",
       "  <line x1=\"0\" y1=\"31\" x2=\"25\" y2=\"31\" />\n",
       "  <line x1=\"0\" y1=\"37\" x2=\"25\" y2=\"37\" />\n",
       "  <line x1=\"0\" y1=\"43\" x2=\"25\" y2=\"43\" />\n",
       "  <line x1=\"0\" y1=\"50\" x2=\"25\" y2=\"50\" />\n",
       "  <line x1=\"0\" y1=\"57\" x2=\"25\" y2=\"57\" />\n",
       "  <line x1=\"0\" y1=\"63\" x2=\"25\" y2=\"63\" />\n",
       "  <line x1=\"0\" y1=\"68\" x2=\"25\" y2=\"68\" />\n",
       "  <line x1=\"0\" y1=\"75\" x2=\"25\" y2=\"75\" />\n",
       "  <line x1=\"0\" y1=\"82\" x2=\"25\" y2=\"82\" />\n",
       "  <line x1=\"0\" y1=\"88\" x2=\"25\" y2=\"88\" />\n",
       "  <line x1=\"0\" y1=\"94\" x2=\"25\" y2=\"94\" />\n",
       "  <line x1=\"0\" y1=\"100\" x2=\"25\" y2=\"100\" />\n",
       "  <line x1=\"0\" y1=\"107\" x2=\"25\" y2=\"107\" />\n",
       "  <line x1=\"0\" y1=\"114\" x2=\"25\" y2=\"114\" />\n",
       "  <line x1=\"0\" y1=\"120\" x2=\"25\" y2=\"120\" style=\"stroke-width:2\" />\n",
       "\n",
       "  <!-- Vertical lines -->\n",
       "  <line x1=\"0\" y1=\"0\" x2=\"0\" y2=\"120\" style=\"stroke-width:2\" />\n",
       "  <line x1=\"25\" y1=\"0\" x2=\"25\" y2=\"120\" style=\"stroke-width:2\" />\n",
       "\n",
       "  <!-- Colored Rectangle -->\n",
       "  <polygon points=\"0.0,0.0 25.412616514582485,0.0 25.412616514582485,120.0 0.0,120.0\" style=\"fill:#8B4903A0;stroke-width:0\"/>\n",
       "\n",
       "  <!-- Text -->\n",
       "  <text x=\"12.706308\" y=\"140.000000\" font-size=\"1.0rem\" font-weight=\"100\" text-anchor=\"middle\" >2</text>\n",
       "  <text x=\"45.412617\" y=\"60.000000\" font-size=\"1.0rem\" font-weight=\"100\" text-anchor=\"middle\" transform=\"rotate(-90,45.412617,60.000000)\">48525747</text>\n",
       "</svg>\n",
       "</td>\n",
       "</tr>\n",
       "</table>"
      ],
      "text/plain": [
       "dask.array<getitem, shape=(48525747, 2), dtype=int8, chunksize=(600000, 2), chunktype=numpy.ndarray>"
      ]
     },
     "execution_count": 67,
     "metadata": {
      "tags": []
     },
     "output_type": "execute_result"
    }
   ],
   "source": [
    "gt_sample = gt[:, loc_sample]\n",
    "gt_sample"
   ]
  },
  {
   "cell_type": "code",
   "execution_count": 68,
   "metadata": {
    "id": "RWMTRpmfpWz0"
   },
   "outputs": [],
   "source": [
    "# compute some genotype counts for our sample of interest\n",
    "gt_sample = allel.GenotypeVector(gt_sample.compute())"
   ]
  },
  {
   "cell_type": "code",
   "execution_count": 69,
   "metadata": {
    "colab": {
     "base_uri": "https://localhost:8080/"
    },
    "id": "4aO-xxNKpWz0",
    "outputId": "4431ba91-f117-40eb-9c66-7ac397384c9c"
   },
   "outputs": [
    {
     "data": {
      "text/plain": [
       "3167911"
      ]
     },
     "execution_count": 69,
     "metadata": {
      "tags": []
     },
     "output_type": "execute_result"
    }
   ],
   "source": [
    "gt_sample.count_missing()"
   ]
  },
  {
   "cell_type": "code",
   "execution_count": 70,
   "metadata": {
    "colab": {
     "base_uri": "https://localhost:8080/"
    },
    "id": "_84zKk2xpWz0",
    "outputId": "6f4e12a1-8db4-4a14-e452-f6ab86a45fb5"
   },
   "outputs": [
    {
     "data": {
      "text/plain": [
       "43732318"
      ]
     },
     "execution_count": 70,
     "metadata": {
      "tags": []
     },
     "output_type": "execute_result"
    }
   ],
   "source": [
    "gt_sample.count_hom_ref()"
   ]
  },
  {
   "cell_type": "code",
   "execution_count": 71,
   "metadata": {
    "colab": {
     "base_uri": "https://localhost:8080/"
    },
    "id": "H4KPi2bOpWz0",
    "outputId": "cc463e02-fe44-42a2-e929-e8563f093030"
   },
   "outputs": [
    {
     "data": {
      "text/plain": [
       "816765"
      ]
     },
     "execution_count": 71,
     "metadata": {
      "tags": []
     },
     "output_type": "execute_result"
    }
   ],
   "source": [
    "gt_sample.count_het()"
   ]
  },
  {
   "cell_type": "code",
   "execution_count": 72,
   "metadata": {
    "colab": {
     "base_uri": "https://localhost:8080/"
    },
    "id": "YITDWVDbpWz1",
    "outputId": "ad60dce2-58b0-44fc-e4a0-27cc065523f1"
   },
   "outputs": [
    {
     "data": {
      "text/plain": [
       "808753"
      ]
     },
     "execution_count": 72,
     "metadata": {
      "tags": []
     },
     "output_type": "execute_result"
    }
   ],
   "source": [
    "gt_sample.count_hom_alt()"
   ]
  },
  {
   "cell_type": "markdown",
   "metadata": {
    "id": "ICQy7sBCpWz1"
   },
   "source": [
    "### Locating multiple samples\n",
    "\n",
    "We will also often want to locate a group of samples based on their metadata, e.g., all samples from a given country, collected in a certain year, of a certain species; and then analyse their genotypes. Let's look at an example."
   ]
  },
  {
   "cell_type": "code",
   "execution_count": 73,
   "metadata": {
    "colab": {
     "base_uri": "https://localhost:8080/"
    },
    "id": "de9lIt--pWz1",
    "outputId": "9619b542-1d70-48cb-ed5b-b043f633f2af"
   },
   "outputs": [
    {
     "data": {
      "text/plain": [
       "array([False, False, False, ..., False, False, False])"
      ]
     },
     "execution_count": 73,
     "metadata": {
      "tags": []
     },
     "output_type": "execute_result"
    }
   ],
   "source": [
    "# select An. gambiae samples from Burkina Faso collected in 2012\n",
    "query = \"(country == 'Burkina Faso') and (year == 2012) and (species == 'gambiae')\"\n",
    "loc_samples = df_samples.eval(query).values\n",
    "loc_samples"
   ]
  },
  {
   "cell_type": "code",
   "execution_count": 74,
   "metadata": {
    "colab": {
     "base_uri": "https://localhost:8080/",
     "height": 605
    },
    "id": "jjmIYFZLpWz1",
    "outputId": "4d8f02e0-e701-4691-a7ac-8e5201737444"
   },
   "outputs": [
    {
     "data": {
      "text/html": [
       "<div>\n",
       "<style scoped>\n",
       "    .dataframe tbody tr th:only-of-type {\n",
       "        vertical-align: middle;\n",
       "    }\n",
       "\n",
       "    .dataframe tbody tr th {\n",
       "        vertical-align: top;\n",
       "    }\n",
       "\n",
       "    .dataframe thead th {\n",
       "        text-align: right;\n",
       "    }\n",
       "</style>\n",
       "<table border=\"1\" class=\"dataframe\">\n",
       "  <thead>\n",
       "    <tr style=\"text-align: right;\">\n",
       "      <th></th>\n",
       "      <th>sample_id</th>\n",
       "      <th>partner_sample_id</th>\n",
       "      <th>contributor</th>\n",
       "      <th>country</th>\n",
       "      <th>location</th>\n",
       "      <th>year</th>\n",
       "      <th>month</th>\n",
       "      <th>latitude</th>\n",
       "      <th>longitude</th>\n",
       "      <th>sex_call</th>\n",
       "      <th>sample_set</th>\n",
       "      <th>release</th>\n",
       "      <th>aim_fraction_colu</th>\n",
       "      <th>aim_fraction_arab</th>\n",
       "      <th>species_gambcolu_arabiensis</th>\n",
       "      <th>species_gambiae_coluzzii</th>\n",
       "      <th>species</th>\n",
       "    </tr>\n",
       "  </thead>\n",
       "  <tbody>\n",
       "    <tr>\n",
       "      <th>81</th>\n",
       "      <td>AB0085-Cx</td>\n",
       "      <td>BF2-4</td>\n",
       "      <td>Austin Burt</td>\n",
       "      <td>Burkina Faso</td>\n",
       "      <td>Pala</td>\n",
       "      <td>2012</td>\n",
       "      <td>7</td>\n",
       "      <td>11.150</td>\n",
       "      <td>-4.235</td>\n",
       "      <td>F</td>\n",
       "      <td>AG1000G-BF-A</td>\n",
       "      <td>v3</td>\n",
       "      <td>0.024</td>\n",
       "      <td>0.002</td>\n",
       "      <td>gamb_colu</td>\n",
       "      <td>gambiae</td>\n",
       "      <td>gambiae</td>\n",
       "    </tr>\n",
       "    <tr>\n",
       "      <th>82</th>\n",
       "      <td>AB0086-Cx</td>\n",
       "      <td>BF2-6</td>\n",
       "      <td>Austin Burt</td>\n",
       "      <td>Burkina Faso</td>\n",
       "      <td>Pala</td>\n",
       "      <td>2012</td>\n",
       "      <td>7</td>\n",
       "      <td>11.150</td>\n",
       "      <td>-4.235</td>\n",
       "      <td>F</td>\n",
       "      <td>AG1000G-BF-A</td>\n",
       "      <td>v3</td>\n",
       "      <td>0.038</td>\n",
       "      <td>0.002</td>\n",
       "      <td>gamb_colu</td>\n",
       "      <td>gambiae</td>\n",
       "      <td>gambiae</td>\n",
       "    </tr>\n",
       "    <tr>\n",
       "      <th>91</th>\n",
       "      <td>AB0096-C</td>\n",
       "      <td>BF4-4</td>\n",
       "      <td>Austin Burt</td>\n",
       "      <td>Burkina Faso</td>\n",
       "      <td>Bana</td>\n",
       "      <td>2012</td>\n",
       "      <td>7</td>\n",
       "      <td>11.233</td>\n",
       "      <td>-4.472</td>\n",
       "      <td>F</td>\n",
       "      <td>AG1000G-BF-A</td>\n",
       "      <td>v3</td>\n",
       "      <td>0.032</td>\n",
       "      <td>0.002</td>\n",
       "      <td>gamb_colu</td>\n",
       "      <td>gambiae</td>\n",
       "      <td>gambiae</td>\n",
       "    </tr>\n",
       "    <tr>\n",
       "      <th>97</th>\n",
       "      <td>AB0103-C</td>\n",
       "      <td>BF6-7</td>\n",
       "      <td>Austin Burt</td>\n",
       "      <td>Burkina Faso</td>\n",
       "      <td>Bana</td>\n",
       "      <td>2012</td>\n",
       "      <td>7</td>\n",
       "      <td>11.233</td>\n",
       "      <td>-4.472</td>\n",
       "      <td>F</td>\n",
       "      <td>AG1000G-BF-A</td>\n",
       "      <td>v3</td>\n",
       "      <td>0.040</td>\n",
       "      <td>0.002</td>\n",
       "      <td>gamb_colu</td>\n",
       "      <td>gambiae</td>\n",
       "      <td>gambiae</td>\n",
       "    </tr>\n",
       "    <tr>\n",
       "      <th>98</th>\n",
       "      <td>AB0104-Cx</td>\n",
       "      <td>BF6-8</td>\n",
       "      <td>Austin Burt</td>\n",
       "      <td>Burkina Faso</td>\n",
       "      <td>Bana</td>\n",
       "      <td>2012</td>\n",
       "      <td>7</td>\n",
       "      <td>11.233</td>\n",
       "      <td>-4.472</td>\n",
       "      <td>F</td>\n",
       "      <td>AG1000G-BF-A</td>\n",
       "      <td>v3</td>\n",
       "      <td>0.026</td>\n",
       "      <td>0.002</td>\n",
       "      <td>gamb_colu</td>\n",
       "      <td>gambiae</td>\n",
       "      <td>gambiae</td>\n",
       "    </tr>\n",
       "    <tr>\n",
       "      <th>...</th>\n",
       "      <td>...</td>\n",
       "      <td>...</td>\n",
       "      <td>...</td>\n",
       "      <td>...</td>\n",
       "      <td>...</td>\n",
       "      <td>...</td>\n",
       "      <td>...</td>\n",
       "      <td>...</td>\n",
       "      <td>...</td>\n",
       "      <td>...</td>\n",
       "      <td>...</td>\n",
       "      <td>...</td>\n",
       "      <td>...</td>\n",
       "      <td>...</td>\n",
       "      <td>...</td>\n",
       "      <td>...</td>\n",
       "      <td>...</td>\n",
       "    </tr>\n",
       "    <tr>\n",
       "      <th>255</th>\n",
       "      <td>AB0278-C</td>\n",
       "      <td>BF12-29</td>\n",
       "      <td>Austin Burt</td>\n",
       "      <td>Burkina Faso</td>\n",
       "      <td>Pala</td>\n",
       "      <td>2012</td>\n",
       "      <td>7</td>\n",
       "      <td>11.150</td>\n",
       "      <td>-4.235</td>\n",
       "      <td>F</td>\n",
       "      <td>AG1000G-BF-A</td>\n",
       "      <td>v3</td>\n",
       "      <td>0.017</td>\n",
       "      <td>0.002</td>\n",
       "      <td>gamb_colu</td>\n",
       "      <td>gambiae</td>\n",
       "      <td>gambiae</td>\n",
       "    </tr>\n",
       "    <tr>\n",
       "      <th>257</th>\n",
       "      <td>AB0280-Cx</td>\n",
       "      <td>BF12-31</td>\n",
       "      <td>Austin Burt</td>\n",
       "      <td>Burkina Faso</td>\n",
       "      <td>Pala</td>\n",
       "      <td>2012</td>\n",
       "      <td>7</td>\n",
       "      <td>11.150</td>\n",
       "      <td>-4.235</td>\n",
       "      <td>F</td>\n",
       "      <td>AG1000G-BF-A</td>\n",
       "      <td>v3</td>\n",
       "      <td>0.065</td>\n",
       "      <td>0.003</td>\n",
       "      <td>gamb_colu</td>\n",
       "      <td>gambiae</td>\n",
       "      <td>gambiae</td>\n",
       "    </tr>\n",
       "    <tr>\n",
       "      <th>258</th>\n",
       "      <td>AB0281-Cx</td>\n",
       "      <td>BF12-32</td>\n",
       "      <td>Austin Burt</td>\n",
       "      <td>Burkina Faso</td>\n",
       "      <td>Pala</td>\n",
       "      <td>2012</td>\n",
       "      <td>7</td>\n",
       "      <td>11.150</td>\n",
       "      <td>-4.235</td>\n",
       "      <td>F</td>\n",
       "      <td>AG1000G-BF-A</td>\n",
       "      <td>v3</td>\n",
       "      <td>0.029</td>\n",
       "      <td>0.002</td>\n",
       "      <td>gamb_colu</td>\n",
       "      <td>gambiae</td>\n",
       "      <td>gambiae</td>\n",
       "    </tr>\n",
       "    <tr>\n",
       "      <th>260</th>\n",
       "      <td>AB0283-C</td>\n",
       "      <td>BF10-12</td>\n",
       "      <td>Austin Burt</td>\n",
       "      <td>Burkina Faso</td>\n",
       "      <td>Pala</td>\n",
       "      <td>2012</td>\n",
       "      <td>7</td>\n",
       "      <td>11.150</td>\n",
       "      <td>-4.235</td>\n",
       "      <td>F</td>\n",
       "      <td>AG1000G-BF-A</td>\n",
       "      <td>v3</td>\n",
       "      <td>0.028</td>\n",
       "      <td>0.002</td>\n",
       "      <td>gamb_colu</td>\n",
       "      <td>gambiae</td>\n",
       "      <td>gambiae</td>\n",
       "    </tr>\n",
       "    <tr>\n",
       "      <th>261</th>\n",
       "      <td>AB0284-C</td>\n",
       "      <td>BF10-13</td>\n",
       "      <td>Austin Burt</td>\n",
       "      <td>Burkina Faso</td>\n",
       "      <td>Pala</td>\n",
       "      <td>2012</td>\n",
       "      <td>7</td>\n",
       "      <td>11.150</td>\n",
       "      <td>-4.235</td>\n",
       "      <td>F</td>\n",
       "      <td>AG1000G-BF-A</td>\n",
       "      <td>v3</td>\n",
       "      <td>0.024</td>\n",
       "      <td>0.002</td>\n",
       "      <td>gamb_colu</td>\n",
       "      <td>gambiae</td>\n",
       "      <td>gambiae</td>\n",
       "    </tr>\n",
       "  </tbody>\n",
       "</table>\n",
       "<p>98 rows × 17 columns</p>\n",
       "</div>"
      ],
      "text/plain": [
       "     sample_id partner_sample_id  ... species_gambiae_coluzzii  species\n",
       "81   AB0085-Cx             BF2-4  ...                  gambiae  gambiae\n",
       "82   AB0086-Cx             BF2-6  ...                  gambiae  gambiae\n",
       "91    AB0096-C             BF4-4  ...                  gambiae  gambiae\n",
       "97    AB0103-C             BF6-7  ...                  gambiae  gambiae\n",
       "98   AB0104-Cx             BF6-8  ...                  gambiae  gambiae\n",
       "..         ...               ...  ...                      ...      ...\n",
       "255   AB0278-C           BF12-29  ...                  gambiae  gambiae\n",
       "257  AB0280-Cx           BF12-31  ...                  gambiae  gambiae\n",
       "258  AB0281-Cx           BF12-32  ...                  gambiae  gambiae\n",
       "260   AB0283-C           BF10-12  ...                  gambiae  gambiae\n",
       "261   AB0284-C           BF10-13  ...                  gambiae  gambiae\n",
       "\n",
       "[98 rows x 17 columns]"
      ]
     },
     "execution_count": 74,
     "metadata": {
      "tags": []
     },
     "output_type": "execute_result"
    }
   ],
   "source": [
    "# examing their metadata\n",
    "df_samples_selected = df_samples.loc[loc_samples]\n",
    "df_samples_selected"
   ]
  },
  {
   "cell_type": "code",
   "execution_count": 75,
   "metadata": {
    "colab": {
     "base_uri": "https://localhost:8080/",
     "height": 172
    },
    "id": "UATqhcoDpWz1",
    "outputId": "78134eb8-0e47-4d3a-8208-d00e5443e76d"
   },
   "outputs": [
    {
     "data": {
      "text/html": [
       "<table>\n",
       "<tr>\n",
       "<td>\n",
       "<table>\n",
       "  <thead>\n",
       "    <tr><td> </td><th> Array </th><th> Chunk </th></tr>\n",
       "  </thead>\n",
       "  <tbody>\n",
       "    <tr><th> Bytes </th><td> 9.51 GB </td> <td> 2.40 MB </td></tr>\n",
       "    <tr><th> Shape </th><td> (48525747, 98, 2) </td> <td> (600000, 2, 2) </td></tr>\n",
       "    <tr><th> Count </th><td> 23195 Tasks </td><td> 6223 Chunks </td></tr>\n",
       "    <tr><th> Type </th><td> int8 </td><td> numpy.ndarray </td></tr>\n",
       "  </tbody>\n",
       "</table>\n",
       "</td>\n",
       "<td>\n",
       "<svg width=\"156\" height=\"146\" style=\"stroke:rgb(0,0,0);stroke-width:1\" >\n",
       "\n",
       "  <!-- Horizontal lines -->\n",
       "  <line x1=\"10\" y1=\"0\" x2=\"80\" y2=\"70\" style=\"stroke-width:2\" />\n",
       "  <line x1=\"10\" y1=\"1\" x2=\"80\" y2=\"71\" />\n",
       "  <line x1=\"10\" y1=\"2\" x2=\"80\" y2=\"73\" />\n",
       "  <line x1=\"10\" y1=\"3\" x2=\"80\" y2=\"74\" />\n",
       "  <line x1=\"10\" y1=\"5\" x2=\"80\" y2=\"75\" />\n",
       "  <line x1=\"10\" y1=\"6\" x2=\"80\" y2=\"76\" />\n",
       "  <line x1=\"10\" y1=\"7\" x2=\"80\" y2=\"78\" />\n",
       "  <line x1=\"10\" y1=\"9\" x2=\"80\" y2=\"79\" />\n",
       "  <line x1=\"10\" y1=\"10\" x2=\"80\" y2=\"80\" />\n",
       "  <line x1=\"10\" y1=\"11\" x2=\"80\" y2=\"82\" />\n",
       "  <line x1=\"10\" y1=\"12\" x2=\"80\" y2=\"83\" />\n",
       "  <line x1=\"10\" y1=\"14\" x2=\"80\" y2=\"85\" />\n",
       "  <line x1=\"10\" y1=\"15\" x2=\"80\" y2=\"86\" />\n",
       "  <line x1=\"10\" y1=\"17\" x2=\"80\" y2=\"87\" />\n",
       "  <line x1=\"10\" y1=\"18\" x2=\"80\" y2=\"89\" />\n",
       "  <line x1=\"10\" y1=\"19\" x2=\"80\" y2=\"90\" />\n",
       "  <line x1=\"10\" y1=\"21\" x2=\"80\" y2=\"91\" />\n",
       "  <line x1=\"10\" y1=\"22\" x2=\"80\" y2=\"92\" />\n",
       "  <line x1=\"10\" y1=\"23\" x2=\"80\" y2=\"94\" />\n",
       "  <line x1=\"10\" y1=\"25\" x2=\"80\" y2=\"96\" style=\"stroke-width:2\" />\n",
       "\n",
       "  <!-- Vertical lines -->\n",
       "  <line x1=\"10\" y1=\"0\" x2=\"10\" y2=\"25\" style=\"stroke-width:2\" />\n",
       "  <line x1=\"13\" y1=\"3\" x2=\"13\" y2=\"28\" />\n",
       "  <line x1=\"16\" y1=\"6\" x2=\"16\" y2=\"32\" />\n",
       "  <line x1=\"20\" y1=\"10\" x2=\"20\" y2=\"36\" />\n",
       "  <line x1=\"24\" y1=\"14\" x2=\"24\" y2=\"39\" />\n",
       "  <line x1=\"28\" y1=\"18\" x2=\"28\" y2=\"43\" />\n",
       "  <line x1=\"32\" y1=\"22\" x2=\"32\" y2=\"47\" />\n",
       "  <line x1=\"35\" y1=\"25\" x2=\"35\" y2=\"50\" />\n",
       "  <line x1=\"39\" y1=\"29\" x2=\"39\" y2=\"55\" />\n",
       "  <line x1=\"43\" y1=\"33\" x2=\"43\" y2=\"59\" />\n",
       "  <line x1=\"47\" y1=\"37\" x2=\"47\" y2=\"62\" />\n",
       "  <line x1=\"50\" y1=\"40\" x2=\"50\" y2=\"65\" />\n",
       "  <line x1=\"54\" y1=\"44\" x2=\"54\" y2=\"69\" />\n",
       "  <line x1=\"58\" y1=\"48\" x2=\"58\" y2=\"73\" />\n",
       "  <line x1=\"61\" y1=\"51\" x2=\"61\" y2=\"77\" />\n",
       "  <line x1=\"65\" y1=\"55\" x2=\"65\" y2=\"81\" />\n",
       "  <line x1=\"68\" y1=\"58\" x2=\"68\" y2=\"84\" />\n",
       "  <line x1=\"73\" y1=\"63\" x2=\"73\" y2=\"88\" />\n",
       "  <line x1=\"77\" y1=\"67\" x2=\"77\" y2=\"92\" />\n",
       "  <line x1=\"80\" y1=\"70\" x2=\"80\" y2=\"96\" style=\"stroke-width:2\" />\n",
       "\n",
       "  <!-- Colored Rectangle -->\n",
       "  <polygon points=\"10.0,0.0 80.58823529411765,70.58823529411765 80.58823529411765,96.00085180870013 10.0,25.412616514582485\" style=\"fill:#8B4903A0;stroke-width:0\"/>\n",
       "\n",
       "  <!-- Horizontal lines -->\n",
       "  <line x1=\"10\" y1=\"0\" x2=\"35\" y2=\"0\" style=\"stroke-width:2\" />\n",
       "  <line x1=\"13\" y1=\"3\" x2=\"38\" y2=\"3\" />\n",
       "  <line x1=\"16\" y1=\"6\" x2=\"42\" y2=\"6\" />\n",
       "  <line x1=\"20\" y1=\"10\" x2=\"46\" y2=\"10\" />\n",
       "  <line x1=\"24\" y1=\"14\" x2=\"49\" y2=\"14\" />\n",
       "  <line x1=\"28\" y1=\"18\" x2=\"53\" y2=\"18\" />\n",
       "  <line x1=\"32\" y1=\"22\" x2=\"57\" y2=\"22\" />\n",
       "  <line x1=\"35\" y1=\"25\" x2=\"60\" y2=\"25\" />\n",
       "  <line x1=\"39\" y1=\"29\" x2=\"65\" y2=\"29\" />\n",
       "  <line x1=\"43\" y1=\"33\" x2=\"69\" y2=\"33\" />\n",
       "  <line x1=\"47\" y1=\"37\" x2=\"72\" y2=\"37\" />\n",
       "  <line x1=\"50\" y1=\"40\" x2=\"75\" y2=\"40\" />\n",
       "  <line x1=\"54\" y1=\"44\" x2=\"79\" y2=\"44\" />\n",
       "  <line x1=\"58\" y1=\"48\" x2=\"83\" y2=\"48\" />\n",
       "  <line x1=\"61\" y1=\"51\" x2=\"87\" y2=\"51\" />\n",
       "  <line x1=\"65\" y1=\"55\" x2=\"91\" y2=\"55\" />\n",
       "  <line x1=\"68\" y1=\"58\" x2=\"94\" y2=\"58\" />\n",
       "  <line x1=\"73\" y1=\"63\" x2=\"98\" y2=\"63\" />\n",
       "  <line x1=\"77\" y1=\"67\" x2=\"102\" y2=\"67\" />\n",
       "  <line x1=\"80\" y1=\"70\" x2=\"106\" y2=\"70\" style=\"stroke-width:2\" />\n",
       "\n",
       "  <!-- Vertical lines -->\n",
       "  <line x1=\"10\" y1=\"0\" x2=\"80\" y2=\"70\" style=\"stroke-width:2\" />\n",
       "  <line x1=\"35\" y1=\"0\" x2=\"106\" y2=\"70\" style=\"stroke-width:2\" />\n",
       "\n",
       "  <!-- Colored Rectangle -->\n",
       "  <polygon points=\"10.0,0.0 35.41261651458248,0.0 106.00085180870013,70.58823529411765 80.58823529411765,70.58823529411765\" style=\"fill:#8B4903A0;stroke-width:0\"/>\n",
       "\n",
       "  <!-- Horizontal lines -->\n",
       "  <line x1=\"80\" y1=\"70\" x2=\"106\" y2=\"70\" style=\"stroke-width:2\" />\n",
       "  <line x1=\"80\" y1=\"71\" x2=\"106\" y2=\"71\" />\n",
       "  <line x1=\"80\" y1=\"73\" x2=\"106\" y2=\"73\" />\n",
       "  <line x1=\"80\" y1=\"74\" x2=\"106\" y2=\"74\" />\n",
       "  <line x1=\"80\" y1=\"75\" x2=\"106\" y2=\"75\" />\n",
       "  <line x1=\"80\" y1=\"76\" x2=\"106\" y2=\"76\" />\n",
       "  <line x1=\"80\" y1=\"78\" x2=\"106\" y2=\"78\" />\n",
       "  <line x1=\"80\" y1=\"79\" x2=\"106\" y2=\"79\" />\n",
       "  <line x1=\"80\" y1=\"80\" x2=\"106\" y2=\"80\" />\n",
       "  <line x1=\"80\" y1=\"82\" x2=\"106\" y2=\"82\" />\n",
       "  <line x1=\"80\" y1=\"83\" x2=\"106\" y2=\"83\" />\n",
       "  <line x1=\"80\" y1=\"85\" x2=\"106\" y2=\"85\" />\n",
       "  <line x1=\"80\" y1=\"86\" x2=\"106\" y2=\"86\" />\n",
       "  <line x1=\"80\" y1=\"87\" x2=\"106\" y2=\"87\" />\n",
       "  <line x1=\"80\" y1=\"89\" x2=\"106\" y2=\"89\" />\n",
       "  <line x1=\"80\" y1=\"90\" x2=\"106\" y2=\"90\" />\n",
       "  <line x1=\"80\" y1=\"91\" x2=\"106\" y2=\"91\" />\n",
       "  <line x1=\"80\" y1=\"92\" x2=\"106\" y2=\"92\" />\n",
       "  <line x1=\"80\" y1=\"94\" x2=\"106\" y2=\"94\" />\n",
       "  <line x1=\"80\" y1=\"96\" x2=\"106\" y2=\"96\" style=\"stroke-width:2\" />\n",
       "\n",
       "  <!-- Vertical lines -->\n",
       "  <line x1=\"80\" y1=\"70\" x2=\"80\" y2=\"96\" style=\"stroke-width:2\" />\n",
       "  <line x1=\"106\" y1=\"70\" x2=\"106\" y2=\"96\" style=\"stroke-width:2\" />\n",
       "\n",
       "  <!-- Colored Rectangle -->\n",
       "  <polygon points=\"80.58823529411765,70.58823529411765 106.00085180870013,70.58823529411765 106.00085180870013,96.00085180870013 80.58823529411765,96.00085180870013\" style=\"fill:#8B4903A0;stroke-width:0\"/>\n",
       "\n",
       "  <!-- Text -->\n",
       "  <text x=\"93.294544\" y=\"116.000852\" font-size=\"1.0rem\" font-weight=\"100\" text-anchor=\"middle\" >2</text>\n",
       "  <text x=\"126.000852\" y=\"83.294544\" font-size=\"1.0rem\" font-weight=\"100\" text-anchor=\"middle\" transform=\"rotate(0,126.000852,83.294544)\">98</text>\n",
       "  <text x=\"35.294118\" y=\"80.706734\" font-size=\"1.0rem\" font-weight=\"100\" text-anchor=\"middle\" transform=\"rotate(45,35.294118,80.706734)\">48525747</text>\n",
       "</svg>\n",
       "</td>\n",
       "</tr>\n",
       "</table>"
      ],
      "text/plain": [
       "dask.array<getitem, shape=(48525747, 98, 2), dtype=int8, chunksize=(600000, 2, 2), chunktype=numpy.ndarray>"
      ]
     },
     "execution_count": 75,
     "metadata": {
      "tags": []
     },
     "output_type": "execute_result"
    }
   ],
   "source": [
    "# select genotypes\n",
    "gt_samples = gt[:, loc_samples]\n",
    "gt_samples"
   ]
  },
  {
   "cell_type": "markdown",
   "metadata": {
    "id": "bkLXUB6PpWz1"
   },
   "source": [
    "Note above that we now have a genotype array with 98 columns, which corresponds to the 98 samples we selected with our sample metadata query."
   ]
  },
  {
   "cell_type": "markdown",
   "metadata": {
    "id": "yvItl7tIpWz1"
   },
   "source": [
    "## Selecting sites and samples\n",
    "\n",
    "We can also combine site selections with sample selections, e.g.:"
   ]
  },
  {
   "cell_type": "code",
   "execution_count": 76,
   "metadata": {
    "colab": {
     "base_uri": "https://localhost:8080/"
    },
    "id": "TKgUnF2-pWz2",
    "outputId": "daec414e-d043-40d5-b534-6c9a7485f18a"
   },
   "outputs": [
    {
     "data": {
      "text/plain": [
       "array([0, 2], dtype=int8)"
      ]
     },
     "execution_count": 76,
     "metadata": {
      "tags": []
     },
     "output_type": "execute_result"
    }
   ],
   "source": [
    "# obtain genotype at 2L:2422652 in sample AB0110-C\n",
    "gt[loc_site, loc_sample].compute()"
   ]
  },
  {
   "cell_type": "code",
   "execution_count": 77,
   "metadata": {
    "colab": {
     "base_uri": "https://localhost:8080/",
     "height": 172
    },
    "id": "L4qU0M-_pWz2",
    "outputId": "2011603d-ebd5-479c-dea7-7ef54b98074b"
   },
   "outputs": [
    {
     "data": {
      "text/html": [
       "<table>\n",
       "<tr>\n",
       "<td>\n",
       "<table>\n",
       "  <thead>\n",
       "    <tr><td> </td><th> Array </th><th> Chunk </th></tr>\n",
       "  </thead>\n",
       "  <tbody>\n",
       "    <tr><th> Bytes </th><td> 13.65 MB </td> <td> 5.70 MB </td></tr>\n",
       "    <tr><th> Shape </th><td> (69667, 98, 2) </td> <td> (52802, 54, 2) </td></tr>\n",
       "    <tr><th> Count </th><td> 17056 Tasks </td><td> 4 Chunks </td></tr>\n",
       "    <tr><th> Type </th><td> int8 </td><td> numpy.ndarray </td></tr>\n",
       "  </tbody>\n",
       "</table>\n",
       "</td>\n",
       "<td>\n",
       "<svg width=\"156\" height=\"146\" style=\"stroke:rgb(0,0,0);stroke-width:1\" >\n",
       "\n",
       "  <!-- Horizontal lines -->\n",
       "  <line x1=\"10\" y1=\"0\" x2=\"80\" y2=\"70\" style=\"stroke-width:2\" />\n",
       "  <line x1=\"10\" y1=\"14\" x2=\"80\" y2=\"84\" />\n",
       "  <line x1=\"10\" y1=\"25\" x2=\"80\" y2=\"96\" style=\"stroke-width:2\" />\n",
       "\n",
       "  <!-- Vertical lines -->\n",
       "  <line x1=\"10\" y1=\"0\" x2=\"10\" y2=\"25\" style=\"stroke-width:2\" />\n",
       "  <line x1=\"27\" y1=\"17\" x2=\"27\" y2=\"42\" />\n",
       "  <line x1=\"80\" y1=\"70\" x2=\"80\" y2=\"96\" style=\"stroke-width:2\" />\n",
       "\n",
       "  <!-- Colored Rectangle -->\n",
       "  <polygon points=\"10.0,0.0 80.58823529411765,70.58823529411765 80.58823529411765,96.00085180870013 10.0,25.412616514582485\" style=\"fill:#ECB172A0;stroke-width:0\"/>\n",
       "\n",
       "  <!-- Horizontal lines -->\n",
       "  <line x1=\"10\" y1=\"0\" x2=\"35\" y2=\"0\" style=\"stroke-width:2\" />\n",
       "  <line x1=\"27\" y1=\"17\" x2=\"52\" y2=\"17\" />\n",
       "  <line x1=\"80\" y1=\"70\" x2=\"106\" y2=\"70\" style=\"stroke-width:2\" />\n",
       "\n",
       "  <!-- Vertical lines -->\n",
       "  <line x1=\"10\" y1=\"0\" x2=\"80\" y2=\"70\" style=\"stroke-width:2\" />\n",
       "  <line x1=\"35\" y1=\"0\" x2=\"106\" y2=\"70\" style=\"stroke-width:2\" />\n",
       "\n",
       "  <!-- Colored Rectangle -->\n",
       "  <polygon points=\"10.0,0.0 35.41261651458248,0.0 106.00085180870013,70.58823529411765 80.58823529411765,70.58823529411765\" style=\"fill:#ECB172A0;stroke-width:0\"/>\n",
       "\n",
       "  <!-- Horizontal lines -->\n",
       "  <line x1=\"80\" y1=\"70\" x2=\"106\" y2=\"70\" style=\"stroke-width:2\" />\n",
       "  <line x1=\"80\" y1=\"84\" x2=\"106\" y2=\"84\" />\n",
       "  <line x1=\"80\" y1=\"96\" x2=\"106\" y2=\"96\" style=\"stroke-width:2\" />\n",
       "\n",
       "  <!-- Vertical lines -->\n",
       "  <line x1=\"80\" y1=\"70\" x2=\"80\" y2=\"96\" style=\"stroke-width:2\" />\n",
       "  <line x1=\"106\" y1=\"70\" x2=\"106\" y2=\"96\" style=\"stroke-width:2\" />\n",
       "\n",
       "  <!-- Colored Rectangle -->\n",
       "  <polygon points=\"80.58823529411765,70.58823529411765 106.00085180870013,70.58823529411765 106.00085180870013,96.00085180870013 80.58823529411765,96.00085180870013\" style=\"fill:#ECB172A0;stroke-width:0\"/>\n",
       "\n",
       "  <!-- Text -->\n",
       "  <text x=\"93.294544\" y=\"116.000852\" font-size=\"1.0rem\" font-weight=\"100\" text-anchor=\"middle\" >2</text>\n",
       "  <text x=\"126.000852\" y=\"83.294544\" font-size=\"1.0rem\" font-weight=\"100\" text-anchor=\"middle\" transform=\"rotate(0,126.000852,83.294544)\">98</text>\n",
       "  <text x=\"35.294118\" y=\"80.706734\" font-size=\"1.0rem\" font-weight=\"100\" text-anchor=\"middle\" transform=\"rotate(45,35.294118,80.706734)\">69667</text>\n",
       "</svg>\n",
       "</td>\n",
       "</tr>\n",
       "</table>"
      ],
      "text/plain": [
       "dask.array<getitem, shape=(69667, 98, 2), dtype=int8, chunksize=(52802, 54, 2), chunktype=numpy.ndarray>"
      ]
     },
     "execution_count": 77,
     "metadata": {
      "tags": []
     },
     "output_type": "execute_result"
    }
   ],
   "source": [
    "# access genotypes in the Vgsc gene in An. gambiae samples from Burkina Faso collected in 2012\n",
    "gt_sel = gt[loc_region, loc_samples]\n",
    "gt_sel"
   ]
  },
  {
   "cell_type": "code",
   "execution_count": 78,
   "metadata": {
    "colab": {
     "base_uri": "https://localhost:8080/"
    },
    "id": "sJlmvEEppWz2",
    "outputId": "1a33258b-994f-4bf6-a696-36bf32cf2d49"
   },
   "outputs": [
    {
     "data": {
      "text/plain": [
       "3858"
      ]
     },
     "execution_count": 78,
     "metadata": {
      "tags": []
     },
     "output_type": "execute_result"
    }
   ],
   "source": [
    "# how many segregating sites now?\n",
    "ac = allel.GenotypeDaskArray(gt_sel).count_alleles(max_allele=3).compute()\n",
    "ac.is_segregating().sum()"
   ]
  },
  {
   "cell_type": "markdown",
   "metadata": {
    "id": "MrhicVPFpWz2"
   },
   "source": [
    "## Differences from previous data releases\n",
    "\n",
    "In case you have worked with previous data releases from the Ag1000G project, there are a couple of important differences to be aware of. These are touched on in the text above, but let's expand a little here.\n",
    "\n",
    "### Genotyping at all sites\n",
    "\n",
    "In Ag3 we have genotyped all samples at all genomic sites where the reference genome is not \"N\", and those genotypes are included in the released data. This includes genotypes at sites where no variation from the reference genome was observed. This is different from previous releases, where we only released genotypes at sites where some variation was observed. \n",
    "\n",
    "The reason why we made this change is because several important use cases for these data involve identifying genomic sites which are highly conserved, i.e., where samples do not vary at all. Because we now report genotypes at all sites, it is possible to identify these highly conserved sites with more confidence.\n",
    "\n",
    "### Predefined alternate alleles\n",
    "\n",
    "In Ag3 we predefined the set of possible alternate SNP alleles at all sites in the genome, before we ran our SNP genotyping pipeline on the samples sequenced. This means that our data includes three alternate alleles at every site in the genome. Not all of these alleles will have been observed in the data, and determining which alleles are observed requires examination of the genotypes. This is different from previous releases, where alternate alleles were declared during the SNP calling process, and only observed alternate alleles were included in the data release.\n",
    "\n",
    "The reason why we have made this change is because it simplifies the SNP genotyping pipeline. Because we fix the set of alleles ahead of time, all samples can be genotyped independently, and merging the resulting data is straightforward. This also makes it easier to integrate with new data in the future, because it allows merging Ag3 data with data from future samples where alleles may be observed that were not observed in the Ag3 cohort.\n",
    "\n",
    "### Site filters\n",
    "\n",
    "In Ag3 we have defined site filters, which are Boolean masks that apply to all sites in the genome, and which identify sites where SNP genotyping is reliable.These site filters replace the separate variant filters and genome accessibility masks defined in previous project phases.\n",
    "\n",
    "The reason why we took this approach is that it is simpler. All sites are treated the same, regardless of whether variation is observed or not. Instead of having to work two different things (variant filters and genome accessibility masks) there is just a single site filter to work with.\n",
    "\n",
    "Note that some software tools such as scikit-allel may require you to provide a genome accessibility mask, which is a Boolean array of the same length as the chromosomal sequence you're analysing. In case you need this, the `Ag3` class provides a convenience method to obtain this from the site filters. E.g.:\n",
    "\n"
   ]
  },
  {
   "cell_type": "code",
   "execution_count": 79,
   "metadata": {
    "colab": {
     "base_uri": "https://localhost:8080/"
    },
    "id": "om3s6Zn5x52o",
    "outputId": "4960bf77-847a-40c8-a374-52e3e6b57e65"
   },
   "outputs": [
    {
     "data": {
      "text/plain": [
       "(61545105,)"
      ]
     },
     "execution_count": 79,
     "metadata": {
      "tags": []
     },
     "output_type": "execute_result"
    }
   ],
   "source": [
    "is_accessible = ag3.is_accessible(contig=\"2R\", site_mask=\"gamb_colu_arab\")\n",
    "is_accessible.shape"
   ]
  },
  {
   "cell_type": "markdown",
   "metadata": {
    "id": "OtuXGJVBpWz2"
   },
   "source": [
    "This is an array the same length as the chromosomal sequence, and is True where the reference genome is not an \"N\" and the site filter passes. "
   ]
  },
  {
   "cell_type": "code",
   "execution_count": 80,
   "metadata": {
    "colab": {
     "base_uri": "https://localhost:8080/"
    },
    "id": "5V13xqdOzbAe",
    "outputId": "8f744ae8-d114-47df-89d1-ae98ca7d4fbb"
   },
   "outputs": [
    {
     "data": {
      "text/plain": [
       "(61545105,)"
      ]
     },
     "execution_count": 80,
     "metadata": {
      "tags": []
     },
     "output_type": "execute_result"
    }
   ],
   "source": [
    "seq = ag3.genome_sequence(contig=\"2R\").compute()\n",
    "seq.shape"
   ]
  },
  {
   "cell_type": "code",
   "execution_count": 81,
   "metadata": {
    "colab": {
     "base_uri": "https://localhost:8080/"
    },
    "id": "u0nSq3Wfzena",
    "outputId": "fd301166-8639-46a1-a504-08a99264426e"
   },
   "outputs": [
    {
     "data": {
      "text/plain": [
       "True"
      ]
     },
     "execution_count": 81,
     "metadata": {
      "tags": []
     },
     "output_type": "execute_result"
    }
   ],
   "source": [
    "len(seq) == len(is_accessible)"
   ]
  },
  {
   "cell_type": "code",
   "execution_count": 82,
   "metadata": {
    "colab": {
     "base_uri": "https://localhost:8080/"
    },
    "id": "wXrmnHkBzhZQ",
    "outputId": "767c0b04-44c8-4e48-b469-a903a8e25070"
   },
   "outputs": [
    {
     "data": {
      "text/plain": [
       "40561667"
      ]
     },
     "execution_count": 82,
     "metadata": {
      "tags": []
     },
     "output_type": "execute_result"
    }
   ],
   "source": [
    "is_accessible.sum()"
   ]
  },
  {
   "cell_type": "code",
   "execution_count": 83,
   "metadata": {
    "colab": {
     "base_uri": "https://localhost:8080/"
    },
    "id": "NifgVUf3zkJD",
    "outputId": "70dd67c3-3246-4873-dda5-0f14c58e971f"
   },
   "outputs": [
    {
     "data": {
      "text/plain": [
       "(60132453,)"
      ]
     },
     "execution_count": 83,
     "metadata": {
      "tags": []
     },
     "output_type": "execute_result"
    }
   ],
   "source": [
    "loc_pass = ag3.site_filters(contig=\"2R\", mask=\"gamb_colu_arab\").compute()\n",
    "loc_pass.shape"
   ]
  },
  {
   "cell_type": "code",
   "execution_count": 84,
   "metadata": {
    "colab": {
     "base_uri": "https://localhost:8080/"
    },
    "id": "k5vKelZG0BdN",
    "outputId": "7b1ee897-86a3-4877-9926-b4ff72f35964"
   },
   "outputs": [
    {
     "data": {
      "text/plain": [
       "40561667"
      ]
     },
     "execution_count": 84,
     "metadata": {
      "tags": []
     },
     "output_type": "execute_result"
    }
   ],
   "source": [
    "loc_pass.sum()"
   ]
  },
  {
   "cell_type": "code",
   "execution_count": 85,
   "metadata": {
    "colab": {
     "base_uri": "https://localhost:8080/"
    },
    "id": "Xay6o3TOzqnc",
    "outputId": "b4ea9202-2655-4462-ad1a-8c139c9d8b9f"
   },
   "outputs": [
    {
     "data": {
      "text/plain": [
       "(60132453,)"
      ]
     },
     "execution_count": 85,
     "metadata": {
      "tags": []
     },
     "output_type": "execute_result"
    }
   ],
   "source": [
    "pos = ag3.snp_sites(contig=\"2R\", field=\"POS\").compute()\n",
    "pos.shape"
   ]
  },
  {
   "cell_type": "code",
   "execution_count": 86,
   "metadata": {
    "colab": {
     "base_uri": "https://localhost:8080/"
    },
    "id": "oFUgXPlS0EtF",
    "outputId": "332ae45c-505f-464c-8e37-49b0afdaf656"
   },
   "outputs": [
    {
     "data": {
      "text/plain": [
       "True"
      ]
     },
     "execution_count": 86,
     "metadata": {
      "tags": []
     },
     "output_type": "execute_result"
    }
   ],
   "source": [
    "np.all(loc_pass == is_accessible[pos - 1])"
   ]
  },
  {
   "cell_type": "markdown",
   "metadata": {
    "id": "YQKWI4ZZz4K4"
   },
   "source": [
    "## Further reading\n",
    "\n",
    "Hopefully the examples above have helped to give some sense of how to access and work with SNP data from Ag3. If you have any comments or questions, please [get in touch](https://github.com/malariagen/vector-data/discussions).\n",
    "\n",
    "This notebook is part of the [Ag1000G phase 3 user guide](../intro). See the menu at the left for more documentation and example analyses. "
   ]
  },
  {
   "cell_type": "markdown",
   "metadata": {
    "id": "Evnyns3n05BR"
   },
   "source": [
    "## API docs\n",
    "\n",
    "Here are the docstrings for the functions in the `malariagen_data` package we used in this notebook."
   ]
  },
  {
   "cell_type": "code",
   "execution_count": 87,
   "metadata": {
    "colab": {
     "base_uri": "https://localhost:8080/"
    },
    "id": "-dmX8EJAC5Dy",
    "outputId": "25957e73-8d9d-446d-e721-ada3e07dbb2a"
   },
   "outputs": [
    {
     "name": "stdout",
     "output_type": "stream",
     "text": [
      "Help on method genome_sequence in module malariagen_data.ag3:\n",
      "\n",
      "genome_sequence(contig, inline_array=True, chunks='auto') method of malariagen_data.ag3.Ag3 instance\n",
      "    Access the reference genome sequence.\n",
      "    \n",
      "    Parameters\n",
      "    ----------\n",
      "    contig : str\n",
      "        Chromosome arm, e.g., \"3R\".\n",
      "    inline_array : bool, optional\n",
      "        Passed through to dask.array.from_array().\n",
      "    chunks : str, optional\n",
      "        If 'auto' let dask decide chunk size. If 'native' use native zarr chunks.\n",
      "        Also can be a target size, e.g., '200 MiB'.\n",
      "    \n",
      "    Returns\n",
      "    -------\n",
      "    d : dask.array.Array\n",
      "\n"
     ]
    }
   ],
   "source": [
    "help(ag3.genome_sequence)"
   ]
  },
  {
   "cell_type": "code",
   "execution_count": 88,
   "metadata": {
    "colab": {
     "base_uri": "https://localhost:8080/"
    },
    "id": "ldM6riTTuVdZ",
    "outputId": "7b598746-481d-4170-8140-65ce1b1775e0"
   },
   "outputs": [
    {
     "name": "stdout",
     "output_type": "stream",
     "text": [
      "Help on method sample_metadata in module malariagen_data.ag3:\n",
      "\n",
      "sample_metadata(sample_sets='v3_wild', species_calls=('20200422', 'aim')) method of malariagen_data.ag3.Ag3 instance\n",
      "    Access sample metadata for one or more sample sets.\n",
      "    \n",
      "    Parameters\n",
      "    ----------\n",
      "    sample_sets : str or list of str\n",
      "        Can be a sample set identifier (e.g., \"AG1000G-AO\") or a list of sample set\n",
      "        identifiers (e.g., [\"AG1000G-BF-A\", \"AG1000G-BF-B\"]) or a release identifier (e.g.,\n",
      "        \"v3\") or a list of release identifiers.\n",
      "    species_calls : (str, str), optional\n",
      "        Include species calls in metadata.\n",
      "    \n",
      "    Returns\n",
      "    -------\n",
      "    df : pandas.DataFrame\n",
      "\n"
     ]
    }
   ],
   "source": [
    "help(ag3.sample_metadata)"
   ]
  },
  {
   "cell_type": "code",
   "execution_count": 89,
   "metadata": {
    "colab": {
     "base_uri": "https://localhost:8080/"
    },
    "id": "Mdwq4eFkuWqM",
    "outputId": "d8563fcf-9a87-4417-b0e3-69d98480b45b"
   },
   "outputs": [
    {
     "name": "stdout",
     "output_type": "stream",
     "text": [
      "Help on method snp_sites in module malariagen_data.ag3:\n",
      "\n",
      "snp_sites(contig, field=None, site_mask=None, site_filters='dt_20200416', inline_array=True, chunks='auto') method of malariagen_data.ag3.Ag3 instance\n",
      "    Access SNP site data (positions and alleles).\n",
      "    \n",
      "    Parameters\n",
      "    ----------\n",
      "    contig : str\n",
      "        Chromosome arm, e.g., \"3R\".\n",
      "    field : {\"POS\", \"REF\", \"ALT\"}, optional\n",
      "        Array to access. If not provided, all three arrays POS, REF, ALT will be returned as a\n",
      "        tuple.\n",
      "    site_mask : {\"gamb_colu_arab\", \"gamb_colu\", \"arab\"}\n",
      "        Site filters mask to apply.\n",
      "    site_filters : str\n",
      "        Site filters analysis version.\n",
      "    inline_array : bool, optional\n",
      "        Passed through to dask.array.from_array().\n",
      "    chunks : str, optional\n",
      "        If 'auto' let dask decide chunk size. If 'native' use native zarr chunks.\n",
      "        Also can be a target size, e.g., '200 MiB'.\n",
      "    \n",
      "    Returns\n",
      "    -------\n",
      "    d : dask.array.Array or tuple of dask.array.Array\n",
      "\n"
     ]
    }
   ],
   "source": [
    "help(ag3.snp_sites)"
   ]
  },
  {
   "cell_type": "code",
   "execution_count": 90,
   "metadata": {
    "colab": {
     "base_uri": "https://localhost:8080/"
    },
    "id": "o-yczjMtuYN3",
    "outputId": "48d77cba-5b6c-4f92-ca02-d230f388f9ba"
   },
   "outputs": [
    {
     "name": "stdout",
     "output_type": "stream",
     "text": [
      "Help on method site_filters in module malariagen_data.ag3:\n",
      "\n",
      "site_filters(contig, mask, field='filter_pass', analysis='dt_20200416', inline_array=True, chunks='auto') method of malariagen_data.ag3.Ag3 instance\n",
      "    Access SNP site filters.\n",
      "    \n",
      "    Parameters\n",
      "    ----------\n",
      "    contig : str\n",
      "        Chromosome arm, e.g., \"3R\".\n",
      "    mask : {\"gamb_colu_arab\", \"gamb_colu\", \"arab\"}\n",
      "        Mask to use.\n",
      "    field : str, optional\n",
      "        Array to access.\n",
      "    analysis : str, optional\n",
      "        Site filters analysis version.\n",
      "    inline_array : bool, optional\n",
      "        Passed through to dask.from_array().\n",
      "    chunks : str, optional\n",
      "        If 'auto' let dask decide chunk size. If 'native' use native zarr chunks.\n",
      "        Also can be a target size, e.g., '200 MiB'.\n",
      "    \n",
      "    Returns\n",
      "    -------\n",
      "    d : dask.array.Array\n",
      "\n"
     ]
    }
   ],
   "source": [
    "help(ag3.site_filters)"
   ]
  },
  {
   "cell_type": "code",
   "execution_count": 91,
   "metadata": {
    "colab": {
     "base_uri": "https://localhost:8080/"
    },
    "id": "W8Mp0f_ZuZse",
    "outputId": "5879ea53-9017-494c-aa13-e07a7f16f32a"
   },
   "outputs": [
    {
     "name": "stdout",
     "output_type": "stream",
     "text": [
      "Help on method snp_genotypes in module malariagen_data.ag3:\n",
      "\n",
      "snp_genotypes(contig, sample_sets='v3_wild', field='GT', site_mask=None, site_filters='dt_20200416', inline_array=True, chunks='auto') method of malariagen_data.ag3.Ag3 instance\n",
      "    Access SNP genotypes and associated data.\n",
      "    \n",
      "    Parameters\n",
      "    ----------\n",
      "    contig : str\n",
      "        Chromosome arm, e.g., \"3R\".\n",
      "    sample_sets : str or list of str\n",
      "        Can be a sample set identifier (e.g., \"AG1000G-AO\") or a list of sample set\n",
      "        identifiers (e.g., [\"AG1000G-BF-A\", \"AG1000G-BF-B\"]) or a release identifier (e.g.,\n",
      "        \"v3\") or a list of release identifiers.\n",
      "    field : {\"GT\", \"GQ\", \"AD\", \"MQ\"}\n",
      "        Array to access.\n",
      "    site_mask : {\"gamb_colu_arab\", \"gamb_colu\", \"arab\"}\n",
      "        Site filters mask to apply.\n",
      "    site_filters : str, optional\n",
      "        Site filters analysis version.\n",
      "    inline_array : bool, optional\n",
      "        Passed through to dask.array.from_array().\n",
      "    chunks : str, optional\n",
      "        If 'auto' let dask decide chunk size. If 'native' use native zarr chunks.\n",
      "        Also can be a target size, e.g., '200 MiB'.\n",
      "    \n",
      "    Returns\n",
      "    -------\n",
      "    d : dask.array.Array\n",
      "\n"
     ]
    }
   ],
   "source": [
    "help(ag3.snp_genotypes)"
   ]
  },
  {
   "cell_type": "code",
   "execution_count": 92,
   "metadata": {
    "colab": {
     "base_uri": "https://localhost:8080/"
    },
    "id": "PXEfWYdGubaT",
    "outputId": "865fbd0f-6713-48a4-edbd-7bee97a0f948"
   },
   "outputs": [
    {
     "name": "stdout",
     "output_type": "stream",
     "text": [
      "Help on method snp_calls in module malariagen_data.ag3:\n",
      "\n",
      "snp_calls(contig, sample_sets='v3_wild', site_mask=None, site_filters='dt_20200416', inline_array=True, chunks='auto') method of malariagen_data.ag3.Ag3 instance\n",
      "    Access SNP sites, site filters and genotype calls.\n",
      "    \n",
      "    Parameters\n",
      "    ----------\n",
      "    contig : str\n",
      "        Chromosome arm, e.g., \"3R\".\n",
      "    sample_sets : str or list of str\n",
      "        Can be a sample set identifier (e.g., \"AG1000G-AO\") or a list of sample set\n",
      "        identifiers (e.g., [\"AG1000G-BF-A\", \"AG1000G-BF-B\"]) or a release identifier (e.g.,\n",
      "        \"v3\") or a list of release identifiers.\n",
      "    site_mask : {\"gamb_colu_arab\", \"gamb_colu\", \"arab\"}\n",
      "        Site filters mask to apply.\n",
      "    site_filters : str\n",
      "        Site filters analysis version.\n",
      "    inline_array : bool, optional\n",
      "        Passed through to dask.array.from_array().\n",
      "    chunks : str, optional\n",
      "        If 'auto' let dask decide chunk size. If 'native' use native zarr chunks.\n",
      "        Also can be a target size, e.g., '200 MiB'.\n",
      "    \n",
      "    Returns\n",
      "    -------\n",
      "    ds : xarray.Dataset\n",
      "\n"
     ]
    }
   ],
   "source": [
    "help(ag3.snp_calls)"
   ]
  }
 ],
 "metadata": {
  "colab": {
   "name": "snps.ipynb",
   "provenance": []
  },
  "kernelspec": {
   "display_name": "Python 3",
   "language": "python",
   "name": "python3"
  },
  "language_info": {
   "codemirror_mode": {
    "name": "ipython",
    "version": 3
   },
   "file_extension": ".py",
   "mimetype": "text/x-python",
   "name": "python",
   "nbconvert_exporter": "python",
   "pygments_lexer": "ipython3",
   "version": "3.7.6"
  }
 },
 "nbformat": 4,
 "nbformat_minor": 4
}
