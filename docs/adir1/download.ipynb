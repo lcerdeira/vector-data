{
 "cells": [
  {
   "cell_type": "markdown",
   "metadata": {
    "id": "p0VbAgTdnvpP"
   },
   "source": [
    "# Adir1f1 data downloads\n",
    "\n",
    "This notebook provides information about how to download data from the [MalariaGEN Vector Observatory Asian Vector Genomic Surveillance Project](https://www.malariagen.net/project/vector-observatory-asia/), for *Anopheles dirus*. These data are the first release (v1), and include sample metadata, raw sequence reads, sequence read alignments, and single nucleotide polymorphism (SNP) calls. \n",
    "\n",
    "Code examples that are intended to be run via a Linux command line are prefixed with an exclamation mark (!). If you are running these commands directly from a terminal, remove the exclamation mark.\n",
    "\n",
    "Examples in this notebook assume you are downloading data to a local folder within your home directory at the path `~/vo_adir_release/`. Change this if you want to download to a different folder on the local file system.\n",
    "\n",
    "## Data hosting\n",
    "\n",
    "`Adir1` data are hosted by several different services.\n",
    "\n",
    "Raw sequence reads in FASTQ format and sequence read alignments in BAM format are hosted by the European Nucleotide Archive (ENA). This guide provides examples of downloading data from ENA via FTP using the `wget` command line tool, but please note that there are several other options for downloading data, see the [ENA documentation on how to download data files](https://ena-docs.readthedocs.io/en/latest/retrieval/file-download.html) for more information.  \n",
    "\n",
    "SNP calls in VCF and Zarr formats are hosted on S3-compatible object storage at the Sanger Institute. This guide provides examples of downloading thes data using `wget`.\n",
    "\n",
    "Sample metadata in CSV format are hosted on Google Cloud Storage (GCS) in the `vo_adir_production_us_central1` bucket, which is a multi-region bucket located in the United States. All data hosted on GCS are publicly accessible but do require an authentication step, please see details on the [Vector Observatory Data Access page](https://malariagen.github.io/vector-data/vobs/vobs-data-access.html).\n",
    "\n",
    "The guide below provides examples of downloading data from GCS to a local computer using the `wget` and `gsutil` command line tools. For more information about `gsutil`, see the [gsutil tool documentation](https://cloud.google.com/storage/docs/gsutil)."
   ]
  },
  {
   "cell_type": "markdown",
   "metadata": {
    "id": "t1wyCDH5nvpS"
   },
   "source": [
    "## Sample sets\n",
    "\n",
    "Data in these releases are organised into sample sets. Each of these sample sets corresponds to a set of mosquito specimens contributed by a collaborating study. Depending on your objectives, you may want to download data from only specific sample sets, or all sample sets. For convenience there is a tab-delimited manifest file listing all sample sets in the release, this can be downloaded via `gsutil` to a directory on the local file system, e.g.:"
   ]
  },
  {
   "cell_type": "code",
   "execution_count": null,
   "metadata": {
    "colab": {
     "base_uri": "https://localhost:8080/"
    },
    "id": "rsX4TP6UnvpS",
    "outputId": "a9afc995-80b7-4f62-ad0b-b4d95822cf38",
    "tags": [
     "hide-output"
    ]
   },
   "outputs": [
    {
     "name": "stdout",
     "output_type": "stream",
     "text": [
      "/Users/ah32/vo_afun_release\n",
      "/Users/ah32/vo_afun_release/v1.0\n",
      "Copying gs://vo_afun_release/v1.0/manifest.tsv...\n",
      "/ [1 files][   1015 B/   1015 B]                                                \n",
      "Operation completed over 1 objects/1015.0 B.                                     \n"
     ]
    }
   ],
   "source": [
    "!mkdir -pv ~/vo_afun_release/v1.0/\n",
    "!gsutil cp gs://vo_adir_production_us_central1/v1.0/manifest.tsv ~/vo_afun_release/v1.0/"
   ]
  },
  {
   "cell_type": "markdown",
   "metadata": {
    "id": "hWOAFxIDnvpT"
   },
   "source": [
    "Here are the file contents:"
   ]
  },
  {
   "cell_type": "code",
   "execution_count": 2,
   "metadata": {
    "colab": {
     "base_uri": "https://localhost:8080/"
    },
    "id": "vC4ACrTEnvpT",
    "outputId": "c7cfe64a-9a78-42ea-dbd9-9cc82410372d"
   },
   "outputs": [
    {
     "name": "stdout",
     "output_type": "stream",
     "text": [
      "sample_set\tsample_count\tstudy_id\tstudy_url\n",
      "1229-VO-GH-DADZIE-VMF00095\t36\t1229-VO-GH-DADZIE\thttps://www.malariagen.net/network/where-we-work/1229-VO-GH-DADZIE\n",
      "1230-VO-GA-CF-AYALA-VMF00045\t50\t1230-VO-MULTI-AYALA\thttps://www.malariagen.net/network/where-we-work/1230-VO-MULTI-AYALA\n",
      "1231-VO-MULTI-WONDJI-VMF00043\t320\t1231-VO-MULTI-WONDJI\thttps://www.malariagen.net/network/where-we-work/1231-VO-MULTI-WONDJI\n",
      "1232-VO-KE-OCHOMO-VMF00044\t81\t1232-VO-KE-OCHOMO\thttps://www.malariagen.net/network/where-we-work/1232-VO-KE-OCHOMO\n",
      "1235-VO-MZ-PAAIJMANS-VMF00094\t76\t1235-VO-MZ-PAAIJMANS\thttps://www.malariagen.net/network/where-we-work/1235-VO-MZ-PAAIJMANS\n",
      "1236-VO-TZ-OKUMU-VMF00090\t10\t1236-VO-TZ-OKUMU\thttps://www.malariagen.net/network/where-we-work/1236-VO-TZ-OKUMU\n",
      "1240-VO-CD-KOEKEMOER-VMF00099\t43\t1240-VO-MULTI-KOEKEMOER\thttps://www.malariagen.net/network/where-we-work/1240-VO-MULTI-KOEKEMOER\n",
      "1240-VO-MZ-KOEKEMOER-VMF00101\t40\t1240-VO-MULTI-KOEKEMOER\thttps://www.malariagen.net/network/where-we-work/1240-VO-MULTI-KOEKEMOER\n"
     ]
    }
   ],
   "source": [
    "!cat ~/vo_afun_release/v1.0/manifest.tsv"
   ]
  },
  {
   "cell_type": "markdown",
   "metadata": {
    "id": "5hXT_c0pnvpU"
   },
   "source": [
    "For more information about these sample sets, you can explore the [Af1.0 data user guide](https://malariagen.github.io/vector-data/af1/af1.0.html)."
   ]
  },
  {
   "cell_type": "markdown",
   "metadata": {
    "id": "D0m-HL43nvpU"
   },
   "source": [
    "## Sample metadata\n",
    "\n",
    "Data about the samples that were sequenced to generate this data resource are available, including the time and place of collection, the gender of the specimen, and our call regarding the species of the specimen.\n",
    "\n",
    "### Specimen collection metadata\n",
    "\n",
    "Specimen collection metadata can be downloaded from GCS. E.g., sample metadata for all sample sets can be downloaded using `gsutil`. If you only want the sample metadata for a single sample set, these can be accessed by including the sample set name on the link below, e.g. to access the metadata for `1278-VO-TH-KOBYLINSKI-VMF00153`, you would use: `gs://vo_adir_production_us_central1/v1.0/metadata/general/1278-VO-TH-KOBYLINSKI-VMF00153`:"
   ]
  },
  {
   "cell_type": "code",
   "execution_count": null,
   "metadata": {
    "colab": {
     "base_uri": "https://localhost:8080/"
    },
    "id": "CsQVgCl7nvpV",
    "outputId": "e0409bcb-5eca-4b1b-e703-e968508f3aec"
   },
   "outputs": [
    {
     "name": "stdout",
     "output_type": "stream",
     "text": [
      "/Users/dennistpw/Downloads/google-cloud-sdk/platform/gsutil/third_party/google-auth-library-python/google/__init__.py:18: UserWarning: pkg_resources is deprecated as an API. See https://setuptools.pypa.io/en/latest/pkg_resources.html. The pkg_resources package is slated for removal as early as 2025-11-30. Refrain from using this package or pin to Setuptools<81.\n",
      "  import pkg_resources\n",
      "Building synchronization state...\n",
      "If you experience problems with multiprocessing on MacOS, they might be related to https://bugs.python.org/issue33725. You can disable multiprocessing by editing your .boto config or by adding the following flag to your command: `-o \"GSUtil:parallel_process_count=1\"`. Note that multithreading is still available even if you disable multiprocessing.\n",
      "\n",
      "Starting synchronization...\n",
      "If you experience problems with multiprocessing on MacOS, they might be related to https://bugs.python.org/issue33725. You can disable multiprocessing by editing your .boto config or by adding the following flag to your command: `-o \"GSUtil:parallel_process_count=1\"`. Note that multithreading is still available even if you disable multiprocessing.\n",
      "\n"
     ]
    }
   ],
   "source": [
    "!mkdir -pv ~/vo_adir_release/v1.0/metadata/1278-VO-TH-KOBYLINSKI-VMF00153/\n",
    "!gsutil -m rsync -r gs://vo_adir_production_us_central1/v1.0/metadata/general/1278-VO-TH-KOBYLINSKI-VMF00153/ ~/vo_adir_release/v1.0/metadata/1278-VO-TH-KOBYLINSKI-VMF00153/"
   ]
  },
  {
   "cell_type": "markdown",
   "metadata": {
    "id": "R7GeyShRnvpV"
   },
   "source": [
    "Here are the first few rows of the sample metadata for sample set `1278-VO-TH-KOBYLINSKI-VMF00153`:"
   ]
  },
  {
   "cell_type": "code",
   "execution_count": 25,
   "metadata": {
    "colab": {
     "base_uri": "https://localhost:8080/"
    },
    "id": "dhKjnl6knvpW",
    "outputId": "6345e845-5288-41a1-e877-5417559b8c6c"
   },
   "outputs": [
    {
     "name": "stdout",
     "output_type": "stream",
     "text": [
      "sample_id,derived_sample_id,partner_sample_id,contributor,country,location,year,month,latitude,longitude\n",
      "VBS45974-6296STDY9478582,VBS45974-6296STDY9478582,329,Kevin Kobylinski,Thailand,\"Khirirat Nikhom, eight, A\",2019,2,9.110,98.878\n",
      "VBS45976-6296STDY9478584,VBS45976-6296STDY9478584,339,Kevin Kobylinski,Thailand,\"Khirirat Nikhom, eight, A/2\",2019,2,9.110,98.878\n",
      "VBS45979-6296STDY9478587,VBS45979-6296STDY9478587,920,Kevin Kobylinski,Thailand,\"Khirirat Nikhom, nine, C2\",2019,3,9.134,98.888\n",
      "VBS45982-6296STDY9478589,VBS45982-6296STDY9478589,1007,Kevin Kobylinski,Thailand,\"Khirirat Nikhom, nine, C2\",2019,4,9.134,98.888\n",
      "VBS46005-6296STDY9478612,VBS46005-6296STDY9478612,1845,Kevin Kobylinski,Thailand,\"Phanom, one, B1\",2019,5,8.870,98.631\n",
      "VBS46042-6296STDY9478649,VBS46042-6296STDY9478649,2014,Kevin Kobylinski,Thailand,\"Phanom, one, B2\",2019,5,8.869,98.631\n",
      "VBS46050-6296STDY9478657,VBS46050-6296STDY9478657,2043,Kevin Kobylinski,Thailand,\"Phanom, three, B1\",2019,5,8.896,98.663\n",
      "VBS46059-6296STDY9478666,VBS46059-6296STDY9478666,2523,Kevin Kobylinski,Thailand,\"Khirirat Nikhom, six, E2\",2019,5,9.068,98.846\n",
      "VBS46066-6296STDY9478673,VBS46066-6296STDY9478673,2909,Kevin Kobylinski,Thailand,\"Phanom, three, C1\",2019,6,8.890,98.664\n"
     ]
    }
   ],
   "source": [
    "!head ~/vo_adir_release/v1.0/metadata/1278-VO-TH-KOBYLINSKI-VMF00153/samples.meta.csv"
   ]
  },
  {
   "cell_type": "markdown",
   "metadata": {
    "id": "VKki7qHunvpW"
   },
   "source": [
    "The `sample_id` column gives the sample identifier used throughout all analyses.\n",
    "\n",
    "The `country`, `location`, `latitude` and `longitude` columns give the location where the specimen was collected.\n",
    "\n",
    "The `year` and `month` columns give the approximate date when the specimen was collected.\n"
   ]
  },
  {
   "cell_type": "markdown",
   "metadata": {
    "id": "EpMi0q3dnvpZ"
   },
   "source": [
    "## SNP calls (VCF format)\n",
    "\n",
    "### SNP genotypes\n",
    "\n",
    "SNP genotypes for individual mosquitoes in VCF format are available for download from Sanger S3-compatible object storage. A VCF file is available for each individual sample. To download a VCF file for a given sample, you will need the sample identifier and the sample set in which the sample belongs. Then inspect the data catalog in the metadata. E.g., for sample set `1278-VO-TH-KOBYLINSKI-VMF00153`:"
   ]
  },
  {
   "cell_type": "code",
   "execution_count": 26,
   "metadata": {},
   "outputs": [
    {
     "name": "stdout",
     "output_type": "stream",
     "text": [
      "sample_id,snp_genotypes_vcf\n",
      "VBS45974-6296STDY9478582,https://1278-vo-th-kobylinski-vmf00153.cog.sanger.ac.uk/VBS45974-6296STDY9478582.vcf.gz\n",
      "VBS45976-6296STDY9478584,https://1278-vo-th-kobylinski-vmf00153.cog.sanger.ac.uk/VBS45976-6296STDY9478584.vcf.gz\n",
      "VBS45979-6296STDY9478587,https://1278-vo-th-kobylinski-vmf00153.cog.sanger.ac.uk/VBS45979-6296STDY9478587.vcf.gz\n",
      "VBS45982-6296STDY9478589,https://1278-vo-th-kobylinski-vmf00153.cog.sanger.ac.uk/VBS45982-6296STDY9478589.vcf.gz\n",
      "VBS46005-6296STDY9478612,https://1278-vo-th-kobylinski-vmf00153.cog.sanger.ac.uk/VBS46005-6296STDY9478612.vcf.gz\n",
      "VBS46042-6296STDY9478649,https://1278-vo-th-kobylinski-vmf00153.cog.sanger.ac.uk/VBS46042-6296STDY9478649.vcf.gz\n",
      "VBS46050-6296STDY9478657,https://1278-vo-th-kobylinski-vmf00153.cog.sanger.ac.uk/VBS46050-6296STDY9478657.vcf.gz\n",
      "VBS46059-6296STDY9478666,https://1278-vo-th-kobylinski-vmf00153.cog.sanger.ac.uk/VBS46059-6296STDY9478666.vcf.gz\n",
      "VBS46066-6296STDY9478673,https://1278-vo-th-kobylinski-vmf00153.cog.sanger.ac.uk/VBS46066-6296STDY9478673.vcf.gz\n"
     ]
    }
   ],
   "source": [
    "!head ~/vo_adir_release/v1.0/metadata/1278-VO-TH-KOBYLINSKI-VMF00153/wgs_snp_data.csv | cut -f1,4 -d,"
   ]
  },
  {
   "cell_type": "markdown",
   "metadata": {},
   "source": [
    "A VCF file and associated tabix index can be downloaded via wget, e.g.:"
   ]
  },
  {
   "cell_type": "code",
   "execution_count": null,
   "metadata": {},
   "outputs": [],
   "source": [
    "!wget --no-clobber https://1278-vo-th-kobylinski-vmf00153.cog.sanger.ac.uk/VBS45974-6296STDY9478582.vcf.gz\n",
    "!wget --no-clobber https://1278-vo-th-kobylinski-vmf00153.cog.sanger.ac.uk/VBS45974-6296STDY9478582.vcf.gz.tbi"
   ]
  },
  {
   "cell_type": "markdown",
   "metadata": {
    "id": "rd1icA5Snvpa"
   },
   "source": [
    "Note that each of these VCF files is around 3 Gb, so downloading may take some time, and sufficient local storage will be needed.\n",
    "\n",
    "Each of these VCF files is an \"all sites\" VCF file, meaning that genotypes have been called at all genomic positions where the reference nucleotide is not \"N\", regardless of whether variation is observed in the given sample. This means that VCFs from multiple samples can be merged easily to create a multi-sample VCF, which may be required for certain analyses. For example, the code below merges VCFs for two samples for contig KB672490 up to 1 Mbp: "
   ]
  },
  {
   "cell_type": "code",
   "execution_count": null,
   "metadata": {
    "id": "RcWJS9XJnvpa",
    "tags": [
     "hide-output"
    ]
   },
   "outputs": [],
   "source": [
    "!bcftools merge --output-type z --regions KB672490:1-1000000 --output merged.vcf.gz VBS45974.vcf.gz VBS45974.vcf.gz "
   ]
  },
  {
   "cell_type": "markdown",
   "metadata": {
    "id": "un-0qdeEnvpa"
   },
   "source": [
    "If you are just interested in analysing variants within a given set of samples, you might like to filter the merged VCF to remove non-variant sites and alleles, e.g., using [bcftools view](http://samtools.github.io/bcftools/bcftools.html#view):"
   ]
  },
  {
   "cell_type": "code",
   "execution_count": null,
   "metadata": {
    "id": "tQ7ZQEQznvpa"
   },
   "outputs": [],
   "source": [
    "!bcftools view --output-type z --output-file merged_variant.vcf.gz --min-ac 1:nonmajor --trim-alt-alleles merged.vcf.gz"
   ]
  },
  {
   "cell_type": "markdown",
   "metadata": {
    "id": "ZgpIO8Oknvpa"
   },
   "source": [
    "### Site filters\n",
    "\n",
    "SNP calling is not always reliable, and we have created some site filters to allow excluding low quality SNPs. For *An. funestus* and *An. gambiae*, these are available as a VCF file. For *An. dirus*, theyu are only available as a Zarr array (see below). If you would like to filter your VCF based on sites passing the filter, you will need to extract the data from the zarr array, and subset your VCF based on these locations (e.g. using bcftools --regions)."
   ]
  },
  {
   "cell_type": "markdown",
   "metadata": {
    "id": "OBXGXzj9nvpb"
   },
   "source": [
    "## SNP calls (Zarr format)\n",
    "\n",
    "SNP data are also available in Zarr format, which can be convenient and efficient to use for certain types of analysis. These data can be analysed directly in the cloud without downloading to the local system, see the [Adir1 cloud data access guide](https://malariagen.github.io/vector-data/adir1/cloud.html) for more information. The data can also be downloaded to your own system for local analysis if that is more convenient. Below are examples of how to download the Zarr data to your local system.\n",
    "\n",
    "The data are organised into several Zarr hierarchies. \n",
    "\n",
    "### SNP sites and alleles\n",
    "\n",
    "Data on the genomic positions (sites) and reference and alternate alleles that were genotyped can be downloaded as follows:"
   ]
  },
  {
   "cell_type": "code",
   "execution_count": null,
   "metadata": {
    "id": "hM4noAz3nvpb",
    "tags": [
     "hide-output"
    ]
   },
   "outputs": [],
   "source": [
    "!mkdir -pv ~/vo_adir_release/v1.0/snp_genotypes/all/sites/\n",
    "!gsutil -m rsync -r \\\n",
    "    gs://vo_adir_production_us_central1/v1.0/snp_genotypes/all/sites/ \\\n",
    "    ~/vo_adir_release/v1.0/snp_genotypes/all/sites/"
   ]
  },
  {
   "cell_type": "markdown",
   "metadata": {
    "id": "GRqTjrIhnvpb"
   },
   "source": [
    "### Site filters\n",
    "\n",
    "SNP calling is not always reliable, and we have created some site filters to allow excluding low quality SNPs. To download site filters data in Zarr format:"
   ]
  },
  {
   "cell_type": "code",
   "execution_count": null,
   "metadata": {
    "id": "tWu4ajAbnvpb",
    "tags": [
     "hide-output"
    ]
   },
   "outputs": [],
   "source": [
    "!mkdir -pv ~/vo_adir_release/v1.0/site_filters/sc_20250610/dirus/\n",
    "!gsutil -m rsync -r \\\n",
    "    gs://vo_adir_production_us_central1/v1.0/site_filters/sc_20250610/dirus/ \\\n",
    "    ~/vo_adir_release/v1.0/site_filters/sc_20250610/dirus/"
   ]
  },
  {
   "cell_type": "markdown",
   "metadata": {
    "id": "vKfArxCFnvpb"
   },
   "source": [
    "### SNP genotypes\n",
    "\n",
    "SNP genotypes are available for each sample set separately. E.g., to download SNP genotypes in Zarr format for sample set `1229-VO-GH-DADZIE-VMF00095`, excluding some data you probably won't need:"
   ]
  },
  {
   "cell_type": "code",
   "execution_count": null,
   "metadata": {
    "id": "umeGFe1jnvpb",
    "tags": [
     "hide-output"
    ]
   },
   "outputs": [],
   "source": [
    "!mkdir -pv ~/vo_adir_release/v1.0/snp_genotypes/all/1278-VO-TH-KOBYLINSKI-VMF00153/\n",
    "!gsutil -m rsync -r \\\n",
    "        -x '.*/calldata/(AD|GQ|MQ)/.*' \\\n",
    "        gs://vo_adir_production_us_central1/v1.0/snp_genotypes/all/1278-VO-TH-KOBYLINSKI-VMF00153/ \\\n",
    "        ~/vo_adir_release/v1.0/snp_genotypes/all/1278-VO-TH-KOBYLINSKI-VMF00153/"
   ]
  },
  {
   "cell_type": "markdown",
   "metadata": {
    "id": "8ABQPPgAnvph"
   },
   "source": [
    "## Feedback and suggestions\n",
    "\n",
    "If there are particular analyses you would like to run, or if you have other suggestions for useful documentation we could add to this site, we would love to know, please get in touch via the [malariagen/vector-data GitHub discussion board](https://github.com/malariagen/vector-data/discussions)."
   ]
  }
 ],
 "metadata": {
  "celltoolbar": "Tags",
  "colab": {
   "collapsed_sections": [
    "8ABQPPgAnvph"
   ],
   "name": "Ag3.0-data-downloads.ipynb",
   "provenance": []
  },
  "kernelspec": {
   "display_name": "malariagen-data-py3.10 (3.10.10)",
   "language": "python",
   "name": "python3"
  },
  "language_info": {
   "codemirror_mode": {
    "name": "ipython",
    "version": 3
   },
   "file_extension": ".py",
   "mimetype": "text/x-python",
   "name": "python",
   "nbconvert_exporter": "python",
   "pygments_lexer": "ipython3",
   "version": "3.10.10"
  }
 },
 "nbformat": 4,
 "nbformat_minor": 4
}
