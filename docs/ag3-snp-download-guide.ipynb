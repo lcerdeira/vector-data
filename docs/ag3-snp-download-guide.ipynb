{
 "cells": [
  {
   "cell_type": "markdown",
   "metadata": {},
   "source": [
    "# Ag1000G phase 3 SNP data release - data download guide\n",
    "\n",
    "**14 December 2020**\n",
    "\n",
    "This notebook provides information about how to download data from the [Ag1000G phase 3 SNP data release](https://www.malariagen.net/data/ag1000g-phase3-snp). This includes sample metadata, raw sequence reads, sequence read alignments, and single nucleotide polymorphism (SNP) calls.\n",
    "\n",
    "If you have any questions about this guide or find any bugs, please contact data@malariagen.net or [raise an issue on GitHub](https://github.com/malariagen/vector-public-data/issues).\n",
    "\n",
    "## About this guide\n",
    "\n",
    "This guide is written as a Jupyter notebook. Code examples that are intended to be run via a Linux command line are prefixed with an exclamation mark (!). If you are running these commands directly from a terminal, remove the exclamation mark.\n",
    "\n",
    "## Data hosting\n",
    "\n",
    "Data in this release are hosted by several different services. \n",
    "\n",
    "Sequence read alignments are hosted by the European Nucleotide Archive (ENA) under project accession @@TODO, and SNP calls in Variant Call format (VCF) are hosted by the [European Variation Archive (EVA)](https://www.ebi.ac.uk/eva/) under project accession @@TODO. This guide provides examples of downloading data from ENA and EVA via FTP using the `wget` command line tool, but please note that there are several other options for downloading data, see the [ENA documentation on how to download data files](https://ena-docs.readthedocs.io/en/latest/retrieval/file-download.html) for more information.  \n",
    "\n",
    "Sample metadata and SNP calls in Zarr format are hosted on Google Cloud Storage (GCS) in the `vo_agam_release` bucket, which is a multi-region bucket located in the United States. All data hosted in GCS are publicly accessible and do not require any authentication to access. This guide provides examples of downloading data from GCS to a local computer using the `gsutil` command line tool. For more information about `gsutil`, see the [gsutil tool documentation](https://cloud.google.com/storage/docs/gsutil)."
   ]
  },
  {
   "cell_type": "markdown",
   "metadata": {},
   "source": [
    "## Sample sets\n",
    "\n",
    "Data in this release are organised into 28 sample sets. Each of these sample sets corresponds to a set of mosquito specimens contributed by a collaborating study. Depending on your objectives, you may want to download data from only specific sample sets, or all sample sets. For convenience there is a tab-delimited manifest file listing all sample sets in the release. Here is a direct download link for the sample set manifest:\n",
    "\n",
    "* https://storage.googleapis.com/vo_agam_release/v3/manifest.tsv\n",
    "\n",
    "The manifest can also be downloaded via gsutil to a directory on the local file system, e.g.:"
   ]
  },
  {
   "cell_type": "code",
   "execution_count": 1,
   "metadata": {},
   "outputs": [
    {
     "name": "stdout",
     "output_type": "stream",
     "text": [
      "Copying gs://vo_agam_release/v3/manifest.tsv...\n",
      "/ [1 files][  453.0 B/  453.0 B]                                                \n",
      "Operation completed over 1 objects/453.0 B.                                      \n"
     ]
    }
   ],
   "source": [
    "!mkdir -pv ~/data/ag3/\n",
    "!gsutil cp gs://vo_agam_release/v3/manifest.tsv ~/data/ag3/"
   ]
  },
  {
   "cell_type": "markdown",
   "metadata": {},
   "source": [
    "Take a look at the file contents:"
   ]
  },
  {
   "cell_type": "code",
   "execution_count": 2,
   "metadata": {},
   "outputs": [
    {
     "name": "stdout",
     "output_type": "stream",
     "text": [
      "sample_set\tsample_count\n",
      "AG1000G-AO\t81\n",
      "AG1000G-BF-A\t181\n",
      "AG1000G-BF-B\t102\n",
      "AG1000G-BF-C\t13\n",
      "AG1000G-CD\t76\n",
      "AG1000G-CF\t73\n",
      "AG1000G-CI\t80\n",
      "AG1000G-CM-A\t303\n",
      "AG1000G-CM-B\t97\n",
      "AG1000G-CM-C\t44\n",
      "AG1000G-FR\t23\n",
      "AG1000G-GA-A\t69\n",
      "AG1000G-GH\t100\n",
      "AG1000G-GM-A\t74\n",
      "AG1000G-GM-B\t31\n",
      "AG1000G-GM-C\t174\n",
      "AG1000G-GN-A\t45\n",
      "AG1000G-GN-B\t185\n",
      "AG1000G-GQ\t10\n",
      "AG1000G-GW\t101\n",
      "AG1000G-KE\t86\n",
      "AG1000G-ML-A\t60\n",
      "AG1000G-ML-B\t71\n",
      "AG1000G-MW\t41\n",
      "AG1000G-MZ\t74\n",
      "AG1000G-TZ\t300\n",
      "AG1000G-UG\t290\n",
      "AG1000G-X\t699\n"
     ]
    }
   ],
   "source": [
    "!cat ~/data/ag3/manifest.tsv"
   ]
  },
  {
   "cell_type": "markdown",
   "metadata": {},
   "source": [
    "The sample set identifiers all start with \"AG1000G-\" followed by the two-letter code of the country from which samples were collected (e.g., \"AO\" is Angola). Where there are multiple sample sets from the same country, these have been given alphabetical suffixes, e.g., \"AG1000G-BF-A\", \"AG1000G-BF-B\" and \"AG1000G-BF-C\" are three sample sets from Burkina Faso.\n",
    "\n",
    "These country code suffixes are just a convenience to help remember which sample sets contain which data, please see the sample metadata for more precise location information. Please note also that sample set AG1000G-GN-B contains samples from both Guinea and Mali."
   ]
  },
  {
   "cell_type": "markdown",
   "metadata": {},
   "source": [
    "## Sample metadata\n",
    "\n",
    "Data about the samples that were sequenced to generate this data resource are available, including the time and place of collection, the gender of the specimen, and our call regarding the species of the specimen.\n",
    "\n",
    "### Collection metadata\n",
    "\n",
    "Sample collection metadata can be downloaded from GCS. E.g., here is the download link for the sample metadata for sample set AG1000G-AO:\n",
    "\n",
    "* https://storage.googleapis.com/vo_agam_release/v3/metadata/general/AG1000G-AO/samples.meta.csv\n",
    "\n",
    "Sample metadata for all sample sets can also be downloaded using gsutil:"
   ]
  },
  {
   "cell_type": "code",
   "execution_count": 2,
   "metadata": {},
   "outputs": [
    {
     "name": "stdout",
     "output_type": "stream",
     "text": [
      "Building synchronization state...\n",
      "Starting synchronization...\n",
      "Copying gs://vo_agam_release/v3/metadata/crosses/crosses.fam...\n",
      "Copying gs://vo_agam_release/v3/metadata/crosses/README.md...                   \n",
      "Copying gs://vo_agam_release/v3/metadata/ena_runs.csv...\n",
      "Copying gs://vo_agam_release/v3/metadata/general/AG1000G-X/samples.meta.csv...  \n",
      "- [4/4 files][211.5 KiB/211.5 KiB] 100% Done                                    \n",
      "Operation completed over 4 objects/211.5 KiB.                                    \n"
     ]
    }
   ],
   "source": [
    "!mkdir -pv ~/data/ag3/metadata/\n",
    "!gsutil -m rsync -r gs://vo_agam_release/v3/metadata/ ~/data/ag3/metadata/"
   ]
  },
  {
   "cell_type": "markdown",
   "metadata": {},
   "source": [
    "Inspect the sample metadata for sample set AG1000G-AO:"
   ]
  },
  {
   "cell_type": "code",
   "execution_count": 3,
   "metadata": {},
   "outputs": [
    {
     "name": "stdout",
     "output_type": "stream",
     "text": [
      "sample_id,partner_sample_id,contributor,country,location,year,month,latitude,longitude,sex_call\n",
      "AR0047-C,LUA047,Joao Pinto,Angola,Luanda,2009,4,-8.884,13.302,F\n",
      "AR0049-C,LUA049,Joao Pinto,Angola,Luanda,2009,4,-8.884,13.302,F\n",
      "AR0051-C,LUA051,Joao Pinto,Angola,Luanda,2009,4,-8.884,13.302,F\n",
      "AR0061-C,LUA061,Joao Pinto,Angola,Luanda,2009,4,-8.884,13.302,F\n",
      "AR0078-C,LUA078,Joao Pinto,Angola,Luanda,2009,4,-8.884,13.302,F\n",
      "AR0080-C,LUA080,Joao Pinto,Angola,Luanda,2009,4,-8.884,13.302,F\n",
      "AR0084-C,LUA084,Joao Pinto,Angola,Luanda,2009,4,-8.884,13.302,F\n",
      "AR0097-C,LUA097,Joao Pinto,Angola,Luanda,2009,4,-8.884,13.302,F\n",
      "AR0072-C,LUA072,Joao Pinto,Angola,Luanda,2009,4,-8.884,13.302,F\n"
     ]
    }
   ],
   "source": [
    "!head ~/data/ag3/metadata/general/AG1000G-AO/samples.meta.csv"
   ]
  },
  {
   "cell_type": "markdown",
   "metadata": {},
   "source": [
    "The `sample_id` columns gives the sample identifier used throughout all Ag1000G analyses.\n",
    "\n",
    "The `country`, `location`, `latitude` and `longitude` columns give the location where the specimen was collected.\n",
    "\n",
    "The `year` and `month` columns give the approximate date when the specimen was collected.\n",
    "\n",
    "The `sex_call` column gives the gender as determined from the sequence data."
   ]
  },
  {
   "cell_type": "markdown",
   "metadata": {},
   "source": [
    "### Species calls\n",
    "\n",
    "We have made a call for each specimen as to which species it belongs to (*Anopheles gambiae*, *Anopheles coluzzii*, *Anopheles arabiensis*) based on the genotypes of the samples. These calls were made from the sequence data, and there are cases where the species is not easy to determine. We report species calls using two methods, principal components analysis (PCA) and ancestry informative markers (AIMs). \n",
    "\n",
    "Species calls can be downloaded from GCS, e.g., for sample set AG1000G-AO:\n",
    "\n",
    "* PCA species calls - https://storage.googleapis.com/vo_agam_release/v3/metadata/species_calls_20200422/AG1000G-AO/samples.species_pca.csv\n",
    "* AIM species calls - https://storage.googleapis.com/vo_agam_release/v3/metadata/species_calls_20200422/AG1000G-AO/samples.species_aim.csv\n",
    "\n",
    "These files can also be downloaded for all sample sets using gsutil:"
   ]
  },
  {
   "cell_type": "code",
   "execution_count": 5,
   "metadata": {},
   "outputs": [
    {
     "name": "stdout",
     "output_type": "stream",
     "text": [
      "Building synchronization state...\n",
      "Starting synchronization...\n"
     ]
    }
   ],
   "source": [
    "!mkdir -pv ~/data/ag3/metadata/\n",
    "!gsutil -m rsync -r gs://vo_agam_release/v3/metadata/ ~/data/ag3/metadata/"
   ]
  },
  {
   "cell_type": "markdown",
   "metadata": {},
   "source": [
    "Inspect the AIM species calls for sample set AG1000G-AO:"
   ]
  },
  {
   "cell_type": "code",
   "execution_count": 4,
   "metadata": {},
   "outputs": [
    {
     "name": "stdout",
     "output_type": "stream",
     "text": [
      "sample_id,aim_fraction_colu,aim_fraction_arab,species_gambcolu_arabiensis,species_gambiae_coluzzii\n",
      "AR0047-C,0.945,0.001,gamb_colu,coluzzii\n",
      "AR0049-C,0.933,0.001,gamb_colu,coluzzii\n",
      "AR0051-C,0.937,0.002,gamb_colu,coluzzii\n",
      "AR0061-C,0.938,0.002,gamb_colu,coluzzii\n",
      "AR0078-C,0.926,0.001,gamb_colu,coluzzii\n",
      "AR0080-C,0.941,0.001,gamb_colu,coluzzii\n",
      "AR0084-C,0.949,0.002,gamb_colu,coluzzii\n",
      "AR0097-C,0.936,0.001,gamb_colu,coluzzii\n",
      "AR0072-C,0.944,0.001,gamb_colu,coluzzii\n"
     ]
    }
   ],
   "source": [
    "!head ~/data/ag3/metadata/species_calls_20200422/AG1000G-AO/samples.species_aim.csv"
   ]
  },
  {
   "cell_type": "markdown",
   "metadata": {},
   "source": [
    "The `species_gambcolu_arabiensis` column provides a call as to whether the specimen is arabiensis or not (gamb_colu).\n",
    "\n",
    "The `species_gambiae_coluzzii` column applies to samples that are not arabiensis, and differentiates gambiae versus coluzzii."
   ]
  },
  {
   "cell_type": "markdown",
   "metadata": {},
   "source": [
    "## Raw sequence reads\n",
    "\n",
    "The raw sequence reads used in this data release can be downloaded from ENA. Note that for most samples there were multiple sequencing runs, and hence there are usually multiple ENA run accessions per sample. For most samples there were 3 sequencing runs, but some samples have 4 and some have a single sequencing run.\n",
    "\n",
    "To find the ENA run accessions for a given sample, first download the catalog of run accessions:\n",
    "\n",
    "* https://storage.googleapis.com/vo_agam_release/v3/metadata/ena_runs.csv\n",
    "\n",
    "Alternatively if you ran the `gsutil` command above to download sample metadata then this file will already be present on your local file system. Inspect the file:"
   ]
  },
  {
   "cell_type": "code",
   "execution_count": 6,
   "metadata": {},
   "outputs": [
    {
     "name": "stdout",
     "output_type": "stream",
     "text": [
      "sample_id,ena_run\n",
      "AR0001-C,ERR347035\n",
      "AR0001-C,ERR347047\n",
      "AR0001-C,ERR352136\n",
      "AR0002-C,ERR328585\n",
      "AR0002-C,ERR323844\n",
      "AR0002-C,ERR328597\n",
      "AR0004-C,ERR343648\n",
      "AR0004-C,ERR343636\n",
      "AR0004-C,ERR343468\n"
     ]
    }
   ],
   "source": [
    "!head ~/data/ag3/metadata/ena_runs.csv"
   ]
  },
  {
   "cell_type": "markdown",
   "metadata": {},
   "source": [
    "For example, the sequence reads for sample AR0001-C are available from three ENA accessions: ERR347035, ERR347047 and ERR352136. To download the sequence reads, visit the ENA website and search for these accessions. E.g., data for run ERR352136 are available from this web page: https://www.ebi.ac.uk/ena/browser/view/ERR352136"
   ]
  },
  {
   "cell_type": "markdown",
   "metadata": {},
   "source": [
    "## Sequence read alignments (BAM format)\n",
    "\n",
    "Analysis-ready sequence read alignments are available in BAM format for all samples in the release and can be downloaded from ENA. A catalog file mapping sample identifiers to ENA accessions is available at this link:\n",
    "\n",
    "* https://storage.googleapis.com/vo_agam_release/v3/metadata/ena_alignments.csv (@@TODO)\n",
    "\n",
    "Alternatively if you ran the gsutil command above to download sample metadata then this file will already be present on your local file system. Inspect the file:"
   ]
  },
  {
   "cell_type": "code",
   "execution_count": 7,
   "metadata": {},
   "outputs": [
    {
     "name": "stdout",
     "output_type": "stream",
     "text": [
      "head: cannot open '/home/aliman/data/ag3/metadata/ena_alignments.csv' for reading: No such file or directory\n"
     ]
    }
   ],
   "source": [
    "!head ~/data/ag3/metadata/ena_alignments.csv"
   ]
  },
  {
   "cell_type": "markdown",
   "metadata": {},
   "source": [
    "Each row in this file provides a mapping from Ag1000G sample identifiers to ENA analysis accessions. To find links for downloading the data, visit the ENA website and search for the corresponding analysis accession. E.g., the analysis-ready BAM file for sample @@TODO can be downloaded from this web page: @@TODO"
   ]
  },
  {
   "cell_type": "markdown",
   "metadata": {},
   "source": [
    "Note that BAM files are relatively large, approximately 10G per sample, so they may take a long time to download, and may require a substantial amount of disk space on your local system."
   ]
  },
  {
   "cell_type": "markdown",
   "metadata": {},
   "source": [
    "## SNP calls (VCF format)\n",
    "\n",
    "### SNP genotypes\n",
    "\n",
    "SNP calls in VCF format are available from EVA. There is one VCF file for each individual sample. A catalog file mapping sample identifiers to EVA accessions is available at this link:\n",
    "\n",
    "* https://storage.googleapis.com/vo_agam_release/v3/metadata/eva_snp_genotypes.csv (@@TODO)\n",
    "\n",
    "Alternatively if you ran the gsutil command above to download sample metadata then this file will already be present on your local file system. Inspect the file:"
   ]
  },
  {
   "cell_type": "code",
   "execution_count": 8,
   "metadata": {},
   "outputs": [
    {
     "name": "stdout",
     "output_type": "stream",
     "text": [
      "head: cannot open '/home/aliman/data/ag3/metadata/ena_snp_genotypes.csv' for reading: No such file or directory\n"
     ]
    }
   ],
   "source": [
    "!head ~/data/ag3/metadata/ena_snp_genotypes.csv"
   ]
  },
  {
   "cell_type": "markdown",
   "metadata": {},
   "source": [
    "Each row in this file provides a mapping from Ag1000G sample identifiers to EVA analysis accessions. To find links for downloading the data, visit the EVA website and search for the corresponding analysis accession. E.g., the VCF file for sample @@TODO can be downloaded from this web page: @@TODO\n",
    "\n",
    "Note that each sample has been genotyped at all genome positions (except for those where the reference sequence is 'N') and considering all possible SNP alleles. It is possible to combine VCF files for multiple samples if you need to analyse a multi-sample VCF. E.g., here are commands to download VCFs for three samples then merge them into a single multi-sample VCF:"
   ]
  },
  {
   "cell_type": "code",
   "execution_count": 9,
   "metadata": {},
   "outputs": [
    {
     "name": "stdout",
     "output_type": "stream",
     "text": [
      "/bin/bash: @@TODO: command not found\n"
     ]
    }
   ],
   "source": [
    "!@@TODO download and merge VCFs"
   ]
  },
  {
   "cell_type": "markdown",
   "metadata": {},
   "source": [
    "### Site filters\n",
    "\n",
    "@@TODO describe how to download site filters VCFs and how to use them."
   ]
  },
  {
   "cell_type": "markdown",
   "metadata": {},
   "source": [
    "## SNP calls (Zarr format)\n",
    "\n",
    "@@TODO how to download SNP calls in Zarr format from GCS."
   ]
  },
  {
   "cell_type": "markdown",
   "metadata": {},
   "source": [
    "## Analysing downloaded data\n",
    "\n",
    "There are a wide variety of tools available for analysing the data from Ag1000G phase 3 once downloaded to your local system. If you would like advice on possible approaches for a given analysis, please feel free to contact data@malariagen.net. \n",
    "\n",
    "Within the MalariaGEN team we primarily use the Python programming language for analysing the SNP data, making use of a number of software packages in the Scientific Python ecosystem such as numpy, scipy, pandas and dask. The sub-sections below give some examples of how to use these tools to read and analyse the data.\n",
    "\n",
    "@@TODO examples"
   ]
  },
  {
   "cell_type": "code",
   "execution_count": null,
   "metadata": {},
   "outputs": [],
   "source": []
  }
 ],
 "metadata": {
  "kernelspec": {
   "display_name": "Python 3",
   "language": "python",
   "name": "python3"
  },
  "language_info": {
   "codemirror_mode": {
    "name": "ipython",
    "version": 3
   },
   "file_extension": ".py",
   "mimetype": "text/x-python",
   "name": "python",
   "nbconvert_exporter": "python",
   "pygments_lexer": "ipython3",
   "version": "3.7.6"
  }
 },
 "nbformat": 4,
 "nbformat_minor": 4
}
