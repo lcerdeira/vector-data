{
 "cells": [
  {
   "cell_type": "markdown",
   "metadata": {
    "colab_type": "text",
    "id": "view-in-github"
   },
   "source": [
    "<a href=\"https://colab.research.google.com/gist/hardingnj/ffa0ee973fa59f3c11d0b6e3e7f64dfd/getting_started_google_colab.ipynb\" target=\"_parent\"><img src=\"https://colab.research.google.com/assets/colab-badge.svg\" alt=\"Open In Colab\"/></a>"
   ]
  },
  {
   "cell_type": "markdown",
   "metadata": {
    "colab_type": "text",
    "id": "DZw8vyUJ0y5k"
   },
   "source": [
    "# Ag1000G phase 3 - cloud data access and analysis guide\n",
    "\n",
    "## Overview\n",
    "\n",
    "As part of phase 3 of the AG1000G project, we have publicly released genome-wide SNP data for 3483 Anopheline mosquitoes. Samples have been collected from 19 different African countries at various time points. Three species are represented in the dataset, Anopheles gambiae, coluzzii and arabiensis. For more details of the project please see  the project page: malariagen.net/\n",
    "\n",
    "Individual SNP calls are provided unfiltered. This is because sites considered reliable in one species may not be in another. We provide 3 different site filter masks for analyses including different species. For more details see the methods produced as part of the release.\n",
    "\n",
    "In this dataset we expect to see signals of selection and incipient speciation, and therefore represents a potentially rich resource for population geneticists and vector biologists.\n",
    "\n",
    "## Introduction\n",
    "\n",
    "This notebook provides some examples of accessing data from the Ag1000G phase 3 SNP release on Google Cloud Services (GCS). It illustrates how to read data directly from Google Cloud, without having to first download any data locally. This notebook can be run from any computer, but will work best when run from a compute node within Google Cloud, because it will be physically closer to the data and so data transfer is faster. For example, this notebook can be run via [Google Colab](https://colab.research.google.com/) which is an interactive computing service running in Google Cloud.\n",
    "\n",
    "If you find Google Colab too slow to run specific analyses, there may be a case to use MalariaGEN's DataLab service, which also runs inside Google Cloud but offers more compute power. Please email data@malariagen.net if you'd like to discuss this. \n",
    "\n",
    "Please address any queries about this notebook to nicholas.harding@bdi.ox.ac.uk.\n",
    "Or raise an issue [here](https://github.com/malariagen/vector-public-data/issues).\n",
    "\n",
    "## About this guide\n",
    "\n",
    "This guide is written as a Jupyter notebook, and describes the analysis of single nucleotide polymorphisms and associated sample metadata _only_. If you wish to perform specific analyses of sequence read alignments you will need to download data locally, see [here](download_guide_path_tbc).\n",
    "\n",
    "## Data hosting\n",
    "\n",
    "All data required for this notebook is hosted on Google Cloud Storage. Additional files, such as alignments (`.bam`) and SNP calls in `VCF` are available via the European Nucleotide Archive and the European Variation Archive respectively.\n",
    "\n",
    "Sample metadata and SNP calls in Zarr format are hosted on Google Cloud Storage (GCS) in the vo_agam_release bucket, which is a multi-region bucket located in the United States. All data hosted in GCS are publicly accessible and do not require any authentication to access. This guide provides examples of using these data directly from a \n",
    "Sample sets\n",
    "\n",
    "## Data structure\n",
    "\n",
    "Data in this release are organised into 28 sample sets. Each of these sample sets corresponds to a set of mosquito specimens contributed by a collaborating study. Depending on your objectives, you may want to download data from only specific sample sets, or all sample sets. For convenience there is a tab-delimited manifest file listing all sample sets in the release. Here is a direct download link for the sample set manifest:\n",
    "\n",
    "The sample set identifiers all start with \"AG1000G-\" followed by the two-letter code of the country from which samples were collected (e.g., \"AO\" is Angola). Where there are multiple sample sets from the same country, these have been given alphabetical suffixes, e.g., \"AG1000G-BF-A\", \"AG1000G-BF-B\" and \"AG1000G-BF-C\" are three sample sets from Burkina Faso.\n",
    "\n",
    "These country code suffixes are just a convenience to help remember which sample sets contain which data, please see the sample metadata for more precise location information. Please note also that sample set AG1000G-GN-B contains samples from both Guinea and Mali.\n",
    "\n",
    "More information on sample sets is provided below. "
   ]
  },
  {
   "cell_type": "code",
   "execution_count": null,
   "metadata": {
    "colab": {},
    "colab_type": "code",
    "id": "VGkjDiqq0V14"
   },
   "outputs": [],
   "source": [
    "# Install additional packages.\n",
    "!pip install -q intake zarr gcsfs fsspec scikit-allel"
   ]
  },
  {
   "cell_type": "code",
   "execution_count": 2,
   "metadata": {
    "colab": {},
    "colab_type": "code",
    "id": "vcNtzaCM0u2t"
   },
   "outputs": [],
   "source": [
    "# Import packages.\n",
    "import intake\n",
    "import allel\n",
    "import pandas as pd\n",
    "import numpy as np\n",
    "import dask.array as da\n",
    "from dask.diagnostics import ProgressBar as progress\n",
    "import matplotlib.pyplot as plt\n",
    "%matplotlib inline"
   ]
  },
  {
   "cell_type": "markdown",
   "metadata": {
    "colab_type": "text",
    "id": "FF8puHxb8XY4"
   },
   "source": [
    "## Data catalog\n",
    "\n",
    "For convenience, all data from Ag1000G phase 3 can be accessed via an [intake](https://intake.readthedocs.io/en/latest/index.html) data catalog. The code below illustrates how to load the catalog."
   ]
  },
  {
   "cell_type": "code",
   "execution_count": 3,
   "metadata": {
    "colab": {},
    "colab_type": "code",
    "id": "ZjoS4eR11CrW"
   },
   "outputs": [],
   "source": [
    "# Open the Ag1000G phase 3 data catalog.\n",
    "cat = intake.open_catalog(\"https://malariagen.github.io/intake/gcs.yml\")"
   ]
  },
  {
   "cell_type": "markdown",
   "metadata": {
    "colab_type": "text",
    "id": "3A7CeMx_8uFs"
   },
   "source": [
    "## Sample sets\n",
    "\n",
    "All of the data in Ag1000G phase 3 is organised into sample sets. There are 28 sample sets in total. In general, each sample set contains samples from a single country and contributor. \n",
    "\n",
    "To see which sample sets are available, load a [pandas](https://pandas.pydata.org/) dataframe that lists sample sets:"
   ]
  },
  {
   "cell_type": "code",
   "execution_count": 4,
   "metadata": {
    "colab": {
     "base_uri": "https://localhost:8080/",
     "height": 914
    },
    "colab_type": "code",
    "id": "kd5p3HbL1QEk",
    "outputId": "e5c82257-c3be-4e56-9820-c43331af6dfa"
   },
   "outputs": [
    {
     "name": "stderr",
     "output_type": "stream",
     "text": [
      "/home/njh/dev/vector-ops/binder/deps/conda/envs/vector-ops-v2.5.1/lib/python3.7/site-packages/dask/dataframe/utils.py:14: FutureWarning: pandas.util.testing is deprecated. Use the functions in the public API at pandas.testing instead.\n",
      "  import pandas.util.testing as tm\n"
     ]
    },
    {
     "data": {
      "text/html": [
       "<div>\n",
       "<style scoped>\n",
       "    .dataframe tbody tr th:only-of-type {\n",
       "        vertical-align: middle;\n",
       "    }\n",
       "\n",
       "    .dataframe tbody tr th {\n",
       "        vertical-align: top;\n",
       "    }\n",
       "\n",
       "    .dataframe thead th {\n",
       "        text-align: right;\n",
       "    }\n",
       "</style>\n",
       "<table border=\"1\" class=\"dataframe\">\n",
       "  <thead>\n",
       "    <tr style=\"text-align: right;\">\n",
       "      <th></th>\n",
       "      <th>sample_set</th>\n",
       "      <th>sample_count</th>\n",
       "    </tr>\n",
       "  </thead>\n",
       "  <tbody>\n",
       "    <tr>\n",
       "      <th>0</th>\n",
       "      <td>AG1000G-AO</td>\n",
       "      <td>81</td>\n",
       "    </tr>\n",
       "    <tr>\n",
       "      <th>1</th>\n",
       "      <td>AG1000G-BF-A</td>\n",
       "      <td>181</td>\n",
       "    </tr>\n",
       "    <tr>\n",
       "      <th>2</th>\n",
       "      <td>AG1000G-BF-B</td>\n",
       "      <td>102</td>\n",
       "    </tr>\n",
       "    <tr>\n",
       "      <th>3</th>\n",
       "      <td>AG1000G-BF-C</td>\n",
       "      <td>13</td>\n",
       "    </tr>\n",
       "    <tr>\n",
       "      <th>4</th>\n",
       "      <td>AG1000G-CD</td>\n",
       "      <td>76</td>\n",
       "    </tr>\n",
       "    <tr>\n",
       "      <th>5</th>\n",
       "      <td>AG1000G-CF</td>\n",
       "      <td>73</td>\n",
       "    </tr>\n",
       "    <tr>\n",
       "      <th>6</th>\n",
       "      <td>AG1000G-CI</td>\n",
       "      <td>80</td>\n",
       "    </tr>\n",
       "    <tr>\n",
       "      <th>7</th>\n",
       "      <td>AG1000G-CM-A</td>\n",
       "      <td>303</td>\n",
       "    </tr>\n",
       "    <tr>\n",
       "      <th>8</th>\n",
       "      <td>AG1000G-CM-B</td>\n",
       "      <td>97</td>\n",
       "    </tr>\n",
       "    <tr>\n",
       "      <th>9</th>\n",
       "      <td>AG1000G-CM-C</td>\n",
       "      <td>44</td>\n",
       "    </tr>\n",
       "    <tr>\n",
       "      <th>10</th>\n",
       "      <td>AG1000G-FR</td>\n",
       "      <td>23</td>\n",
       "    </tr>\n",
       "    <tr>\n",
       "      <th>11</th>\n",
       "      <td>AG1000G-GA-A</td>\n",
       "      <td>69</td>\n",
       "    </tr>\n",
       "    <tr>\n",
       "      <th>12</th>\n",
       "      <td>AG1000G-GH</td>\n",
       "      <td>100</td>\n",
       "    </tr>\n",
       "    <tr>\n",
       "      <th>13</th>\n",
       "      <td>AG1000G-GM-A</td>\n",
       "      <td>74</td>\n",
       "    </tr>\n",
       "    <tr>\n",
       "      <th>14</th>\n",
       "      <td>AG1000G-GM-B</td>\n",
       "      <td>31</td>\n",
       "    </tr>\n",
       "    <tr>\n",
       "      <th>15</th>\n",
       "      <td>AG1000G-GM-C</td>\n",
       "      <td>174</td>\n",
       "    </tr>\n",
       "    <tr>\n",
       "      <th>16</th>\n",
       "      <td>AG1000G-GN-A</td>\n",
       "      <td>45</td>\n",
       "    </tr>\n",
       "    <tr>\n",
       "      <th>17</th>\n",
       "      <td>AG1000G-GN-B</td>\n",
       "      <td>185</td>\n",
       "    </tr>\n",
       "    <tr>\n",
       "      <th>18</th>\n",
       "      <td>AG1000G-GQ</td>\n",
       "      <td>10</td>\n",
       "    </tr>\n",
       "    <tr>\n",
       "      <th>19</th>\n",
       "      <td>AG1000G-GW</td>\n",
       "      <td>101</td>\n",
       "    </tr>\n",
       "    <tr>\n",
       "      <th>20</th>\n",
       "      <td>AG1000G-KE</td>\n",
       "      <td>86</td>\n",
       "    </tr>\n",
       "    <tr>\n",
       "      <th>21</th>\n",
       "      <td>AG1000G-ML-A</td>\n",
       "      <td>60</td>\n",
       "    </tr>\n",
       "    <tr>\n",
       "      <th>22</th>\n",
       "      <td>AG1000G-ML-B</td>\n",
       "      <td>71</td>\n",
       "    </tr>\n",
       "    <tr>\n",
       "      <th>23</th>\n",
       "      <td>AG1000G-MW</td>\n",
       "      <td>41</td>\n",
       "    </tr>\n",
       "    <tr>\n",
       "      <th>24</th>\n",
       "      <td>AG1000G-MZ</td>\n",
       "      <td>74</td>\n",
       "    </tr>\n",
       "    <tr>\n",
       "      <th>25</th>\n",
       "      <td>AG1000G-TZ</td>\n",
       "      <td>300</td>\n",
       "    </tr>\n",
       "    <tr>\n",
       "      <th>26</th>\n",
       "      <td>AG1000G-UG</td>\n",
       "      <td>290</td>\n",
       "    </tr>\n",
       "    <tr>\n",
       "      <th>27</th>\n",
       "      <td>AG1000G-X</td>\n",
       "      <td>297</td>\n",
       "    </tr>\n",
       "  </tbody>\n",
       "</table>\n",
       "</div>"
      ],
      "text/plain": [
       "      sample_set  sample_count\n",
       "0     AG1000G-AO            81\n",
       "1   AG1000G-BF-A           181\n",
       "2   AG1000G-BF-B           102\n",
       "3   AG1000G-BF-C            13\n",
       "4     AG1000G-CD            76\n",
       "5     AG1000G-CF            73\n",
       "6     AG1000G-CI            80\n",
       "7   AG1000G-CM-A           303\n",
       "8   AG1000G-CM-B            97\n",
       "9   AG1000G-CM-C            44\n",
       "10    AG1000G-FR            23\n",
       "11  AG1000G-GA-A            69\n",
       "12    AG1000G-GH           100\n",
       "13  AG1000G-GM-A            74\n",
       "14  AG1000G-GM-B            31\n",
       "15  AG1000G-GM-C           174\n",
       "16  AG1000G-GN-A            45\n",
       "17  AG1000G-GN-B           185\n",
       "18    AG1000G-GQ            10\n",
       "19    AG1000G-GW           101\n",
       "20    AG1000G-KE            86\n",
       "21  AG1000G-ML-A            60\n",
       "22  AG1000G-ML-B            71\n",
       "23    AG1000G-MW            41\n",
       "24    AG1000G-MZ            74\n",
       "25    AG1000G-TZ           300\n",
       "26    AG1000G-UG           290\n",
       "27     AG1000G-X           297"
      ]
     },
     "execution_count": 4,
     "metadata": {},
     "output_type": "execute_result"
    }
   ],
   "source": [
    "# Read in the list of available sample sets.\n",
    "df_sample_sets = cat.ag3.sample_sets.read()\n",
    "df_sample_sets"
   ]
  },
  {
   "cell_type": "markdown",
   "metadata": {
    "colab_type": "text",
    "id": "78L85pli9HdO"
   },
   "source": [
    "## Sample metadata\n",
    "\n",
    "Sample metadata such as the collection location and year are available for all samples. These are organised by sample set.\n",
    "\n",
    "Importantly, the order of rows in sample metadata correspond to the columns in the SNP genotype data. So if you wish to exclude the _i_ th sample from your analysis, the _i_ th column of the SNP data array should be excluded.\n",
    "\n",
    "E.g., load sample metadata for the AG1000G-TZ sample set:"
   ]
  },
  {
   "cell_type": "code",
   "execution_count": 5,
   "metadata": {
    "colab": {
     "base_uri": "https://localhost:8080/",
     "height": 203
    },
    "colab_type": "code",
    "id": "J3EmAQea1f3C",
    "outputId": "106e9e66-3c9e-4624-8bbe-c91f2e108b6c"
   },
   "outputs": [
    {
     "data": {
      "text/html": [
       "<div>\n",
       "<style scoped>\n",
       "    .dataframe tbody tr th:only-of-type {\n",
       "        vertical-align: middle;\n",
       "    }\n",
       "\n",
       "    .dataframe tbody tr th {\n",
       "        vertical-align: top;\n",
       "    }\n",
       "\n",
       "    .dataframe thead th {\n",
       "        text-align: right;\n",
       "    }\n",
       "</style>\n",
       "<table border=\"1\" class=\"dataframe\">\n",
       "  <thead>\n",
       "    <tr style=\"text-align: right;\">\n",
       "      <th></th>\n",
       "      <th>sample_id</th>\n",
       "      <th>partner_sample_id</th>\n",
       "      <th>contributor</th>\n",
       "      <th>country</th>\n",
       "      <th>location</th>\n",
       "      <th>year</th>\n",
       "      <th>month</th>\n",
       "      <th>latitude</th>\n",
       "      <th>longitude</th>\n",
       "      <th>sex_call</th>\n",
       "    </tr>\n",
       "  </thead>\n",
       "  <tbody>\n",
       "    <tr>\n",
       "      <th>0</th>\n",
       "      <td>BL0046-C</td>\n",
       "      <td>Plate_C_H6</td>\n",
       "      <td>Bilali Kabula</td>\n",
       "      <td>Tanzania</td>\n",
       "      <td>Muleba</td>\n",
       "      <td>2015</td>\n",
       "      <td>6</td>\n",
       "      <td>-1.962</td>\n",
       "      <td>31.651</td>\n",
       "      <td>F</td>\n",
       "    </tr>\n",
       "    <tr>\n",
       "      <th>1</th>\n",
       "      <td>BL0047-C</td>\n",
       "      <td>Plate_F_D4</td>\n",
       "      <td>Bilali Kabula</td>\n",
       "      <td>Tanzania</td>\n",
       "      <td>Muleba</td>\n",
       "      <td>2015</td>\n",
       "      <td>3</td>\n",
       "      <td>-1.962</td>\n",
       "      <td>31.651</td>\n",
       "      <td>F</td>\n",
       "    </tr>\n",
       "    <tr>\n",
       "      <th>2</th>\n",
       "      <td>BL0048-C</td>\n",
       "      <td>Plate_F_E4</td>\n",
       "      <td>Bilali Kabula</td>\n",
       "      <td>Tanzania</td>\n",
       "      <td>Muleba</td>\n",
       "      <td>2015</td>\n",
       "      <td>3</td>\n",
       "      <td>-1.962</td>\n",
       "      <td>31.651</td>\n",
       "      <td>F</td>\n",
       "    </tr>\n",
       "    <tr>\n",
       "      <th>3</th>\n",
       "      <td>BL0049-C</td>\n",
       "      <td>Plate_F_F4</td>\n",
       "      <td>Bilali Kabula</td>\n",
       "      <td>Tanzania</td>\n",
       "      <td>Muleba</td>\n",
       "      <td>2015</td>\n",
       "      <td>3</td>\n",
       "      <td>-1.962</td>\n",
       "      <td>31.651</td>\n",
       "      <td>F</td>\n",
       "    </tr>\n",
       "    <tr>\n",
       "      <th>4</th>\n",
       "      <td>BL0050-C</td>\n",
       "      <td>Plate_F_G4</td>\n",
       "      <td>Bilali Kabula</td>\n",
       "      <td>Tanzania</td>\n",
       "      <td>Muleba</td>\n",
       "      <td>2015</td>\n",
       "      <td>3</td>\n",
       "      <td>-1.962</td>\n",
       "      <td>31.651</td>\n",
       "      <td>F</td>\n",
       "    </tr>\n",
       "  </tbody>\n",
       "</table>\n",
       "</div>"
      ],
      "text/plain": [
       "  sample_id partner_sample_id    contributor   country location  year  month  \\\n",
       "0  BL0046-C        Plate_C_H6  Bilali Kabula  Tanzania   Muleba  2015      6   \n",
       "1  BL0047-C        Plate_F_D4  Bilali Kabula  Tanzania   Muleba  2015      3   \n",
       "2  BL0048-C        Plate_F_E4  Bilali Kabula  Tanzania   Muleba  2015      3   \n",
       "3  BL0049-C        Plate_F_F4  Bilali Kabula  Tanzania   Muleba  2015      3   \n",
       "4  BL0050-C        Plate_F_G4  Bilali Kabula  Tanzania   Muleba  2015      3   \n",
       "\n",
       "   latitude  longitude sex_call  \n",
       "0    -1.962     31.651        F  \n",
       "1    -1.962     31.651        F  \n",
       "2    -1.962     31.651        F  \n",
       "3    -1.962     31.651        F  \n",
       "4    -1.962     31.651        F  "
      ]
     },
     "execution_count": 5,
     "metadata": {},
     "output_type": "execute_result"
    }
   ],
   "source": [
    "df_samples = cat.ag3.samples(sample_set=\"AG1000G-TZ\").read()\n",
    "df_samples.head()"
   ]
  },
  {
   "cell_type": "code",
   "execution_count": 6,
   "metadata": {
    "colab": {
     "base_uri": "https://localhost:8080/",
     "height": 120
    },
    "colab_type": "code",
    "id": "sm-8RxVa1vom",
    "outputId": "af126ff2-bb26-4dd9-ff59-f09a873be517"
   },
   "outputs": [
    {
     "data": {
      "text/plain": [
       "country   location  year\n",
       "Tanzania  Moshi     2012     40\n",
       "          Muheza    2013     43\n",
       "          Muleba    2015    170\n",
       "          Tarime    2012     47\n",
       "dtype: int64"
      ]
     },
     "execution_count": 6,
     "metadata": {},
     "output_type": "execute_result"
    }
   ],
   "source": [
    "df_samples.groupby([\"country\", \"location\", \"year\"]).size()"
   ]
  },
  {
   "cell_type": "markdown",
   "metadata": {
    "colab_type": "text",
    "id": "vbigubb49brh"
   },
   "source": [
    "## Species calls\n",
    "\n",
    "Samples within a sample set may belong to different species. If the user wishes to restrict their analysis to specific species, they should filter along columns. The final example provided in this notebook shows an example restricting an analysis to _A. coluzzii_.\n",
    "\n",
    "For convenience, we have made a species call for all samples in Ag1000G phase 3, using the genomic data. We have used two different methods for species calling:\n",
    "\n",
    "1. Ancestry informative markers (AIMs)\n",
    "2.  Principal components analysis (PCA)\n",
    "\n",
    "Note that the results of these two different methods generally agree, although there are some populations where results are different, particularly in Guinea-Bissau and The Gambia. If you have any questions about how to interpret these species calls, please get in touch.\n",
    "\n",
    "E.g., read the AIM species calls for sample set AG1000G-TZ:"
   ]
  },
  {
   "cell_type": "code",
   "execution_count": 7,
   "metadata": {
    "colab": {
     "base_uri": "https://localhost:8080/",
     "height": 203
    },
    "colab_type": "code",
    "id": "DA1SicPj13V5",
    "outputId": "16b2686b-6efa-47a1-a36f-c42656a0a5dd"
   },
   "outputs": [
    {
     "data": {
      "text/html": [
       "<div>\n",
       "<style scoped>\n",
       "    .dataframe tbody tr th:only-of-type {\n",
       "        vertical-align: middle;\n",
       "    }\n",
       "\n",
       "    .dataframe tbody tr th {\n",
       "        vertical-align: top;\n",
       "    }\n",
       "\n",
       "    .dataframe thead th {\n",
       "        text-align: right;\n",
       "    }\n",
       "</style>\n",
       "<table border=\"1\" class=\"dataframe\">\n",
       "  <thead>\n",
       "    <tr style=\"text-align: right;\">\n",
       "      <th></th>\n",
       "      <th>sample_id</th>\n",
       "      <th>aim_fraction_colu</th>\n",
       "      <th>aim_fraction_arab</th>\n",
       "      <th>species_gambcolu_arabiensis</th>\n",
       "      <th>species_gambiae_coluzzii</th>\n",
       "    </tr>\n",
       "  </thead>\n",
       "  <tbody>\n",
       "    <tr>\n",
       "      <th>0</th>\n",
       "      <td>BL0046-C</td>\n",
       "      <td>0.125</td>\n",
       "      <td>0.005</td>\n",
       "      <td>gamb_colu</td>\n",
       "      <td>intermediate</td>\n",
       "    </tr>\n",
       "    <tr>\n",
       "      <th>1</th>\n",
       "      <td>BL0047-C</td>\n",
       "      <td>0.459</td>\n",
       "      <td>0.745</td>\n",
       "      <td>arabiensis</td>\n",
       "      <td>NaN</td>\n",
       "    </tr>\n",
       "    <tr>\n",
       "      <th>2</th>\n",
       "      <td>BL0048-C</td>\n",
       "      <td>0.455</td>\n",
       "      <td>0.742</td>\n",
       "      <td>arabiensis</td>\n",
       "      <td>NaN</td>\n",
       "    </tr>\n",
       "    <tr>\n",
       "      <th>3</th>\n",
       "      <td>BL0049-C</td>\n",
       "      <td>0.455</td>\n",
       "      <td>0.744</td>\n",
       "      <td>arabiensis</td>\n",
       "      <td>NaN</td>\n",
       "    </tr>\n",
       "    <tr>\n",
       "      <th>4</th>\n",
       "      <td>BL0050-C</td>\n",
       "      <td>0.451</td>\n",
       "      <td>0.735</td>\n",
       "      <td>arabiensis</td>\n",
       "      <td>NaN</td>\n",
       "    </tr>\n",
       "  </tbody>\n",
       "</table>\n",
       "</div>"
      ],
      "text/plain": [
       "  sample_id  aim_fraction_colu  aim_fraction_arab species_gambcolu_arabiensis  \\\n",
       "0  BL0046-C              0.125              0.005                   gamb_colu   \n",
       "1  BL0047-C              0.459              0.745                  arabiensis   \n",
       "2  BL0048-C              0.455              0.742                  arabiensis   \n",
       "3  BL0049-C              0.455              0.744                  arabiensis   \n",
       "4  BL0050-C              0.451              0.735                  arabiensis   \n",
       "\n",
       "  species_gambiae_coluzzii  \n",
       "0             intermediate  \n",
       "1                      NaN  \n",
       "2                      NaN  \n",
       "3                      NaN  \n",
       "4                      NaN  "
      ]
     },
     "execution_count": 7,
     "metadata": {},
     "output_type": "execute_result"
    }
   ],
   "source": [
    "df_species_aim = cat.ag3.species_calls_20200422_aim(sample_set=\"AG1000G-TZ\").read()\n",
    "df_species_aim.head()"
   ]
  },
  {
   "cell_type": "markdown",
   "metadata": {
    "colab_type": "text",
    "id": "IaNWLi70-Jzs"
   },
   "source": [
    "E.g., read the PCA species calls for sample set AG1000G-TZ:"
   ]
  },
  {
   "cell_type": "code",
   "execution_count": 8,
   "metadata": {
    "colab": {
     "base_uri": "https://localhost:8080/",
     "height": 203
    },
    "colab_type": "code",
    "id": "zzsgOM-I2EfD",
    "outputId": "4f7d7a8c-7bd7-4747-a7b7-4abd1c9b2e99"
   },
   "outputs": [
    {
     "data": {
      "text/html": [
       "<div>\n",
       "<style scoped>\n",
       "    .dataframe tbody tr th:only-of-type {\n",
       "        vertical-align: middle;\n",
       "    }\n",
       "\n",
       "    .dataframe tbody tr th {\n",
       "        vertical-align: top;\n",
       "    }\n",
       "\n",
       "    .dataframe thead th {\n",
       "        text-align: right;\n",
       "    }\n",
       "</style>\n",
       "<table border=\"1\" class=\"dataframe\">\n",
       "  <thead>\n",
       "    <tr style=\"text-align: right;\">\n",
       "      <th></th>\n",
       "      <th>sample_id</th>\n",
       "      <th>PC1</th>\n",
       "      <th>PC2</th>\n",
       "      <th>species_gambcolu_arabiensis</th>\n",
       "      <th>species_gambiae_coluzzii</th>\n",
       "    </tr>\n",
       "  </thead>\n",
       "  <tbody>\n",
       "    <tr>\n",
       "      <th>0</th>\n",
       "      <td>BL0046-C</td>\n",
       "      <td>-27.700</td>\n",
       "      <td>-18.597</td>\n",
       "      <td>gamb_colu</td>\n",
       "      <td>gambiae</td>\n",
       "    </tr>\n",
       "    <tr>\n",
       "      <th>1</th>\n",
       "      <td>BL0047-C</td>\n",
       "      <td>202.946</td>\n",
       "      <td>2.731</td>\n",
       "      <td>arabiensis</td>\n",
       "      <td>NaN</td>\n",
       "    </tr>\n",
       "    <tr>\n",
       "      <th>2</th>\n",
       "      <td>BL0048-C</td>\n",
       "      <td>198.683</td>\n",
       "      <td>4.455</td>\n",
       "      <td>arabiensis</td>\n",
       "      <td>NaN</td>\n",
       "    </tr>\n",
       "    <tr>\n",
       "      <th>3</th>\n",
       "      <td>BL0049-C</td>\n",
       "      <td>202.344</td>\n",
       "      <td>4.364</td>\n",
       "      <td>arabiensis</td>\n",
       "      <td>NaN</td>\n",
       "    </tr>\n",
       "    <tr>\n",
       "      <th>4</th>\n",
       "      <td>BL0050-C</td>\n",
       "      <td>197.466</td>\n",
       "      <td>3.327</td>\n",
       "      <td>arabiensis</td>\n",
       "      <td>NaN</td>\n",
       "    </tr>\n",
       "  </tbody>\n",
       "</table>\n",
       "</div>"
      ],
      "text/plain": [
       "  sample_id      PC1     PC2 species_gambcolu_arabiensis  \\\n",
       "0  BL0046-C  -27.700 -18.597                   gamb_colu   \n",
       "1  BL0047-C  202.946   2.731                  arabiensis   \n",
       "2  BL0048-C  198.683   4.455                  arabiensis   \n",
       "3  BL0049-C  202.344   4.364                  arabiensis   \n",
       "4  BL0050-C  197.466   3.327                  arabiensis   \n",
       "\n",
       "  species_gambiae_coluzzii  \n",
       "0                  gambiae  \n",
       "1                      NaN  \n",
       "2                      NaN  \n",
       "3                      NaN  \n",
       "4                      NaN  "
      ]
     },
     "execution_count": 8,
     "metadata": {},
     "output_type": "execute_result"
    }
   ],
   "source": [
    "df_species_pca = cat.ag3.species_calls_20200422_pca(sample_set=\"AG1000G-TZ\").read()\n",
    "df_species_pca.head()"
   ]
  },
  {
   "cell_type": "code",
   "execution_count": 9,
   "metadata": {},
   "outputs": [
    {
     "data": {
      "text/plain": [
       "(300, 10)"
      ]
     },
     "execution_count": 9,
     "metadata": {},
     "output_type": "execute_result"
    }
   ],
   "source": [
    "df_samples.shape"
   ]
  },
  {
   "cell_type": "code",
   "execution_count": 10,
   "metadata": {},
   "outputs": [
    {
     "data": {
      "text/plain": [
       "(300, 5)"
      ]
     },
     "execution_count": 10,
     "metadata": {},
     "output_type": "execute_result"
    }
   ],
   "source": [
    "df_species_pca.shape"
   ]
  },
  {
   "cell_type": "code",
   "execution_count": 11,
   "metadata": {},
   "outputs": [
    {
     "data": {
      "text/plain": [
       "country   location  year  species_gambcolu_arabiensis\n",
       "Tanzania  Moshi     2012  arabiensis                      40\n",
       "          Muheza    2013  arabiensis                       1\n",
       "                          gamb_colu                       42\n",
       "          Muleba    2015  arabiensis                     137\n",
       "                          gamb_colu                       33\n",
       "          Tarime    2012  arabiensis                      47\n",
       "dtype: int64"
      ]
     },
     "execution_count": 11,
     "metadata": {},
     "output_type": "execute_result"
    }
   ],
   "source": [
    "# merge the metadata with the species calls.\n",
    "df_samples.merge(df_species_aim, on=\"sample_id\").groupby(\n",
    "    [\"country\", \"location\", \"year\", \"species_gambcolu_arabiensis\"]).size()"
   ]
  },
  {
   "cell_type": "markdown",
   "metadata": {
    "colab_type": "text",
    "id": "Lvv-lFHJ-Um2"
   },
   "source": [
    "## SNP sites and alleles\n",
    "\n",
    "We have called SNP genotypes in all samples at all positions in the genome where the reference allele is not \"N\". Data on this set of genomic positions, and the coding of reference and alternate alleles, is available as a [zarr](https://zarr.readthedocs.io/) hierarchy, and can be opened directly from the data catalog: "
   ]
  },
  {
   "cell_type": "code",
   "execution_count": 12,
   "metadata": {
    "colab": {
     "base_uri": "https://localhost:8080/",
     "height": 34
    },
    "colab_type": "code",
    "id": "jYj0OCYc2MVf",
    "outputId": "3b41d21e-43f7-4eba-c4ad-473532426b19"
   },
   "outputs": [
    {
     "data": {
      "text/plain": [
       "<zarr.hierarchy.Group '/' read-only>"
      ]
     },
     "execution_count": 12,
     "metadata": {},
     "output_type": "execute_result"
    }
   ],
   "source": [
    "callset_sites = cat.ag3.snp_sites.to_zarr()\n",
    "callset_sites"
   ]
  },
  {
   "cell_type": "markdown",
   "metadata": {
    "colab_type": "text",
    "id": "EfIco2Ti_KZh"
   },
   "source": [
    "The data are grouped by chromosome arm:"
   ]
  },
  {
   "cell_type": "code",
   "execution_count": 13,
   "metadata": {
    "colab": {
     "base_uri": "https://localhost:8080/",
     "height": 34
    },
    "colab_type": "code",
    "id": "eICm2-91_IrQ",
    "outputId": "50b03a16-fee3-4441-e9f4-69a6c59fd3c8"
   },
   "outputs": [
    {
     "data": {
      "text/plain": [
       "['2L', '2R', '3L', '3R', 'Mt', 'UNKN', 'X', 'Y_unplaced']"
      ]
     },
     "execution_count": 13,
     "metadata": {},
     "output_type": "execute_result"
    }
   ],
   "source": [
    "list(callset_sites)"
   ]
  },
  {
   "cell_type": "markdown",
   "metadata": {
    "colab_type": "text",
    "id": "OZAGUE_x_RwH"
   },
   "source": [
    "For each chromosome arm, the \"variants/POS\" array gives the genomic positions, the \"variants/REF\" array gives the reference alleles, and the \"variants/ALT\" array gives the alternate alleles. These data can be loaded into [numpy](https://numpy.org/) arrays by slicing.\n",
    "\n",
    "E.g., load genomic positions for the first 10 SNPs on chromosome arm 3R:"
   ]
  },
  {
   "cell_type": "code",
   "execution_count": 14,
   "metadata": {
    "colab": {
     "base_uri": "https://localhost:8080/",
     "height": 34
    },
    "colab_type": "code",
    "id": "pDCVmxZv_Qz3",
    "outputId": "445eda3f-e80a-4f73-d182-2778d53099d8"
   },
   "outputs": [
    {
     "data": {
      "text/plain": [
       "array([ 1,  2,  3,  4,  5,  6,  7,  8,  9, 10], dtype=int32)"
      ]
     },
     "execution_count": 14,
     "metadata": {},
     "output_type": "execute_result"
    }
   ],
   "source": [
    "callset_sites[\"3R/variants/POS\"][:10]"
   ]
  },
  {
   "cell_type": "markdown",
   "metadata": {
    "colab_type": "text",
    "id": "WR_TIrp6_yvB"
   },
   "source": [
    "E.g., load reference alleles for the first 10 SNPs on chromosome arm 3R:"
   ]
  },
  {
   "cell_type": "code",
   "execution_count": 15,
   "metadata": {
    "colab": {
     "base_uri": "https://localhost:8080/",
     "height": 51
    },
    "colab_type": "code",
    "id": "cmFv0U1U_kyK",
    "outputId": "9c2d34f6-09d5-4500-ba25-3cf6c7d38fdd"
   },
   "outputs": [
    {
     "data": {
      "text/plain": [
       "array([b'C', b'C', b'T', b'C', b'T', b'A', b'C', b'G', b'T', b'T'],\n",
       "      dtype='|S1')"
      ]
     },
     "execution_count": 15,
     "metadata": {},
     "output_type": "execute_result"
    }
   ],
   "source": [
    "callset_sites[\"3R/variants/REF\"][:10]"
   ]
  },
  {
   "cell_type": "markdown",
   "metadata": {
    "colab_type": "text",
    "id": "LXPKjn3hAGvl"
   },
   "source": [
    "E.g., load alternate alleles for the first 10 SNPs on chromosome arm 3R:"
   ]
  },
  {
   "cell_type": "code",
   "execution_count": 16,
   "metadata": {
    "colab": {
     "base_uri": "https://localhost:8080/",
     "height": 189
    },
    "colab_type": "code",
    "id": "5lujs_1CAJq0",
    "outputId": "15f7fae4-4247-49a4-b6d0-9d60e8880574"
   },
   "outputs": [
    {
     "data": {
      "text/plain": [
       "array([[b'A', b'T', b'G'],\n",
       "       [b'A', b'T', b'G'],\n",
       "       [b'A', b'C', b'G'],\n",
       "       [b'A', b'T', b'G'],\n",
       "       [b'A', b'C', b'G'],\n",
       "       [b'C', b'T', b'G'],\n",
       "       [b'A', b'T', b'G'],\n",
       "       [b'A', b'C', b'T'],\n",
       "       [b'A', b'C', b'G'],\n",
       "       [b'A', b'C', b'G']], dtype='|S1')"
      ]
     },
     "execution_count": 16,
     "metadata": {},
     "output_type": "execute_result"
    }
   ],
   "source": [
    "callset_sites[\"3R/variants/ALT\"][:10]"
   ]
  },
  {
   "cell_type": "markdown",
   "metadata": {
    "colab_type": "text",
    "id": "BGVj0OiyAQuX"
   },
   "source": [
    "## Site filters\n",
    "\n",
    "SNP calling is not always reliable, and we have created some site filters to allow excluding low quality SNPs. \n",
    "\n",
    "Because different species may have different genome accessibility issues, we have created three separate site filters:\n",
    "\n",
    "* The \"gamb_colu\" filter is design for working only with samples that **are not** An. arabiensis. \n",
    "* The \"arab\" filter is designed for when only working with samples that **are** An. arabiensis. \n",
    "* The \"gamb_colu_arab\" filter is suitable for when analysing samples of any species together. \n",
    "\n",
    "The site filters data are available as zarr hierarchies. \n",
    "\n",
    "E.g., open the \"gamb_colu\" site filters:"
   ]
  },
  {
   "cell_type": "code",
   "execution_count": 17,
   "metadata": {
    "colab": {},
    "colab_type": "code",
    "id": "qgW1kQ8p2bjf"
   },
   "outputs": [],
   "source": [
    "callset_filters_gamb_colu = cat.ag3.site_filters_dt_20200416_gamb_colu.to_zarr()"
   ]
  },
  {
   "cell_type": "markdown",
   "metadata": {
    "colab_type": "text",
    "id": "dA36vZhpBJuc"
   },
   "source": [
    "E.g., open the \"arab\" site filters:"
   ]
  },
  {
   "cell_type": "code",
   "execution_count": 18,
   "metadata": {
    "colab": {},
    "colab_type": "code",
    "id": "9Z3wVd112wF8"
   },
   "outputs": [],
   "source": [
    "callset_filters_arab = cat.ag3.site_filters_dt_20200416_arab.to_zarr()"
   ]
  },
  {
   "cell_type": "markdown",
   "metadata": {
    "colab_type": "text",
    "id": "65Hkm9EKBNHf"
   },
   "source": [
    "E.g., open the \"gamb_colu_arab\" site filters:"
   ]
  },
  {
   "cell_type": "code",
   "execution_count": 19,
   "metadata": {
    "colab": {},
    "colab_type": "code",
    "id": "RIobUNLC28D0"
   },
   "outputs": [],
   "source": [
    "callset_filters_gamb_colu_arab = cat.ag3.site_filters_dt_20200416_gamb_colu_arab.to_zarr()"
   ]
  },
  {
   "cell_type": "markdown",
   "metadata": {
    "colab_type": "text",
    "id": "eqBVMGodBT61"
   },
   "source": [
    "Each set of site filters provides a \"filter_pass\" Boolean mask for each chromosome arm, where True indicates that the site passed the filter and is accessible to high quality SNP calling. \n",
    "\n",
    "E.g., load the mask for the first 10 SNPs on chromosome arm 3R:"
   ]
  },
  {
   "cell_type": "code",
   "execution_count": 20,
   "metadata": {
    "colab": {
     "base_uri": "https://localhost:8080/",
     "height": 51
    },
    "colab_type": "code",
    "id": "zz-OzKm0BSgP",
    "outputId": "e075fa8b-cdb0-4e3f-8b8c-fd0c8eac8a17"
   },
   "outputs": [
    {
     "data": {
      "text/plain": [
       "array([False, False, False, False, False, False, False, False, False,\n",
       "       False])"
      ]
     },
     "execution_count": 20,
     "metadata": {},
     "output_type": "execute_result"
    }
   ],
   "source": [
    "callset_filters_gamb_colu[\"3R/variants/filter_pass\"][:10]"
   ]
  },
  {
   "cell_type": "markdown",
   "metadata": {
    "colab_type": "text",
    "id": "sMnfrmCNBzW8"
   },
   "source": [
    "## SNP genotypes\n",
    "\n",
    "SNP genotypes for individual samples are available as zarr hierarchies, one for each sample set. \n",
    "\n",
    "For each sample set, data are grouped by chromosome arm. The \"calldata/GT\" array provides the actual genotypes, the \"calldata/GQ\" array provides genotype qualities, the \"calldata/MQ\" provides mapping qualities, and the \"calldata/AD\" provides allele depths.\n",
    "\n",
    "E.g., here is an overview of the arrays available for the AG1000G-TZ sample set:"
   ]
  },
  {
   "cell_type": "code",
   "execution_count": 21,
   "metadata": {
    "colab": {
     "base_uri": "https://localhost:8080/",
     "height": 569
    },
    "colab_type": "code",
    "id": "mYWT-Bwb3EWw",
    "outputId": "31d581f1-c4c0-4a0a-b073-1f92d9b562cf"
   },
   "outputs": [
    {
     "name": "stdout",
     "output_type": "stream",
     "text": [
      "/\n",
      " ├── 2L\n",
      " │   └── calldata\n",
      " │       ├── AD (48525747, 300, 4) int16\n",
      " │       ├── GQ (48525747, 300) int16\n",
      " │       ├── GT (48525747, 300, 2) int8\n",
      " │       └── MQ (48525747, 300) int16\n",
      " ├── 2R\n",
      " │   └── calldata\n",
      " │       ├── AD (60132453, 300, 4) int16\n",
      " │       ├── GQ (60132453, 300) int16\n",
      " │       ├── GT (60132453, 300, 2) int8\n",
      " │       └── MQ (60132453, 300) int16\n",
      " ├── 3L\n",
      " │   └── calldata\n",
      " │       ├── AD (40758473, 300, 4) int16\n",
      " │       ├── GQ (40758473, 300) int16\n",
      " │       ├── GT (40758473, 300, 2) int8\n",
      " │       └── MQ (40758473, 300) int16\n",
      " ├── 3R\n",
      " │   └── calldata\n",
      " │       ├── AD (52226568, 300, 4) int16\n",
      " │       ├── GQ (52226568, 300) int16\n",
      " │       ├── GT (52226568, 300, 2) int8\n",
      " │       └── MQ (52226568, 300) int16\n",
      " ├── X\n",
      " │   └── calldata\n",
      " │       ├── AD (23385349, 300, 4) int16\n",
      " │       ├── GQ (23385349, 300) int16\n",
      " │       ├── GT (23385349, 300, 2) int8\n",
      " │       └── MQ (23385349, 300) int16\n",
      " └── samples (300,) |S24\n"
     ]
    }
   ],
   "source": [
    "callset_genotypes = cat.ag3.snp_genotypes(sample_set=\"AG1000G-TZ\").to_zarr()\n",
    "print(callset_genotypes.tree())"
   ]
  },
  {
   "cell_type": "markdown",
   "metadata": {
    "colab_type": "text",
    "id": "vcMEGuGsCSig"
   },
   "source": [
    "If you want to work with the genotype calls, you may find it convenient to use [scikit-allel](http://scikit-allel.readthedocs.org/). E.g., this code sets up a genotype array:"
   ]
  },
  {
   "cell_type": "code",
   "execution_count": 22,
   "metadata": {
    "colab": {
     "base_uri": "https://localhost:8080/",
     "height": 203
    },
    "colab_type": "code",
    "id": "TBuf01BdbJ6z",
    "outputId": "9624fb42-a6f0-4960-b7ba-75bfcde8b499"
   },
   "outputs": [
    {
     "data": {
      "text/html": [
       "<div class=\"allel allel-DisplayAs2D\"><span>&lt;GenotypeDaskArray shape=(52226568, 300, 2) dtype=int8&gt;</span><table><thead><tr><th></th><th style=\"text-align: center\">0</th><th style=\"text-align: center\">1</th><th style=\"text-align: center\">2</th><th style=\"text-align: center\">3</th><th style=\"text-align: center\">4</th><th style=\"text-align: center\">...</th><th style=\"text-align: center\">295</th><th style=\"text-align: center\">296</th><th style=\"text-align: center\">297</th><th style=\"text-align: center\">298</th><th style=\"text-align: center\">299</th></tr></thead><tbody><tr><th style=\"text-align: center; background-color: white; border-right: 1px solid black; \">0</th><td style=\"text-align: center\">0/0</td><td style=\"text-align: center\">0/0</td><td style=\"text-align: center\">0/0</td><td style=\"text-align: center\">0/0</td><td style=\"text-align: center\">0/0</td><td style=\"text-align: center\">...</td><td style=\"text-align: center\">0/0</td><td style=\"text-align: center\">0/0</td><td style=\"text-align: center\">0/0</td><td style=\"text-align: center\">0/0</td><td style=\"text-align: center\">0/0</td></tr><tr><th style=\"text-align: center; background-color: white; border-right: 1px solid black; \">1</th><td style=\"text-align: center\">0/0</td><td style=\"text-align: center\">0/0</td><td style=\"text-align: center\">0/0</td><td style=\"text-align: center\">0/0</td><td style=\"text-align: center\">0/0</td><td style=\"text-align: center\">...</td><td style=\"text-align: center\">0/0</td><td style=\"text-align: center\">0/0</td><td style=\"text-align: center\">0/0</td><td style=\"text-align: center\">0/0</td><td style=\"text-align: center\">0/0</td></tr><tr><th style=\"text-align: center; background-color: white; border-right: 1px solid black; \">2</th><td style=\"text-align: center\">0/0</td><td style=\"text-align: center\">0/0</td><td style=\"text-align: center\">0/0</td><td style=\"text-align: center\">0/0</td><td style=\"text-align: center\">0/0</td><td style=\"text-align: center\">...</td><td style=\"text-align: center\">0/0</td><td style=\"text-align: center\">0/0</td><td style=\"text-align: center\">0/0</td><td style=\"text-align: center\">0/0</td><td style=\"text-align: center\">0/0</td></tr><tr><th style=\"text-align: center; background-color: white; border-right: 1px solid black; \">...</th><td style=\"text-align: center\" colspan=\"12\">...</td></tr><tr><th style=\"text-align: center; background-color: white; border-right: 1px solid black; \">52226565</th><td style=\"text-align: center\">./.</td><td style=\"text-align: center\">./.</td><td style=\"text-align: center\">./.</td><td style=\"text-align: center\">./.</td><td style=\"text-align: center\">./.</td><td style=\"text-align: center\">...</td><td style=\"text-align: center\">./.</td><td style=\"text-align: center\">./.</td><td style=\"text-align: center\">./.</td><td style=\"text-align: center\">./.</td><td style=\"text-align: center\">./.</td></tr><tr><th style=\"text-align: center; background-color: white; border-right: 1px solid black; \">52226566</th><td style=\"text-align: center\">./.</td><td style=\"text-align: center\">./.</td><td style=\"text-align: center\">./.</td><td style=\"text-align: center\">./.</td><td style=\"text-align: center\">./.</td><td style=\"text-align: center\">...</td><td style=\"text-align: center\">./.</td><td style=\"text-align: center\">./.</td><td style=\"text-align: center\">./.</td><td style=\"text-align: center\">./.</td><td style=\"text-align: center\">./.</td></tr><tr><th style=\"text-align: center; background-color: white; border-right: 1px solid black; \">52226567</th><td style=\"text-align: center\">./.</td><td style=\"text-align: center\">./.</td><td style=\"text-align: center\">./.</td><td style=\"text-align: center\">./.</td><td style=\"text-align: center\">./.</td><td style=\"text-align: center\">...</td><td style=\"text-align: center\">./.</td><td style=\"text-align: center\">./.</td><td style=\"text-align: center\">./.</td><td style=\"text-align: center\">./.</td><td style=\"text-align: center\">./.</td></tr></tbody></table></div>"
      ],
      "text/plain": [
       "<GenotypeDaskArray shape=(52226568, 300, 2) dtype=int8>"
      ]
     },
     "execution_count": 22,
     "metadata": {},
     "output_type": "execute_result"
    }
   ],
   "source": [
    "# use the scikit-allel Genotype array class\n",
    "gt = allel.GenotypeDaskArray(callset_genotypes[\"3R/calldata/GT\"])\n",
    "gt"
   ]
  },
  {
   "cell_type": "markdown",
   "metadata": {
    "colab_type": "text",
    "id": "1PXmwTNDCzkB"
   },
   "source": [
    "The code below subsets the data to sites that pass the gamb_colu site filter, then performs an allele count across all pass sites in the chromosome arm. It takes a little while because it is scanning data for millions of SNPs:"
   ]
  },
  {
   "cell_type": "code",
   "execution_count": 23,
   "metadata": {
    "colab": {
     "base_uri": "https://localhost:8080/",
     "height": 220
    },
    "colab_type": "code",
    "id": "v_tRkuBJbWTi",
    "outputId": "cd09084d-3be2-4a72-de19-4cae53215362"
   },
   "outputs": [
    {
     "name": "stdout",
     "output_type": "stream",
     "text": [
      "[########################################] | 100% Completed | 11min 44.4s\n"
     ]
    },
    {
     "data": {
      "text/html": [
       "<div class=\"allel allel-DisplayAs2D\"><span>&lt;AlleleCountsArray shape=(37199402, 4) dtype=int32&gt;</span><table><thead><tr><th></th><th style=\"text-align: center\">0</th><th style=\"text-align: center\">1</th><th style=\"text-align: center\">2</th><th style=\"text-align: center\">3</th></tr></thead><tbody><tr><th style=\"text-align: center; background-color: white; border-right: 1px solid black; \">0</th><td style=\"text-align: center\">600</td><td style=\"text-align: center\">  0</td><td style=\"text-align: center\">  0</td><td style=\"text-align: center\">  0</td></tr><tr><th style=\"text-align: center; background-color: white; border-right: 1px solid black; \">1</th><td style=\"text-align: center\">598</td><td style=\"text-align: center\">  0</td><td style=\"text-align: center\">  0</td><td style=\"text-align: center\">  0</td></tr><tr><th style=\"text-align: center; background-color: white; border-right: 1px solid black; \">2</th><td style=\"text-align: center\">600</td><td style=\"text-align: center\">  0</td><td style=\"text-align: center\">  0</td><td style=\"text-align: center\">  0</td></tr><tr><th style=\"text-align: center; background-color: white; border-right: 1px solid black; \">...</th><td style=\"text-align: center\" colspan=\"5\">...</td></tr><tr><th style=\"text-align: center; background-color: white; border-right: 1px solid black; \">37199399</th><td style=\"text-align: center\">600</td><td style=\"text-align: center\">  0</td><td style=\"text-align: center\">  0</td><td style=\"text-align: center\">  0</td></tr><tr><th style=\"text-align: center; background-color: white; border-right: 1px solid black; \">37199400</th><td style=\"text-align: center\">600</td><td style=\"text-align: center\">  0</td><td style=\"text-align: center\">  0</td><td style=\"text-align: center\">  0</td></tr><tr><th style=\"text-align: center; background-color: white; border-right: 1px solid black; \">37199401</th><td style=\"text-align: center\">600</td><td style=\"text-align: center\">  0</td><td style=\"text-align: center\">  0</td><td style=\"text-align: center\">  0</td></tr></tbody></table></div>"
      ],
      "text/plain": [
       "<AlleleCountsArray shape=(37199402, 4) dtype=int32>\n",
       "600   0   0   0\n",
       "598   0   0   0\n",
       "600   0   0   0\n",
       "...\n",
       "600   0   0   0\n",
       "600   0   0   0\n",
       "600   0   0   0"
      ]
     },
     "execution_count": 23,
     "metadata": {},
     "output_type": "execute_result"
    }
   ],
   "source": [
    "loc_pass = callset_filters_gamb_colu[\"3R/variants/filter_pass\"][:]\n",
    "gt_pass = gt[loc_pass]\n",
    "with progress():\n",
    "    ac_pass = gt_pass.count_alleles(max_allele=3).compute()\n",
    "ac_pass"
   ]
  },
  {
   "cell_type": "markdown",
   "metadata": {
    "colab_type": "text",
    "id": "sXH1I2Y7c2qT"
   },
   "source": [
    "# Concatenating data from multiple sample sets\n",
    "\n",
    "Often you may wish to work with multiple sample sets simultaneously, in which \n",
    "case data needs to concatenated.\n",
    "\n",
    "Concatenating can be done directly. E.g., concatenate sample metadata for two sample sets:\n",
    "\n"
   ]
  },
  {
   "cell_type": "code",
   "execution_count": 24,
   "metadata": {
    "colab": {
     "base_uri": "https://localhost:8080/",
     "height": 203
    },
    "colab_type": "code",
    "id": "OhowPcRubI8p",
    "outputId": "ab435aa7-fabd-454b-8a75-d4e0545191cb"
   },
   "outputs": [
    {
     "data": {
      "text/html": [
       "<div>\n",
       "<style scoped>\n",
       "    .dataframe tbody tr th:only-of-type {\n",
       "        vertical-align: middle;\n",
       "    }\n",
       "\n",
       "    .dataframe tbody tr th {\n",
       "        vertical-align: top;\n",
       "    }\n",
       "\n",
       "    .dataframe thead th {\n",
       "        text-align: right;\n",
       "    }\n",
       "</style>\n",
       "<table border=\"1\" class=\"dataframe\">\n",
       "  <thead>\n",
       "    <tr style=\"text-align: right;\">\n",
       "      <th></th>\n",
       "      <th>sample_id</th>\n",
       "      <th>partner_sample_id</th>\n",
       "      <th>contributor</th>\n",
       "      <th>country</th>\n",
       "      <th>location</th>\n",
       "      <th>year</th>\n",
       "      <th>month</th>\n",
       "      <th>latitude</th>\n",
       "      <th>longitude</th>\n",
       "      <th>sex_call</th>\n",
       "    </tr>\n",
       "  </thead>\n",
       "  <tbody>\n",
       "    <tr>\n",
       "      <th>0</th>\n",
       "      <td>BL0046-C</td>\n",
       "      <td>Plate_C_H6</td>\n",
       "      <td>Bilali Kabula</td>\n",
       "      <td>Tanzania</td>\n",
       "      <td>Muleba</td>\n",
       "      <td>2015</td>\n",
       "      <td>6</td>\n",
       "      <td>-1.962</td>\n",
       "      <td>31.651</td>\n",
       "      <td>F</td>\n",
       "    </tr>\n",
       "    <tr>\n",
       "      <th>1</th>\n",
       "      <td>BL0047-C</td>\n",
       "      <td>Plate_F_D4</td>\n",
       "      <td>Bilali Kabula</td>\n",
       "      <td>Tanzania</td>\n",
       "      <td>Muleba</td>\n",
       "      <td>2015</td>\n",
       "      <td>3</td>\n",
       "      <td>-1.962</td>\n",
       "      <td>31.651</td>\n",
       "      <td>F</td>\n",
       "    </tr>\n",
       "    <tr>\n",
       "      <th>2</th>\n",
       "      <td>BL0048-C</td>\n",
       "      <td>Plate_F_E4</td>\n",
       "      <td>Bilali Kabula</td>\n",
       "      <td>Tanzania</td>\n",
       "      <td>Muleba</td>\n",
       "      <td>2015</td>\n",
       "      <td>3</td>\n",
       "      <td>-1.962</td>\n",
       "      <td>31.651</td>\n",
       "      <td>F</td>\n",
       "    </tr>\n",
       "    <tr>\n",
       "      <th>3</th>\n",
       "      <td>BL0049-C</td>\n",
       "      <td>Plate_F_F4</td>\n",
       "      <td>Bilali Kabula</td>\n",
       "      <td>Tanzania</td>\n",
       "      <td>Muleba</td>\n",
       "      <td>2015</td>\n",
       "      <td>3</td>\n",
       "      <td>-1.962</td>\n",
       "      <td>31.651</td>\n",
       "      <td>F</td>\n",
       "    </tr>\n",
       "    <tr>\n",
       "      <th>4</th>\n",
       "      <td>BL0050-C</td>\n",
       "      <td>Plate_F_G4</td>\n",
       "      <td>Bilali Kabula</td>\n",
       "      <td>Tanzania</td>\n",
       "      <td>Muleba</td>\n",
       "      <td>2015</td>\n",
       "      <td>3</td>\n",
       "      <td>-1.962</td>\n",
       "      <td>31.651</td>\n",
       "      <td>F</td>\n",
       "    </tr>\n",
       "  </tbody>\n",
       "</table>\n",
       "</div>"
      ],
      "text/plain": [
       "  sample_id partner_sample_id    contributor   country location  year  month  \\\n",
       "0  BL0046-C        Plate_C_H6  Bilali Kabula  Tanzania   Muleba  2015      6   \n",
       "1  BL0047-C        Plate_F_D4  Bilali Kabula  Tanzania   Muleba  2015      3   \n",
       "2  BL0048-C        Plate_F_E4  Bilali Kabula  Tanzania   Muleba  2015      3   \n",
       "3  BL0049-C        Plate_F_F4  Bilali Kabula  Tanzania   Muleba  2015      3   \n",
       "4  BL0050-C        Plate_F_G4  Bilali Kabula  Tanzania   Muleba  2015      3   \n",
       "\n",
       "   latitude  longitude sex_call  \n",
       "0    -1.962     31.651        F  \n",
       "1    -1.962     31.651        F  \n",
       "2    -1.962     31.651        F  \n",
       "3    -1.962     31.651        F  \n",
       "4    -1.962     31.651        F  "
      ]
     },
     "execution_count": 24,
     "metadata": {},
     "output_type": "execute_result"
    }
   ],
   "source": [
    "sample_sets = [\"AG1000G-TZ\", \"AG1000G-UG\"]\n",
    "df_samples = pd.concat(\n",
    "    [cat.ag3.samples(sample_set=s).read() for s in sample_sets], \n",
    "    axis=0)\n",
    "df_samples.head()"
   ]
  },
  {
   "cell_type": "code",
   "execution_count": 25,
   "metadata": {
    "colab": {
     "base_uri": "https://localhost:8080/",
     "height": 155
    },
    "colab_type": "code",
    "id": "TyQ7C9rmEP6O",
    "outputId": "a594b311-5909-4998-d0a1-d6d7f4c0a1ef"
   },
   "outputs": [
    {
     "data": {
      "text/plain": [
       "country   location   year\n",
       "Tanzania  Moshi      2012     40\n",
       "          Muheza     2013     43\n",
       "          Muleba     2015    170\n",
       "          Tarime     2012     47\n",
       "Uganda    Kihihi     2012     96\n",
       "          Nagongera  2012    194\n",
       "dtype: int64"
      ]
     },
     "execution_count": 25,
     "metadata": {},
     "output_type": "execute_result"
    }
   ],
   "source": [
    "df_samples.groupby([\"country\", \"location\", \"year\"]).size()"
   ]
  },
  {
   "cell_type": "code",
   "execution_count": 26,
   "metadata": {
    "colab": {
     "base_uri": "https://localhost:8080/",
     "height": 34
    },
    "colab_type": "code",
    "id": "TSNVQM6SGRwP",
    "outputId": "87f547f2-e072-4041-ea21-e3a54a83ab4d"
   },
   "outputs": [
    {
     "data": {
      "text/plain": [
       "590"
      ]
     },
     "execution_count": 26,
     "metadata": {},
     "output_type": "execute_result"
    }
   ],
   "source": [
    "len(df_samples)"
   ]
  },
  {
   "cell_type": "markdown",
   "metadata": {
    "colab_type": "text",
    "id": "8joXdw-jE4NL"
   },
   "source": [
    "SNP genotypes for multiple sample sets can be concatenated using [dask](https://docs.dask.org/en/latest/array.html). E.g.:"
   ]
  },
  {
   "cell_type": "code",
   "execution_count": 27,
   "metadata": {
    "colab": {
     "base_uri": "https://localhost:8080/",
     "height": 203
    },
    "colab_type": "code",
    "id": "7foMW6eQW1id",
    "outputId": "3ca87e86-0104-4e48-f659-f51807429c59"
   },
   "outputs": [
    {
     "data": {
      "text/html": [
       "<div class=\"allel allel-DisplayAs2D\"><span>&lt;GenotypeDaskArray shape=(52226568, 590, 2) dtype=int8&gt;</span><table><thead><tr><th></th><th style=\"text-align: center\">0</th><th style=\"text-align: center\">1</th><th style=\"text-align: center\">2</th><th style=\"text-align: center\">3</th><th style=\"text-align: center\">4</th><th style=\"text-align: center\">...</th><th style=\"text-align: center\">585</th><th style=\"text-align: center\">586</th><th style=\"text-align: center\">587</th><th style=\"text-align: center\">588</th><th style=\"text-align: center\">589</th></tr></thead><tbody><tr><th style=\"text-align: center; background-color: white; border-right: 1px solid black; \">0</th><td style=\"text-align: center\">0/0</td><td style=\"text-align: center\">0/0</td><td style=\"text-align: center\">0/0</td><td style=\"text-align: center\">0/0</td><td style=\"text-align: center\">0/0</td><td style=\"text-align: center\">...</td><td style=\"text-align: center\">0/0</td><td style=\"text-align: center\">0/0</td><td style=\"text-align: center\">0/0</td><td style=\"text-align: center\">0/0</td><td style=\"text-align: center\">0/0</td></tr><tr><th style=\"text-align: center; background-color: white; border-right: 1px solid black; \">1</th><td style=\"text-align: center\">0/0</td><td style=\"text-align: center\">0/0</td><td style=\"text-align: center\">0/0</td><td style=\"text-align: center\">0/0</td><td style=\"text-align: center\">0/0</td><td style=\"text-align: center\">...</td><td style=\"text-align: center\">0/0</td><td style=\"text-align: center\">0/0</td><td style=\"text-align: center\">0/0</td><td style=\"text-align: center\">0/0</td><td style=\"text-align: center\">0/0</td></tr><tr><th style=\"text-align: center; background-color: white; border-right: 1px solid black; \">2</th><td style=\"text-align: center\">0/0</td><td style=\"text-align: center\">0/0</td><td style=\"text-align: center\">0/0</td><td style=\"text-align: center\">0/0</td><td style=\"text-align: center\">0/0</td><td style=\"text-align: center\">...</td><td style=\"text-align: center\">0/0</td><td style=\"text-align: center\">0/0</td><td style=\"text-align: center\">0/0</td><td style=\"text-align: center\">0/0</td><td style=\"text-align: center\">0/0</td></tr><tr><th style=\"text-align: center; background-color: white; border-right: 1px solid black; \">...</th><td style=\"text-align: center\" colspan=\"12\">...</td></tr><tr><th style=\"text-align: center; background-color: white; border-right: 1px solid black; \">52226565</th><td style=\"text-align: center\">./.</td><td style=\"text-align: center\">./.</td><td style=\"text-align: center\">./.</td><td style=\"text-align: center\">./.</td><td style=\"text-align: center\">./.</td><td style=\"text-align: center\">...</td><td style=\"text-align: center\">./.</td><td style=\"text-align: center\">./.</td><td style=\"text-align: center\">0/0</td><td style=\"text-align: center\">./.</td><td style=\"text-align: center\">0/0</td></tr><tr><th style=\"text-align: center; background-color: white; border-right: 1px solid black; \">52226566</th><td style=\"text-align: center\">./.</td><td style=\"text-align: center\">./.</td><td style=\"text-align: center\">./.</td><td style=\"text-align: center\">./.</td><td style=\"text-align: center\">./.</td><td style=\"text-align: center\">...</td><td style=\"text-align: center\">./.</td><td style=\"text-align: center\">./.</td><td style=\"text-align: center\">0/0</td><td style=\"text-align: center\">./.</td><td style=\"text-align: center\">0/0</td></tr><tr><th style=\"text-align: center; background-color: white; border-right: 1px solid black; \">52226567</th><td style=\"text-align: center\">./.</td><td style=\"text-align: center\">./.</td><td style=\"text-align: center\">./.</td><td style=\"text-align: center\">./.</td><td style=\"text-align: center\">./.</td><td style=\"text-align: center\">...</td><td style=\"text-align: center\">./.</td><td style=\"text-align: center\">./.</td><td style=\"text-align: center\">0/0</td><td style=\"text-align: center\">./.</td><td style=\"text-align: center\">./.</td></tr></tbody></table></div>"
      ],
      "text/plain": [
       "<GenotypeDaskArray shape=(52226568, 590, 2) dtype=int8>"
      ]
     },
     "execution_count": 27,
     "metadata": {},
     "output_type": "execute_result"
    }
   ],
   "source": [
    "callsets = [cat.ag3.snp_genotypes(sample_set=s).to_zarr() for s in sample_sets]\n",
    "gt_arrays = [da.from_array(callset[\"3R/calldata/GT\"]) for callset in callsets]\n",
    "\n",
    "# note that arrays are concatenated across axis 1\n",
    "gt = allel.GenotypeDaskArray(da.concatenate(gt_arrays, axis=1))\n",
    "gt"
   ]
  },
  {
   "cell_type": "markdown",
   "metadata": {
    "colab_type": "text",
    "id": "CL5zkD8-eOey"
   },
   "source": [
    "## Convenience functions for accessing data\n",
    "\n",
    "Below are some functions for accessing data more easily from the catalog."
   ]
  },
  {
   "cell_type": "code",
   "execution_count": 28,
   "metadata": {
    "colab": {},
    "colab_type": "code",
    "id": "d41i9KuyWs3m"
   },
   "outputs": [],
   "source": [
    "def load_mask(seq_id, mask, filters_analysis=\"dt_20200416\"):\n",
    "    \"\"\"Load a site filter mask.\n",
    "    \n",
    "    Parameters\n",
    "    ----------\n",
    "    seq_id : str\n",
    "        Chromosome arm.\n",
    "    mask : {\"gamb_colu\", \"arab\", \"gamb_colu_arab\"}\n",
    "        Mask species combination.\n",
    "    filters_analysis : str\n",
    "        Filtering model.\n",
    "\n",
    "    Returns\n",
    "    -------\n",
    "    filter_pass: numpy array\n",
    "        Boolean array where True means pass.\n",
    "\n",
    "    \"\"\" \n",
    "    \n",
    "    callset_filters = cat.ag3[f\"site_filters_{filters_analysis}_{mask}\"].to_zarr()\n",
    "    filter_pass = callset_filters[seq_id][\"variants/filter_pass\"][:]\n",
    "\n",
    "    return filter_pass"
   ]
  },
  {
   "cell_type": "code",
   "execution_count": 29,
   "metadata": {
    "colab": {
     "base_uri": "https://localhost:8080/",
     "height": 34
    },
    "colab_type": "code",
    "id": "bX4pBWPZtl9W",
    "outputId": "894836e3-967c-4ef2-a409-a0e26b78fb39"
   },
   "outputs": [
    {
     "data": {
      "text/plain": [
       "array([False, False, False, ..., False, False, False])"
      ]
     },
     "execution_count": 29,
     "metadata": {},
     "output_type": "execute_result"
    }
   ],
   "source": [
    "load_mask(\"3R\", \"gamb_colu\")"
   ]
  },
  {
   "cell_type": "code",
   "execution_count": 30,
   "metadata": {
    "colab": {},
    "colab_type": "code",
    "id": "HbmBM0BWtoCU"
   },
   "outputs": [],
   "source": [
    "def load_variants_array(seq_id, field, mask=None, filters_analysis=\"dt_20200416\"):\n",
    "    \"\"\"Load sites data.\n",
    "    \n",
    "    Parameters\n",
    "    ----------\n",
    "    seq_id : str\n",
    "        Chromosome arm.\n",
    "    field : {\"REF\", \"ALT\", \"POS\"}\n",
    "        Array to load.\n",
    "    mask : {\"gamb_colu\", \"arab\", \"gamb_colu_arab\"}\n",
    "        Mask species combination.\n",
    "    filters_analysis : str\n",
    "        Filtering model.\n",
    "\n",
    "    Returns\n",
    "    -------\n",
    "    arr : numpy array\n",
    "\n",
    "    \"\"\"\n",
    "    \n",
    "    callset_sites = cat.ag3.snp_sites.to_zarr()\n",
    "    arr = da.from_zarr(callset_sites[seq_id][\"variants\"][field])\n",
    "\n",
    "    if mask is not None:\n",
    "        filter_pass = load_mask(seq_id, mask, filters_analysis)\n",
    "        arr = da.compress(filter_pass, arr, axis=0)\n",
    "\n",
    "    return arr.compute()"
   ]
  },
  {
   "cell_type": "code",
   "execution_count": 31,
   "metadata": {
    "colab": {
     "base_uri": "https://localhost:8080/",
     "height": 51
    },
    "colab_type": "code",
    "id": "Ri1a9-GQu3k4",
    "outputId": "642f4446-1d4c-455d-abdc-8b4c94fefc8f"
   },
   "outputs": [
    {
     "data": {
      "text/plain": [
       "array([     180,      185,      236, ..., 53196502, 53196504, 53196522],\n",
       "      dtype=int32)"
      ]
     },
     "execution_count": 31,
     "metadata": {},
     "output_type": "execute_result"
    }
   ],
   "source": [
    "pos = load_variants_array(\"3R\", \"POS\", mask=\"gamb_colu\")\n",
    "pos"
   ]
  },
  {
   "cell_type": "code",
   "execution_count": 32,
   "metadata": {
    "colab": {},
    "colab_type": "code",
    "id": "_urDCdTktwcY"
   },
   "outputs": [],
   "source": [
    "def load_calldata_array(seq_id, sample_set, field, mask=None, filters_analysis=\"dt_20200416\"):\n",
    "    \"\"\"Load SNP genotype calldata for a given sample set.\n",
    "\n",
    "    Parameters\n",
    "    ----------\n",
    "    seq_id : str\n",
    "        Chromosome arm.\n",
    "    sample_set : str\n",
    "        Sample set.\n",
    "    field : {\"GT\", \"GQ\", \"AD\", \"MQ\"}\n",
    "        Array to load.\n",
    "    mask : {\"gamb_colu\", \"arab\", \"gamb_colu_arab\"}\n",
    "        Mask species combination.\n",
    "    filters_analysis : str\n",
    "        Filtering model.\n",
    "\n",
    "    Returns\n",
    "    -------\n",
    "    arr : dask.Array\n",
    "    \n",
    "    \"\"\"\n",
    "    \n",
    "    if isinstance(sample_set, str):\n",
    "        # load data for a single sample set\n",
    "        callset_genotypes = cat.ag3.snp_genotypes(sample_set=sample_set).to_zarr()\n",
    "        arr = da.from_zarr(callset_genotypes[f\"{seq_id}/calldata/{field}\"])\n",
    "                \n",
    "    elif isinstance(sample_set, (list, tuple)):\n",
    "        # load data for multiple sample sets\n",
    "        arr = da.concatenate(\n",
    "            [load_calldata_array(\n",
    "                seq_id=seq_id, \n",
    "                sample_set=x, \n",
    "                field=field, \n",
    "                mask=None) for x in sample_set], \n",
    "            axis=1)\n",
    "    \n",
    "    else:\n",
    "        raise TypeError(\"Type of `sample_set` must be string or list of strings\")\n",
    "        \n",
    "    if mask is not None:\n",
    "    \n",
    "        filter_pass = load_mask(seq_id, mask, filters_analysis)\n",
    "        arr = da.compress(filter_pass, arr, axis=0)\n",
    "\n",
    "    if field == \"GT\":\n",
    "        arr = allel.GenotypeDaskArray(arr)\n",
    "            \n",
    "    return arr"
   ]
  },
  {
   "cell_type": "code",
   "execution_count": 33,
   "metadata": {
    "colab": {
     "base_uri": "https://localhost:8080/",
     "height": 203
    },
    "colab_type": "code",
    "id": "YHO-GLZRvPaw",
    "outputId": "40b95bb8-0fc2-4463-ac71-fd57d3e6b1e1"
   },
   "outputs": [
    {
     "data": {
      "text/html": [
       "<div class=\"allel allel-DisplayAs2D\"><span>&lt;GenotypeDaskArray shape=(32529983, 590, 2) dtype=int8&gt;</span><table><thead><tr><th></th><th style=\"text-align: center\">0</th><th style=\"text-align: center\">1</th><th style=\"text-align: center\">2</th><th style=\"text-align: center\">3</th><th style=\"text-align: center\">4</th><th style=\"text-align: center\">...</th><th style=\"text-align: center\">585</th><th style=\"text-align: center\">586</th><th style=\"text-align: center\">587</th><th style=\"text-align: center\">588</th><th style=\"text-align: center\">589</th></tr></thead><tbody><tr><th style=\"text-align: center; background-color: white; border-right: 1px solid black; \">0</th><td style=\"text-align: center\">0/0</td><td style=\"text-align: center\">0/0</td><td style=\"text-align: center\">0/0</td><td style=\"text-align: center\">0/0</td><td style=\"text-align: center\">0/0</td><td style=\"text-align: center\">...</td><td style=\"text-align: center\">0/0</td><td style=\"text-align: center\">0/0</td><td style=\"text-align: center\">0/0</td><td style=\"text-align: center\">0/0</td><td style=\"text-align: center\">0/0</td></tr><tr><th style=\"text-align: center; background-color: white; border-right: 1px solid black; \">1</th><td style=\"text-align: center\">0/0</td><td style=\"text-align: center\">0/0</td><td style=\"text-align: center\">0/0</td><td style=\"text-align: center\">0/0</td><td style=\"text-align: center\">0/0</td><td style=\"text-align: center\">...</td><td style=\"text-align: center\">0/0</td><td style=\"text-align: center\">0/0</td><td style=\"text-align: center\">0/0</td><td style=\"text-align: center\">0/0</td><td style=\"text-align: center\">0/0</td></tr><tr><th style=\"text-align: center; background-color: white; border-right: 1px solid black; \">2</th><td style=\"text-align: center\">0/0</td><td style=\"text-align: center\">0/0</td><td style=\"text-align: center\">0/0</td><td style=\"text-align: center\">0/0</td><td style=\"text-align: center\">0/0</td><td style=\"text-align: center\">...</td><td style=\"text-align: center\">0/0</td><td style=\"text-align: center\">0/0</td><td style=\"text-align: center\">0/0</td><td style=\"text-align: center\">0/0</td><td style=\"text-align: center\">0/0</td></tr><tr><th style=\"text-align: center; background-color: white; border-right: 1px solid black; \">...</th><td style=\"text-align: center\" colspan=\"12\">...</td></tr><tr><th style=\"text-align: center; background-color: white; border-right: 1px solid black; \">32529980</th><td style=\"text-align: center\">0/0</td><td style=\"text-align: center\">0/0</td><td style=\"text-align: center\">0/0</td><td style=\"text-align: center\">0/0</td><td style=\"text-align: center\">0/0</td><td style=\"text-align: center\">...</td><td style=\"text-align: center\">0/0</td><td style=\"text-align: center\">0/0</td><td style=\"text-align: center\">0/0</td><td style=\"text-align: center\">0/0</td><td style=\"text-align: center\">0/0</td></tr><tr><th style=\"text-align: center; background-color: white; border-right: 1px solid black; \">32529981</th><td style=\"text-align: center\">0/0</td><td style=\"text-align: center\">0/0</td><td style=\"text-align: center\">0/0</td><td style=\"text-align: center\">0/0</td><td style=\"text-align: center\">0/0</td><td style=\"text-align: center\">...</td><td style=\"text-align: center\">0/0</td><td style=\"text-align: center\">0/0</td><td style=\"text-align: center\">0/0</td><td style=\"text-align: center\">0/0</td><td style=\"text-align: center\">0/0</td></tr><tr><th style=\"text-align: center; background-color: white; border-right: 1px solid black; \">32529982</th><td style=\"text-align: center\">0/0</td><td style=\"text-align: center\">0/0</td><td style=\"text-align: center\">0/0</td><td style=\"text-align: center\">0/0</td><td style=\"text-align: center\">0/0</td><td style=\"text-align: center\">...</td><td style=\"text-align: center\">0/0</td><td style=\"text-align: center\">0/0</td><td style=\"text-align: center\">0/0</td><td style=\"text-align: center\">0/0</td><td style=\"text-align: center\">0/0</td></tr></tbody></table></div>"
      ],
      "text/plain": [
       "<GenotypeDaskArray shape=(32529983, 590, 2) dtype=int8>"
      ]
     },
     "execution_count": 33,
     "metadata": {},
     "output_type": "execute_result"
    }
   ],
   "source": [
    "gt = load_calldata_array(\"2L\", sample_set=[\"AG1000G-TZ\", \"AG1000G-UG\"], field=\"GT\", mask=\"gamb_colu_arab\")\n",
    "gt"
   ]
  },
  {
   "cell_type": "code",
   "execution_count": 34,
   "metadata": {
    "colab": {},
    "colab_type": "code",
    "id": "U43Q90I702e-"
   },
   "outputs": [],
   "source": [
    "def load_sample_metadata(sample_set, \n",
    "                         include_aim_species_calls=True, \n",
    "                         include_pca_species_calls=False, \n",
    "                         species_analysis=\"species_calls_20200422\"):\n",
    "    \"\"\"Load sample metadata, optionally including species calls.\n",
    "\n",
    "    Parameters\n",
    "    ----------\n",
    "    sample_set : str\n",
    "        Sample set.\n",
    "    include_aim_species_calls : bool\n",
    "        If True, include AIM calls.\n",
    "    include_pca_species_calls : bool\n",
    "        If True, include PCA calls.\n",
    "    species_analysis : str\n",
    "        Species analysis.\n",
    "\n",
    "    Returns\n",
    "    -------\n",
    "    df : pandas.DataFrame\n",
    "\n",
    "    Notes\n",
    "    -----\n",
    "    If both AIMs and PCA are requested, species calls columns are appended with \n",
    "    \"_aim\" and \"_pca\" respectively.\n",
    "\n",
    "    \"\"\"\n",
    "\n",
    "    if isinstance(sample_set, str):\n",
    "\n",
    "        df = cat.ag3.samples(sample_set=sample_set).read()\n",
    "        df[\"sample_set\"] = sample_set\n",
    "\n",
    "        if include_aim_species_calls:\n",
    "            df_aim = cat.ag3[f\"{species_analysis}_aim\"](sample_set=sample_set).read()\n",
    "            \n",
    "        if include_pca_species_calls:\n",
    "            df_pca = cat.ag3[f\"{species_analysis}_pca\"](sample_set=sample_set).read()\n",
    "\n",
    "        df_species = None\n",
    "\n",
    "        if include_aim_species_calls and include_pca_species_calls:\n",
    "            df_species = df_aim.merge(df_pca, on=\"sample_id\", lsuffix=\"_aim\", rsuffix=\"_pca\", sort=False)\n",
    "            \n",
    "        elif include_aim_species_calls:\n",
    "            df_species = df_aim\n",
    "            \n",
    "        elif include_pca_species_calls:\n",
    "            df_species = df_species\n",
    "\n",
    "        if df_species is not None:\n",
    "            df = df.merge(df_species, on=\"sample_id\", sort=False)\n",
    "    \n",
    "        return df\n",
    "\n",
    "    elif isinstance(sample_set, (list, tuple)):\n",
    "\n",
    "        return pd.concat(\n",
    "            [load_sample_metadata(\n",
    "                sample_set=s, \n",
    "                include_aim_species_calls=include_aim_species_calls, \n",
    "                include_pca_species_calls=include_pca_species_calls, \n",
    "                species_analysis=species_analysis) \n",
    "             for s in sample_set],\n",
    "            axis=0, sort=False)\n",
    "    \n",
    "    else:\n",
    "        raise TypeError(\"Type of `sample_set` must be string or list of strings\")\n",
    "    "
   ]
  },
  {
   "cell_type": "code",
   "execution_count": 35,
   "metadata": {
    "colab": {
     "base_uri": "https://localhost:8080/",
     "height": 223
    },
    "colab_type": "code",
    "id": "g4w_Oz4o3WCv",
    "outputId": "6eb2ff5a-6b7e-44d9-8173-efb5c5bed8d4"
   },
   "outputs": [
    {
     "data": {
      "text/html": [
       "<div>\n",
       "<style scoped>\n",
       "    .dataframe tbody tr th:only-of-type {\n",
       "        vertical-align: middle;\n",
       "    }\n",
       "\n",
       "    .dataframe tbody tr th {\n",
       "        vertical-align: top;\n",
       "    }\n",
       "\n",
       "    .dataframe thead th {\n",
       "        text-align: right;\n",
       "    }\n",
       "</style>\n",
       "<table border=\"1\" class=\"dataframe\">\n",
       "  <thead>\n",
       "    <tr style=\"text-align: right;\">\n",
       "      <th></th>\n",
       "      <th>sample_id</th>\n",
       "      <th>partner_sample_id</th>\n",
       "      <th>contributor</th>\n",
       "      <th>country</th>\n",
       "      <th>location</th>\n",
       "      <th>year</th>\n",
       "      <th>month</th>\n",
       "      <th>latitude</th>\n",
       "      <th>longitude</th>\n",
       "      <th>sex_call</th>\n",
       "      <th>sample_set</th>\n",
       "      <th>aim_fraction_colu</th>\n",
       "      <th>aim_fraction_arab</th>\n",
       "      <th>species_gambcolu_arabiensis</th>\n",
       "      <th>species_gambiae_coluzzii</th>\n",
       "    </tr>\n",
       "  </thead>\n",
       "  <tbody>\n",
       "    <tr>\n",
       "      <th>0</th>\n",
       "      <td>BL0046-C</td>\n",
       "      <td>Plate_C_H6</td>\n",
       "      <td>Bilali Kabula</td>\n",
       "      <td>Tanzania</td>\n",
       "      <td>Muleba</td>\n",
       "      <td>2015</td>\n",
       "      <td>6</td>\n",
       "      <td>-1.962</td>\n",
       "      <td>31.651</td>\n",
       "      <td>F</td>\n",
       "      <td>AG1000G-TZ</td>\n",
       "      <td>0.125</td>\n",
       "      <td>0.005</td>\n",
       "      <td>gamb_colu</td>\n",
       "      <td>intermediate</td>\n",
       "    </tr>\n",
       "    <tr>\n",
       "      <th>1</th>\n",
       "      <td>BL0047-C</td>\n",
       "      <td>Plate_F_D4</td>\n",
       "      <td>Bilali Kabula</td>\n",
       "      <td>Tanzania</td>\n",
       "      <td>Muleba</td>\n",
       "      <td>2015</td>\n",
       "      <td>3</td>\n",
       "      <td>-1.962</td>\n",
       "      <td>31.651</td>\n",
       "      <td>F</td>\n",
       "      <td>AG1000G-TZ</td>\n",
       "      <td>0.459</td>\n",
       "      <td>0.745</td>\n",
       "      <td>arabiensis</td>\n",
       "      <td>NaN</td>\n",
       "    </tr>\n",
       "    <tr>\n",
       "      <th>2</th>\n",
       "      <td>BL0048-C</td>\n",
       "      <td>Plate_F_E4</td>\n",
       "      <td>Bilali Kabula</td>\n",
       "      <td>Tanzania</td>\n",
       "      <td>Muleba</td>\n",
       "      <td>2015</td>\n",
       "      <td>3</td>\n",
       "      <td>-1.962</td>\n",
       "      <td>31.651</td>\n",
       "      <td>F</td>\n",
       "      <td>AG1000G-TZ</td>\n",
       "      <td>0.455</td>\n",
       "      <td>0.742</td>\n",
       "      <td>arabiensis</td>\n",
       "      <td>NaN</td>\n",
       "    </tr>\n",
       "    <tr>\n",
       "      <th>3</th>\n",
       "      <td>BL0049-C</td>\n",
       "      <td>Plate_F_F4</td>\n",
       "      <td>Bilali Kabula</td>\n",
       "      <td>Tanzania</td>\n",
       "      <td>Muleba</td>\n",
       "      <td>2015</td>\n",
       "      <td>3</td>\n",
       "      <td>-1.962</td>\n",
       "      <td>31.651</td>\n",
       "      <td>F</td>\n",
       "      <td>AG1000G-TZ</td>\n",
       "      <td>0.455</td>\n",
       "      <td>0.744</td>\n",
       "      <td>arabiensis</td>\n",
       "      <td>NaN</td>\n",
       "    </tr>\n",
       "    <tr>\n",
       "      <th>4</th>\n",
       "      <td>BL0050-C</td>\n",
       "      <td>Plate_F_G4</td>\n",
       "      <td>Bilali Kabula</td>\n",
       "      <td>Tanzania</td>\n",
       "      <td>Muleba</td>\n",
       "      <td>2015</td>\n",
       "      <td>3</td>\n",
       "      <td>-1.962</td>\n",
       "      <td>31.651</td>\n",
       "      <td>F</td>\n",
       "      <td>AG1000G-TZ</td>\n",
       "      <td>0.451</td>\n",
       "      <td>0.735</td>\n",
       "      <td>arabiensis</td>\n",
       "      <td>NaN</td>\n",
       "    </tr>\n",
       "  </tbody>\n",
       "</table>\n",
       "</div>"
      ],
      "text/plain": [
       "  sample_id partner_sample_id    contributor   country location  year  month  \\\n",
       "0  BL0046-C        Plate_C_H6  Bilali Kabula  Tanzania   Muleba  2015      6   \n",
       "1  BL0047-C        Plate_F_D4  Bilali Kabula  Tanzania   Muleba  2015      3   \n",
       "2  BL0048-C        Plate_F_E4  Bilali Kabula  Tanzania   Muleba  2015      3   \n",
       "3  BL0049-C        Plate_F_F4  Bilali Kabula  Tanzania   Muleba  2015      3   \n",
       "4  BL0050-C        Plate_F_G4  Bilali Kabula  Tanzania   Muleba  2015      3   \n",
       "\n",
       "   latitude  longitude sex_call  sample_set  aim_fraction_colu  \\\n",
       "0    -1.962     31.651        F  AG1000G-TZ              0.125   \n",
       "1    -1.962     31.651        F  AG1000G-TZ              0.459   \n",
       "2    -1.962     31.651        F  AG1000G-TZ              0.455   \n",
       "3    -1.962     31.651        F  AG1000G-TZ              0.455   \n",
       "4    -1.962     31.651        F  AG1000G-TZ              0.451   \n",
       "\n",
       "   aim_fraction_arab species_gambcolu_arabiensis species_gambiae_coluzzii  \n",
       "0              0.005                   gamb_colu             intermediate  \n",
       "1              0.745                  arabiensis                      NaN  \n",
       "2              0.742                  arabiensis                      NaN  \n",
       "3              0.744                  arabiensis                      NaN  \n",
       "4              0.735                  arabiensis                      NaN  "
      ]
     },
     "execution_count": 35,
     "metadata": {},
     "output_type": "execute_result"
    }
   ],
   "source": [
    "df_meta = load_sample_metadata(sample_set=[\"AG1000G-TZ\", \"AG1000G-UG\"])\n",
    "df_meta.head()"
   ]
  },
  {
   "cell_type": "code",
   "execution_count": 36,
   "metadata": {
    "colab": {
     "base_uri": "https://localhost:8080/",
     "height": 34
    },
    "colab_type": "code",
    "id": "8lI1tvDk3Zpw",
    "outputId": "7066af0a-5236-45d3-f8e8-af3d23c3cd5f"
   },
   "outputs": [
    {
     "data": {
      "text/plain": [
       "(590, 15)"
      ]
     },
     "execution_count": 36,
     "metadata": {},
     "output_type": "execute_result"
    }
   ],
   "source": [
    "df_meta.shape"
   ]
  },
  {
   "cell_type": "code",
   "execution_count": 37,
   "metadata": {
    "colab": {
     "base_uri": "https://localhost:8080/",
     "height": 276
    },
    "colab_type": "code",
    "id": "qI3abJYlO7eB",
    "outputId": "b2973373-1971-4f49-de34-ef374694df0c"
   },
   "outputs": [
    {
     "data": {
      "text/plain": [
       "country   location   species_gambcolu_arabiensis  species_gambiae_coluzzii\n",
       "Tanzania  Moshi      arabiensis                                                40\n",
       "          Muheza     arabiensis                                                 1\n",
       "                     gamb_colu                    gambiae                      36\n",
       "                                                  intermediate                  6\n",
       "          Muleba     arabiensis                                               137\n",
       "                     gamb_colu                    gambiae                      32\n",
       "                                                  intermediate                  1\n",
       "          Tarime     arabiensis                                                47\n",
       "Uganda    Kihihi     arabiensis                                                 1\n",
       "                     gamb_colu                    gambiae                      95\n",
       "          Nagongera  arabiensis                                                81\n",
       "                     gamb_colu                    gambiae                     112\n",
       "                     intermediate                                               1\n",
       "dtype: int64"
      ]
     },
     "execution_count": 37,
     "metadata": {},
     "output_type": "execute_result"
    }
   ],
   "source": [
    "df_meta.fillna(\"\").groupby(by=[\"country\", \"location\", \"species_gambcolu_arabiensis\", \"species_gambiae_coluzzii\"]).size()"
   ]
  },
  {
   "cell_type": "markdown",
   "metadata": {
    "colab_type": "text",
    "id": "5MJqg5Pw3vfU"
   },
   "source": [
    "## Example analysis\n",
    "\n",
    "- Plot nucleotide diversity in AG1000G-BF-A and AG1000G-BF-B over 2L\n",
    "\n",
    "- Plot nucleotide diversity in the above sample sets, but only in _An. coluzzii_ according to AIM species call"
   ]
  },
  {
   "cell_type": "code",
   "execution_count": 38,
   "metadata": {
    "colab": {},
    "colab_type": "code",
    "id": "iU7dz6LtSF_F"
   },
   "outputs": [],
   "source": [
    "sample_sets = [\"AG1000G-BF-A\", \"AG1000G-BF-B\"]\n",
    "seq_id = \"2L\"\n",
    "mask = \"gamb_colu\""
   ]
  },
  {
   "cell_type": "code",
   "execution_count": 39,
   "metadata": {
    "colab": {},
    "colab_type": "code",
    "id": "MKyPtlncSfN-"
   },
   "outputs": [],
   "source": [
    "filter_pass = load_mask(seq_id=seq_id, mask=mask)"
   ]
  },
  {
   "cell_type": "code",
   "execution_count": 40,
   "metadata": {
    "colab": {
     "base_uri": "https://localhost:8080/",
     "height": 203
    },
    "colab_type": "code",
    "id": "9abA1zzA3fxI",
    "outputId": "67caaca0-5191-42c9-93e5-47b979e497c8"
   },
   "outputs": [
    {
     "data": {
      "text/html": [
       "<div class=\"allel allel-DisplayAs2D\"><span>&lt;GenotypeDaskArray shape=(36005131, 283, 2) dtype=int8&gt;</span><table><thead><tr><th></th><th style=\"text-align: center\">0</th><th style=\"text-align: center\">1</th><th style=\"text-align: center\">2</th><th style=\"text-align: center\">3</th><th style=\"text-align: center\">4</th><th style=\"text-align: center\">...</th><th style=\"text-align: center\">278</th><th style=\"text-align: center\">279</th><th style=\"text-align: center\">280</th><th style=\"text-align: center\">281</th><th style=\"text-align: center\">282</th></tr></thead><tbody><tr><th style=\"text-align: center; background-color: white; border-right: 1px solid black; \">0</th><td style=\"text-align: center\">0/0</td><td style=\"text-align: center\">0/0</td><td style=\"text-align: center\">0/0</td><td style=\"text-align: center\">0/0</td><td style=\"text-align: center\">0/0</td><td style=\"text-align: center\">...</td><td style=\"text-align: center\">0/0</td><td style=\"text-align: center\">0/0</td><td style=\"text-align: center\">0/0</td><td style=\"text-align: center\">0/0</td><td style=\"text-align: center\">0/0</td></tr><tr><th style=\"text-align: center; background-color: white; border-right: 1px solid black; \">1</th><td style=\"text-align: center\">0/0</td><td style=\"text-align: center\">0/0</td><td style=\"text-align: center\">0/0</td><td style=\"text-align: center\">0/0</td><td style=\"text-align: center\">0/0</td><td style=\"text-align: center\">...</td><td style=\"text-align: center\">0/0</td><td style=\"text-align: center\">0/0</td><td style=\"text-align: center\">0/0</td><td style=\"text-align: center\">0/0</td><td style=\"text-align: center\">0/0</td></tr><tr><th style=\"text-align: center; background-color: white; border-right: 1px solid black; \">2</th><td style=\"text-align: center\">0/0</td><td style=\"text-align: center\">0/0</td><td style=\"text-align: center\">0/0</td><td style=\"text-align: center\">0/0</td><td style=\"text-align: center\">0/0</td><td style=\"text-align: center\">...</td><td style=\"text-align: center\">0/0</td><td style=\"text-align: center\">0/0</td><td style=\"text-align: center\">0/0</td><td style=\"text-align: center\">0/0</td><td style=\"text-align: center\">0/0</td></tr><tr><th style=\"text-align: center; background-color: white; border-right: 1px solid black; \">...</th><td style=\"text-align: center\" colspan=\"12\">...</td></tr><tr><th style=\"text-align: center; background-color: white; border-right: 1px solid black; \">36005128</th><td style=\"text-align: center\">0/0</td><td style=\"text-align: center\">0/0</td><td style=\"text-align: center\">0/0</td><td style=\"text-align: center\">0/0</td><td style=\"text-align: center\">0/0</td><td style=\"text-align: center\">...</td><td style=\"text-align: center\">0/0</td><td style=\"text-align: center\">0/0</td><td style=\"text-align: center\">0/0</td><td style=\"text-align: center\">0/0</td><td style=\"text-align: center\">0/0</td></tr><tr><th style=\"text-align: center; background-color: white; border-right: 1px solid black; \">36005129</th><td style=\"text-align: center\">0/0</td><td style=\"text-align: center\">0/0</td><td style=\"text-align: center\">0/0</td><td style=\"text-align: center\">0/0</td><td style=\"text-align: center\">0/0</td><td style=\"text-align: center\">...</td><td style=\"text-align: center\">0/0</td><td style=\"text-align: center\">0/0</td><td style=\"text-align: center\">0/0</td><td style=\"text-align: center\">0/0</td><td style=\"text-align: center\">0/0</td></tr><tr><th style=\"text-align: center; background-color: white; border-right: 1px solid black; \">36005130</th><td style=\"text-align: center\">0/0</td><td style=\"text-align: center\">0/0</td><td style=\"text-align: center\">0/0</td><td style=\"text-align: center\">0/0</td><td style=\"text-align: center\">0/0</td><td style=\"text-align: center\">...</td><td style=\"text-align: center\">0/0</td><td style=\"text-align: center\">0/0</td><td style=\"text-align: center\">0/0</td><td style=\"text-align: center\">0/0</td><td style=\"text-align: center\">0/0</td></tr></tbody></table></div>"
      ],
      "text/plain": [
       "<GenotypeDaskArray shape=(36005131, 283, 2) dtype=int8>"
      ]
     },
     "execution_count": 40,
     "metadata": {},
     "output_type": "execute_result"
    }
   ],
   "source": [
    "gt = load_calldata_array(seq_id=seq_id, field=\"GT\", sample_set=sample_sets, mask=mask)\n",
    "gt"
   ]
  },
  {
   "cell_type": "code",
   "execution_count": 41,
   "metadata": {
    "colab": {
     "base_uri": "https://localhost:8080/",
     "height": 51
    },
    "colab_type": "code",
    "id": "dJVB6jfQ4HWW",
    "outputId": "36ef33a1-0c4c-4e5c-8314-93021edca392"
   },
   "outputs": [
    {
     "data": {
      "text/plain": [
       "array([    1215,     1216,     1231, ..., 49356403, 49356404, 49359100],\n",
       "      dtype=int32)"
      ]
     },
     "execution_count": 41,
     "metadata": {},
     "output_type": "execute_result"
    }
   ],
   "source": [
    "pos = load_variants_array(seq_id=seq_id, field=\"POS\", mask=mask)\n",
    "pos"
   ]
  },
  {
   "cell_type": "code",
   "execution_count": 42,
   "metadata": {
    "colab": {
     "base_uri": "https://localhost:8080/",
     "height": 68
    },
    "colab_type": "code",
    "id": "EhjK1rV04IDV",
    "outputId": "dd8b0af9-ee59-4c76-9b30-2ff1639fb292"
   },
   "outputs": [
    {
     "name": "stdout",
     "output_type": "stream",
     "text": [
      "[########################################] | 100% Completed | 10min 47.9s\n"
     ]
    },
    {
     "ename": "ValueError",
     "evalue": "Not all positions are covered by is_accessible.",
     "output_type": "error",
     "traceback": [
      "\u001b[0;31m---------------------------------------------------------------------------\u001b[0m",
      "\u001b[0;31mValueError\u001b[0m                                Traceback (most recent call last)",
      "\u001b[0;32m<ipython-input-42-a952dcfe4104>\u001b[0m in \u001b[0;36m<module>\u001b[0;34m\u001b[0m\n\u001b[1;32m      2\u001b[0m     \u001b[0mac\u001b[0m \u001b[0;34m=\u001b[0m \u001b[0mgt\u001b[0m\u001b[0;34m.\u001b[0m\u001b[0mcount_alleles\u001b[0m\u001b[0;34m(\u001b[0m\u001b[0mmax_allele\u001b[0m\u001b[0;34m=\u001b[0m\u001b[0;36m3\u001b[0m\u001b[0;34m)\u001b[0m\u001b[0;34m.\u001b[0m\u001b[0mcompute\u001b[0m\u001b[0;34m(\u001b[0m\u001b[0;34m)\u001b[0m\u001b[0;34m\u001b[0m\u001b[0;34m\u001b[0m\u001b[0m\n\u001b[1;32m      3\u001b[0m     pi, windows, nbases, counts = allel.windowed_diversity(\n\u001b[0;32m----> 4\u001b[0;31m         pos, ac, is_accessible=filter_pass, size=100_000)\n\u001b[0m",
      "\u001b[0;32m~/dev/vector-ops/binder/deps/conda/envs/vector-ops-v2.5.1/lib/python3.7/site-packages/allel/stats/diversity.py\u001b[0m in \u001b[0;36mwindowed_diversity\u001b[0;34m(pos, ac, size, start, stop, step, windows, is_accessible, fill)\u001b[0m\n\u001b[1;32m    475\u001b[0m     \u001b[0mis_accessible\u001b[0m \u001b[0;34m=\u001b[0m \u001b[0masarray_ndim\u001b[0m\u001b[0;34m(\u001b[0m\u001b[0mis_accessible\u001b[0m\u001b[0;34m,\u001b[0m \u001b[0;36m1\u001b[0m\u001b[0;34m,\u001b[0m \u001b[0mallow_none\u001b[0m\u001b[0;34m=\u001b[0m\u001b[0;32mTrue\u001b[0m\u001b[0;34m)\u001b[0m\u001b[0;34m\u001b[0m\u001b[0;34m\u001b[0m\u001b[0m\n\u001b[1;32m    476\u001b[0m     \u001b[0;31m# masking inaccessible sites from pos and ac\u001b[0m\u001b[0;34m\u001b[0m\u001b[0;34m\u001b[0m\u001b[0;34m\u001b[0m\u001b[0m\n\u001b[0;32m--> 477\u001b[0;31m     \u001b[0mpos\u001b[0m\u001b[0;34m,\u001b[0m \u001b[0mac\u001b[0m \u001b[0;34m=\u001b[0m \u001b[0mmask_inaccessible\u001b[0m\u001b[0;34m(\u001b[0m\u001b[0mis_accessible\u001b[0m\u001b[0;34m,\u001b[0m \u001b[0mpos\u001b[0m\u001b[0;34m,\u001b[0m \u001b[0mac\u001b[0m\u001b[0;34m)\u001b[0m\u001b[0;34m\u001b[0m\u001b[0;34m\u001b[0m\u001b[0m\n\u001b[0m\u001b[1;32m    478\u001b[0m \u001b[0;34m\u001b[0m\u001b[0m\n\u001b[1;32m    479\u001b[0m     \u001b[0;31m# calculate mean pairwise difference\u001b[0m\u001b[0;34m\u001b[0m\u001b[0;34m\u001b[0m\u001b[0;34m\u001b[0m\u001b[0m\n",
      "\u001b[0;32m~/dev/vector-ops/binder/deps/conda/envs/vector-ops-v2.5.1/lib/python3.7/site-packages/allel/util.py\u001b[0m in \u001b[0;36mmask_inaccessible\u001b[0;34m(is_accessible, pos, *arrays)\u001b[0m\n\u001b[1;32m    179\u001b[0m         \u001b[0;32mif\u001b[0m \u001b[0mnp\u001b[0m\u001b[0;34m.\u001b[0m\u001b[0mmax\u001b[0m\u001b[0;34m(\u001b[0m\u001b[0mpos\u001b[0m\u001b[0;34m)\u001b[0m \u001b[0;34m>\u001b[0m \u001b[0mlen\u001b[0m\u001b[0;34m(\u001b[0m\u001b[0mis_accessible\u001b[0m\u001b[0;34m)\u001b[0m\u001b[0;34m:\u001b[0m\u001b[0;34m\u001b[0m\u001b[0;34m\u001b[0m\u001b[0m\n\u001b[1;32m    180\u001b[0m             raise ValueError(\n\u001b[0;32m--> 181\u001b[0;31m                 \u001b[0;34m'Not all positions are covered by is_accessible.'\u001b[0m\u001b[0;34m\u001b[0m\u001b[0;34m\u001b[0m\u001b[0m\n\u001b[0m\u001b[1;32m    182\u001b[0m                 )\n\u001b[1;32m    183\u001b[0m         \u001b[0;31m# check array shapes\u001b[0m\u001b[0;34m\u001b[0m\u001b[0;34m\u001b[0m\u001b[0;34m\u001b[0m\u001b[0m\n",
      "\u001b[0;31mValueError\u001b[0m: Not all positions are covered by is_accessible."
     ]
    }
   ],
   "source": [
    "with progress():\n",
    "    ac = gt.count_alleles(max_allele=3).compute()\n",
    "    pi, windows, nbases, counts = allel.windowed_diversity(\n",
    "        pos, ac, is_accessible=filter_pass, size=100_000)"
   ]
  },
  {
   "cell_type": "code",
   "execution_count": null,
   "metadata": {
    "colab": {},
    "colab_type": "code",
    "id": "otm6oPRs6UO2"
   },
   "outputs": [],
   "source": [
    "# mask windows with less than 10_000 accessible bases = 10%\n",
    "pi[nbases < 10_000] = np.nan"
   ]
  },
  {
   "cell_type": "code",
   "execution_count": null,
   "metadata": {
    "colab": {
     "base_uri": "https://localhost:8080/",
     "height": 334
    },
    "colab_type": "code",
    "id": "X3jhdzZD4MN9",
    "outputId": "e1f688aa-f10b-44e9-ec97-98d76d8f9b4a"
   },
   "outputs": [],
   "source": [
    "f, ax = plt.subplots(figsize=(8, 5))\n",
    "\n",
    "ax.plot(windows.mean(axis=1), pi)\n",
    "ax.grid(True)\n",
    "ax.set_ylabel(\"nucleotide diversity\")\n",
    "ax.set_xlabel(\"genomic position (bp)\");"
   ]
  },
  {
   "cell_type": "code",
   "execution_count": null,
   "metadata": {
    "colab": {},
    "colab_type": "code",
    "id": "DIFdwzPC4OSl"
   },
   "outputs": [],
   "source": [
    "df_meta = load_sample_metadata(sample_set=sample_sets)"
   ]
  },
  {
   "cell_type": "code",
   "execution_count": null,
   "metadata": {
    "colab": {},
    "colab_type": "code",
    "id": "1YsaBj4P6DAu"
   },
   "outputs": [],
   "source": [
    "# use the metadata to define a boolean that represents samples to keep\n",
    "selected_samples = df_meta.species_gambiae_coluzzii == \"coluzzii\"\n",
    "gt_col = gt.compress(selected_samples.values, axis=1)"
   ]
  },
  {
   "cell_type": "code",
   "execution_count": null,
   "metadata": {
    "colab": {
     "base_uri": "https://localhost:8080/",
     "height": 68
    },
    "colab_type": "code",
    "id": "t3FT4D5U6L9A",
    "outputId": "a1940c66-0ff3-4bd7-ba6e-0995b960f3e0"
   },
   "outputs": [],
   "source": [
    "with progress():\n",
    "    ac_col = gt_col.count_alleles(max_allele=3).compute()\n",
    "    pi_col, windows_col, nbases_col, counts_col = allel.windowed_diversity(\n",
    "        pos, ac_col, is_accessible=filter_pass, size=100_000)"
   ]
  },
  {
   "cell_type": "code",
   "execution_count": null,
   "metadata": {
    "colab": {},
    "colab_type": "code",
    "id": "ZpdGwZk16QpO"
   },
   "outputs": [],
   "source": [
    "# mask windows with less than 10_000 accessible bases 10%\n",
    "pi_col[nbases_col < 10_000] = np.nan"
   ]
  },
  {
   "cell_type": "code",
   "execution_count": null,
   "metadata": {
    "colab": {
     "base_uri": "https://localhost:8080/",
     "height": 351
    },
    "colab_type": "code",
    "id": "zpsBb9mw6k7Z",
    "outputId": "5a25910f-19f6-4732-f6c5-17170eb128b4"
   },
   "outputs": [],
   "source": [
    "f, ax = plt.subplots(figsize=(8, 5))\n",
    "\n",
    "ax.plot(windows.mean(axis=1), pi_col, color=\"red\")\n",
    "ax.grid(True)\n",
    "ax.set_ylabel(\"nucleotide diversity\")\n",
    "ax.set_xlabel(\"genomic position (bp)\")"
   ]
  },
  {
   "cell_type": "code",
   "execution_count": null,
   "metadata": {
    "colab": {},
    "colab_type": "code",
    "id": "xAreXD3ySw_e"
   },
   "outputs": [],
   "source": []
  }
 ],
 "metadata": {
  "colab": {
   "collapsed_sections": [],
   "include_colab_link": true,
   "name": "getting_started_google_colab.ipynb",
   "provenance": []
  },
  "kernelspec": {
   "display_name": "Python 3",
   "language": "python",
   "name": "python3"
  },
  "language_info": {
   "codemirror_mode": {
    "name": "ipython",
    "version": 3
   },
   "file_extension": ".py",
   "mimetype": "text/x-python",
   "name": "python",
   "nbconvert_exporter": "python",
   "pygments_lexer": "ipython3",
   "version": "3.7.6"
  }
 },
 "nbformat": 4,
 "nbformat_minor": 1
}
